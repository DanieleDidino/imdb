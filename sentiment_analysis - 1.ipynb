{
 "cells": [
  {
   "cell_type": "markdown",
   "metadata": {},
   "source": [
    "# IMDB & Embedding\n",
    "\n",
    "Sentiment analysis on the IMDB data base with pretrained embeddings, RNN, LSTM cell, etc."
   ]
  },
  {
   "cell_type": "markdown",
   "metadata": {},
   "source": [
    "# Load libraries"
   ]
  },
  {
   "cell_type": "code",
   "execution_count": 1,
   "metadata": {},
   "outputs": [],
   "source": [
    "import numpy as np\n",
    "import matplotlib.pyplot as plt\n",
    "import tensorflow as tf\n",
    "from tensorflow.keras.datasets import imdb\n",
    "from tensorflow import keras \n",
    "from tensorflow.keras import layers\n",
    "import keras_tuner as kt\n",
    "import tensorflow_hub as hub\n",
    "\n",
    "# Set seeds\n",
    "np.random.seed(42)\n",
    "tf.random.set_seed(42)"
   ]
  },
  {
   "cell_type": "markdown",
   "metadata": {},
   "source": [
    "# Test GPU"
   ]
  },
  {
   "cell_type": "code",
   "execution_count": 2,
   "metadata": {},
   "outputs": [
    {
     "name": "stdout",
     "output_type": "stream",
     "text": [
      "TensorFlow Version: 2.7.0\n",
      "KerasTuner Version: 1.1.0\n",
      "\n",
      "Device name:\n",
      "/device:GPU:0\n",
      "\n",
      "List physical devices:\n",
      "[PhysicalDevice(name='/physical_device:GPU:0', device_type='GPU')]\n",
      "\n",
      "with GPU (CUDA or ROCm) support?\n",
      "True\n",
      "\n",
      "with CUDA (GPU) support?\n",
      "True\n"
     ]
    }
   ],
   "source": [
    "print(f\"TensorFlow Version: {tf.__version__}\")\n",
    "print(f\"KerasTuner Version: {kt.__version__}\")\n",
    "\n",
    "print('\\nDevice name:')\n",
    "print(tf.test.gpu_device_name())\n",
    "\n",
    "print('\\nList physical devices:')\n",
    "print(tf.config.list_physical_devices('GPU'))\n",
    "\n",
    "# Returns whether TensorFlow was built with \n",
    "# GPU (CUDA or ROCm) support\n",
    "print('\\nwith GPU (CUDA or ROCm) support?')\n",
    "print(tf.test.is_built_with_gpu_support())\n",
    "\n",
    "# Returns whether TensorFlow was built with \n",
    "# CUDA (GPU) support\n",
    "print('\\nwith CUDA (GPU) support?')\n",
    "print(tf.test.is_built_with_cuda())\n"
   ]
  },
  {
   "cell_type": "markdown",
   "metadata": {},
   "source": [
    "# My functions"
   ]
  },
  {
   "cell_type": "code",
   "execution_count": 3,
   "metadata": {},
   "outputs": [],
   "source": [
    "def plot_loss_acc(history_dict):\n",
    "    # Function to plot losses and accuracies\n",
    "\n",
    "    loss_values = history_dict[\"loss\"]\n",
    "    val_loss_values = history_dict[\"val_loss\"]\n",
    "\n",
    "    acc = history_dict[\"accuracy\"]\n",
    "    val_acc = history_dict[\"val_accuracy\"]\n",
    "\n",
    "    epochs = range(1, len(loss_values) + 1)\n",
    "    f, axes = plt.subplots(1, 2, figsize=(15, 5))\n",
    "    # Loss\n",
    "    axes[0].plot(epochs, loss_values, \"bo-\", label=\"Training loss\")\n",
    "    axes[0].plot(epochs, val_loss_values, \"rv-\", label=\"Validation loss\")\n",
    "    axes[0].set_title(\"Model loss\")\n",
    "    axes[0].set_xlabel(\"Epochs\")\n",
    "    axes[0].set_ylabel(\"Loss\")\n",
    "    axes[0].legend()\n",
    "    # Accuracy\n",
    "    axes[1].plot(epochs, acc, \"bo-\", label=\"Training acc\")\n",
    "    axes[1].plot(epochs, val_acc, \"rv-\", label=\"Validation acc\")\n",
    "    axes[1].set_title(\"Model accuracy\")\n",
    "    axes[1].set_xlabel(\"Epochs\")\n",
    "    axes[1].set_ylabel(\"Accuracy\")\n",
    "    axes[1].legend()\n",
    "    #\n",
    "    plt.show()"
   ]
  },
  {
   "cell_type": "markdown",
   "metadata": {},
   "source": [
    "# Load data"
   ]
  },
  {
   "cell_type": "code",
   "execution_count": 4,
   "metadata": {},
   "outputs": [],
   "source": [
    "# num_words: integer or \"None\" (Default = \"None\" = all words are kept)\n",
    "# Words are ranked by how often they occur (in the training set) and only the \n",
    "# \"num_words\" most frequent words are kept. Any less frequent word will appear\n",
    "# as \"oov_char\" value in the sequence data.\n",
    "(train_data, train_labels), (test_data, test_labels) = imdb.load_data(num_words=10000)\n",
    "\n",
    "# Retrieves a dict mapping words to their index in the IMDB dataset.\n",
    "# (word_index dictionary: keys are word strings, values are their index)\n",
    "word_index = imdb.get_word_index()"
   ]
  },
  {
   "cell_type": "markdown",
   "metadata": {},
   "source": [
    "# Explore the data"
   ]
  },
  {
   "cell_type": "code",
   "execution_count": 5,
   "metadata": {},
   "outputs": [
    {
     "name": "stdout",
     "output_type": "stream",
     "text": [
      "len: 88584\n",
      "First 5 items: [('fawn', 34701), ('tsukino', 52006), ('nunnery', 52007), ('sonja', 16816), ('vani', 63951)]\n",
      "First key:   fawn\n",
      "First item:  ('fawn', 34701)\n",
      "First value: 34701\n"
     ]
    }
   ],
   "source": [
    "print(f\"len: {len(word_index)}\")\n",
    "print(f\"First 5 items: {list(word_index.items())[0:5]}\")\n",
    "print(f\"First key:   {list(word_index.keys())[0]}\")\n",
    "print(f\"First item:  {list(word_index.items())[0]}\")\n",
    "print(f\"First value: {word_index['fawn']}\")\n"
   ]
  },
  {
   "cell_type": "markdown",
   "metadata": {},
   "source": [
    "Structure of training data"
   ]
  },
  {
   "cell_type": "code",
   "execution_count": 6,
   "metadata": {},
   "outputs": [
    {
     "name": "stdout",
     "output_type": "stream",
     "text": [
      "type: <class 'numpy.ndarray'>\n",
      "shape: (25000,)\n",
      "len train_data: 25000\n",
      "\n",
      "type train_data[0]: <class 'list'>\n",
      "len train_data[0]: 218\n",
      "\n",
      "First 10 element in the first list:\n",
      "[1, 14, 22, 16, 43, 530, 973, 1622, 1385]\n",
      "\n",
      "train_labels[0]: 1\n",
      "\n",
      "min word index: 1\n",
      "max word index: 9999\n"
     ]
    }
   ],
   "source": [
    "print(f\"type: {type(train_data)}\")\n",
    "print(f\"shape: {train_data.shape}\")\n",
    "print(f\"len train_data: {len(train_data)}\")\n",
    "\n",
    "print(f\"\\ntype train_data[0]: {type(train_data[0])}\")\n",
    "print(f\"len train_data[0]: {len(train_data[0])}\")\n",
    "\n",
    "print(\"\\nFirst 10 element in the first list:\")\n",
    "print(f\"{train_data[0][0:9]}\")\n",
    "\n",
    "print(f\"\\ntrain_labels[0]: {train_labels[0]}\")\n",
    "\n",
    "print(f'\\nmin word index: {min([min(sequence) for sequence in train_data])}')\n",
    "print(f'max word index: {max([max(sequence) for sequence in train_data])}')"
   ]
  },
  {
   "cell_type": "code",
   "execution_count": 7,
   "metadata": {},
   "outputs": [
    {
     "name": "stdout",
     "output_type": "stream",
     "text": [
      "25000\n",
      "[1 0 0 1 0 0 1 0 1 0 1 0 0 0 0 0 1 1 0 1 0 0 1 0 1 1 0 0 1 0 0 1 1 1 0 0 0\n",
      " 1 0 0 1 0 0 0 1 1 1 0 1 0 0 0 0 0 0 0 1 0 1 1 0 0 0 1 1 1 1 1 1 1 1 0 0 1\n",
      " 1 0 1 0 0 1 1 0 0 1 1 0 0 0 1 0 0 0 0 0 0 0 0 1 1 0]\n"
     ]
    }
   ],
   "source": [
    "print(len(train_labels))\n",
    "print(train_labels[:100])"
   ]
  },
  {
   "cell_type": "markdown",
   "metadata": {},
   "source": [
    "Structure of word_index"
   ]
  },
  {
   "cell_type": "code",
   "execution_count": 8,
   "metadata": {},
   "outputs": [
    {
     "name": "stdout",
     "output_type": "stream",
     "text": [
      "First 10 keys: ['tsukino', 'nunnery', 'sonja', 'vani', 'woods', 'spiders', 'hanging', 'woody', 'trawling']\n",
      "First 10 values: [52006, 52007, 16816, 63951, 1408, 16115, 2345, 2289, 52008]\n",
      "\n",
      "Value 52006 is in position: 1\n",
      "Value 52006 correspond to key: tsukino\n",
      "\n",
      "Value 52007 is in position: 2\n",
      "Value 52007 correspond to key: nunnery\n",
      "\n",
      "Value 1 is in position: 58318\n",
      "Value 1 correspond to key: the\n",
      "\n",
      "Value 2 is in position: 64304\n",
      "Value 2 correspond to key: and\n",
      "\n",
      "Value 3 is in position: 37291\n",
      "Value 3 correspond to key: a\n"
     ]
    }
   ],
   "source": [
    "print(f\"First 10 keys: {list(word_index.keys())[1:10]}\")\n",
    "print(f\"First 10 values: {list(word_index.values())[1:10]}\")\n",
    "\n",
    "print(f\"\\nValue 52006 is in position: {list(word_index.values()).index(52006)}\")\n",
    "print(f\"Value 52006 correspond to key: {list(word_index.keys())[list(word_index.values()).index(52006)]}\")\n",
    "\n",
    "print(f\"\\nValue 52007 is in position: {list(word_index.values()).index(52007)}\")\n",
    "print(f\"Value 52007 correspond to key: {list(word_index.keys())[list(word_index.values()).index(52007)]}\")\n",
    "\n",
    "print(f\"\\nValue 1 is in position: {list(word_index.values()).index(1)}\")\n",
    "print(f\"Value 1 correspond to key: {list(word_index.keys())[list(word_index.values()).index(1)]}\")\n",
    "\n",
    "print(f\"\\nValue 2 is in position: {list(word_index.values()).index(2)}\")\n",
    "print(f\"Value 2 correspond to key: {list(word_index.keys())[list(word_index.values()).index(2)]}\")\n",
    "\n",
    "print(f\"\\nValue 3 is in position: {list(word_index.values()).index(3)}\")\n",
    "print(f\"Value 3 correspond to key: {list(word_index.keys())[list(word_index.values()).index(3)]}\")"
   ]
  },
  {
   "cell_type": "code",
   "execution_count": 9,
   "metadata": {},
   "outputs": [],
   "source": [
    "# Default parameters to keras.datasets.imdb.load_data\n",
    "pad_char = 0\n",
    "start_char = 1\n",
    "oov_char = 2\n",
    "index_from = 3  # Index actual words with this index and higher. \n",
    "\n",
    "# Decode one of these reviews back to English words\n",
    "reverse_word_index = dict((index + index_from, word) for (word, index) in word_index.items())\n",
    "reverse_word_index[pad_char] = \"[PAD]\"\n",
    "reverse_word_index[start_char] = \"[START]\"\n",
    "reverse_word_index[oov_char] = \"[OOV]\""
   ]
  },
  {
   "cell_type": "markdown",
   "metadata": {},
   "source": [
    "Due to the default parameters, in `train_data` the value 1 correspond to `[START]` and 2 correspond to `[OOV]`,\n",
    "and the indexing of the words starts with the value (index) 3.\n",
    "\n",
    "In `word_index`, the indexing of the words starts with the value (index) 1.\n",
    "\n",
    "Thus, when creating `reverse_word_index`, the values (index) in `word_index` must be \"shifted\" by 3.\n",
    "\n",
    "In `word_index` the value 1 correspond to the key (word) \"the\", but\n",
    "in `reverse_word_index` the value (word) \"the\" correspond to the key 4.\n",
    "\n",
    "In `reverse_word_index`, value 1 is `[START]` and 2 is `[OOV]`.\n",
    "\n",
    "I don't understand why, but value 3 is NOT used!?"
   ]
  },
  {
   "cell_type": "code",
   "execution_count": 10,
   "metadata": {},
   "outputs": [
    {
     "name": "stdout",
     "output_type": "stream",
     "text": [
      "First 10 keys: [52009, 52010, 16819, 63954, 1411, 16118, 2348, 2292, 52011]\n",
      "First 10 values: ['tsukino', 'nunnery', 'sonja', 'vani', 'woods', 'spiders', 'hanging', 'woody', 'trawling']\n",
      "\n",
      "Value 'tsukino' is in position: 1\n",
      "Value 'tsukino' correspond to key: 52009\n",
      "\n",
      "In reverse_word_index:\n",
      "Key 0 correspond to value: [PAD]\n",
      "Key 1 correspond to value: [START]\n",
      "Key 2 correspond to value: [OOV]\n",
      "Key 4 correspond to value: the\n",
      "\n",
      "In reverse_word_index:\n",
      "Value '[PAD]' is in position: 88584\n",
      "Value '[START]' is in position: 88585\n",
      "Value '[OOV]' is in position: 88586\n",
      "Value 'the' is in position: 58318\n",
      "\n",
      "In word_index:\n",
      "Value 1 is in position: 58318\n",
      "Value 1 correspond to key: the\n",
      "\n",
      "length of word_index: 88584\n",
      "length of reverse_word_index: 88587 (= 3 additional values: '[PAD]', '[START]' and '[OOV]')\n"
     ]
    }
   ],
   "source": [
    "print(f\"First 10 keys: {list(reverse_word_index.keys())[1:10]}\")\n",
    "print(f\"First 10 values: {list(reverse_word_index.values())[1:10]}\")\n",
    "\n",
    "print(f\"\\nValue 'tsukino' is in position: {list(reverse_word_index.values()).index('tsukino')}\")\n",
    "print(f\"Value 'tsukino' correspond to key: {list(reverse_word_index.keys())[list(reverse_word_index.values()).index('tsukino')]}\")\n",
    "\n",
    "print(\"\\nIn reverse_word_index:\")\n",
    "print(f\"Key 0 correspond to value: {reverse_word_index[0]}\")\n",
    "print(f\"Key 1 correspond to value: {reverse_word_index[1]}\")\n",
    "print(f\"Key 2 correspond to value: {reverse_word_index[2]}\")\n",
    "# print(f\"Key 3 correspond to value: {reverse_word_index[3]}\")\n",
    "print(f\"Key 4 correspond to value: {reverse_word_index[4]}\")\n",
    "\n",
    "print(\"\\nIn reverse_word_index:\")\n",
    "print(f\"Value '[PAD]' is in position: {list(reverse_word_index.values()).index('[PAD]')}\")\n",
    "print(f\"Value '[START]' is in position: {list(reverse_word_index.values()).index('[START]')}\")\n",
    "print(f\"Value '[OOV]' is in position: {list(reverse_word_index.values()).index('[OOV]')}\")\n",
    "print(f\"Value 'the' is in position: {list(reverse_word_index.values()).index('the')}\")\n",
    "\n",
    "print(\"\\nIn word_index:\")\n",
    "print(f\"Value 1 is in position: {list(word_index.values()).index(1)}\")\n",
    "print(f\"Value 1 correspond to key: {list(word_index.keys())[list(word_index.values()).index(1)]}\")\n",
    "\n",
    "print(f\"\\nlength of word_index: {len(word_index.values())}\")\n",
    "print(f\"length of reverse_word_index: {len(reverse_word_index.values())} (= 3 additional values: '[PAD]', '[START]' and '[OOV]')\")"
   ]
  },
  {
   "cell_type": "markdown",
   "metadata": {},
   "source": [
    "`reverse_word_index` has 3 additional values (i.e.,`[PAD]`, `[START]` and `[OOV]`) comapred to `word_index`"
   ]
  },
  {
   "cell_type": "code",
   "execution_count": 11,
   "metadata": {},
   "outputs": [
    {
     "name": "stdout",
     "output_type": "stream",
     "text": [
      "[START] this film was just brilliant casting location scenery story direction everyone's really suited the part they played and you could just imagine being there robert [OOV] is an amazing actor and now the same being director [OOV] father came from the same scottish island as myself so i loved the fact there was a real connection with this film the witty remarks throughout the film were great it was just brilliant so much that i bought the film as soon as it was released for [OOV] and would recommend it to everyone to watch and the fly fishing was amazing really cried at the end it was so sad and you know what they say if you cry at a film it must have been good and this definitely was also [OOV] to the two little boy's that played the [OOV] of norman and paul they were just brilliant children are often left out of the [OOV] list i think because the stars that play them all grown up are such a big profile for the whole film but these children are amazing and should be praised for what they have done don't you think the whole story was so lovely because it was true and was someone's life after all that was shared with us all\n"
     ]
    }
   ],
   "source": [
    "# Decode the first sequence in the dataset\n",
    "decoded_review = \" \".join(reverse_word_index[i] for i in train_data[0])\n",
    "print(decoded_review)"
   ]
  },
  {
   "cell_type": "markdown",
   "metadata": {},
   "source": [
    "# Baseline model"
   ]
  },
  {
   "cell_type": "markdown",
   "metadata": {},
   "source": [
    "Prepare data"
   ]
  },
  {
   "cell_type": "code",
   "execution_count": 12,
   "metadata": {},
   "outputs": [
    {
     "name": "stdout",
     "output_type": "stream",
     "text": [
      "Shape x_train: (15000, 10000)\n",
      "Shape y_train: (15000,)\n",
      "Shape x_val: (10000, 10000)\n",
      "Shape y_val: (10000,)\n",
      "Shape x_test: (25000, 10000)\n",
      "Shape y_test: (25000,)\n"
     ]
    }
   ],
   "source": [
    "# Function to vectorize the data\n",
    "def vectorize_sequences(sequences, dimension=10000):\n",
    "    results = np.zeros((len(sequences), dimension))\n",
    "    for i, sequence in enumerate(sequences):\n",
    "        for j in sequence:\n",
    "            results[i, j] = 1.\n",
    "    return results\n",
    "\n",
    "# Vectorize the data\n",
    "x_train_val = vectorize_sequences(train_data)\n",
    "x_test = vectorize_sequences(test_data)\n",
    "y_train_val = np.asarray(train_labels).astype(\"float32\")\n",
    "y_test = np.asarray(test_labels).astype(\"float32\")\n",
    "\n",
    "# the first 10,000 sentences are in the validation set\n",
    "# the rest is in the training set\n",
    "n_train_val_split = 10000\n",
    "\n",
    "x_val = x_train_val[:n_train_val_split]\n",
    "x_train = x_train_val[n_train_val_split:]\n",
    "y_val = y_train_val[:n_train_val_split]\n",
    "y_train = y_train_val[n_train_val_split:]\n",
    "\n",
    "print(f\"Shape x_train: {x_train.shape}\")\n",
    "print(f\"Shape y_train: {y_train.shape}\")\n",
    "print(f\"Shape x_val: {x_val.shape}\")\n",
    "print(f\"Shape y_val: {y_val.shape}\")\n",
    "print(f\"Shape x_test: {x_test.shape}\")\n",
    "print(f\"Shape y_test: {y_test.shape}\")"
   ]
  },
  {
   "cell_type": "code",
   "execution_count": 13,
   "metadata": {},
   "outputs": [],
   "source": [
    "model = keras.Sequential()\n",
    "\n",
    "# First layer\n",
    "model.add(layers.Dense(16, use_bias=False))\n",
    "model.add(layers.BatchNormalization())\n",
    "model.add(layers.Activation(activation=\"relu\"))\n",
    "model.add(layers.Dropout(rate=0.5))\n",
    "\n",
    "# Second layer\n",
    "model.add(layers.Dense(8, use_bias=False))\n",
    "model.add(layers.BatchNormalization())\n",
    "model.add(layers.Activation(activation=\"relu\"))\n",
    "model.add(layers.Dropout(rate=0.5))\n",
    "\n",
    "# Output layer\n",
    "model.add(layers.Dense(1, activation=\"sigmoid\"))\n",
    "\n",
    "model.compile(\n",
    "    optimizer=tf.keras.optimizers.Adam(learning_rate=0.001),\n",
    "    loss=\"binary_crossentropy\",\n",
    "    metrics=[\"accuracy\"])"
   ]
  },
  {
   "cell_type": "code",
   "execution_count": 14,
   "metadata": {},
   "outputs": [
    {
     "name": "stdout",
     "output_type": "stream",
     "text": [
      "x_train.shape = (15000, 10000)\n",
      "\n",
      "Model: \"sequential\"\n",
      "_________________________________________________________________\n",
      " Layer (type)                Output Shape              Param #   \n",
      "=================================================================\n",
      " dense (Dense)               (15000, 16)               160000    \n",
      "                                                                 \n",
      " batch_normalization (BatchN  (15000, 16)              64        \n",
      " ormalization)                                                   \n",
      "                                                                 \n",
      " activation (Activation)     (15000, 16)               0         \n",
      "                                                                 \n",
      " dropout (Dropout)           (15000, 16)               0         \n",
      "                                                                 \n",
      " dense_1 (Dense)             (15000, 8)                128       \n",
      "                                                                 \n",
      " batch_normalization_1 (Batc  (15000, 8)               32        \n",
      " hNormalization)                                                 \n",
      "                                                                 \n",
      " activation_1 (Activation)   (15000, 8)                0         \n",
      "                                                                 \n",
      " dropout_1 (Dropout)         (15000, 8)                0         \n",
      "                                                                 \n",
      " dense_2 (Dense)             (15000, 1)                9         \n",
      "                                                                 \n",
      "=================================================================\n",
      "Total params: 160,233\n",
      "Trainable params: 160,185\n",
      "Non-trainable params: 48\n",
      "_________________________________________________________________\n",
      "None\n"
     ]
    }
   ],
   "source": [
    "print(f\"x_train.shape = {x_train.shape}\\n\")\n",
    "\n",
    "model.build(x_train.shape)\n",
    "print(model.summary())"
   ]
  },
  {
   "cell_type": "code",
   "execution_count": 15,
   "metadata": {},
   "outputs": [
    {
     "name": "stdout",
     "output_type": "stream",
     "text": [
      "Epoch 1/10\n",
      "469/469 [==============================] - 5s 6ms/step - loss: 0.5898 - accuracy: 0.6833 - val_loss: 0.4016 - val_accuracy: 0.8398\n",
      "Epoch 2/10\n",
      "469/469 [==============================] - 2s 5ms/step - loss: 0.4276 - accuracy: 0.8075 - val_loss: 0.3321 - val_accuracy: 0.8560\n",
      "Epoch 3/10\n",
      "469/469 [==============================] - 2s 5ms/step - loss: 0.3529 - accuracy: 0.8491 - val_loss: 0.2892 - val_accuracy: 0.8811\n",
      "Epoch 4/10\n",
      "469/469 [==============================] - 2s 5ms/step - loss: 0.3162 - accuracy: 0.8745 - val_loss: 0.2850 - val_accuracy: 0.8796\n",
      "Epoch 5/10\n",
      "469/469 [==============================] - 2s 5ms/step - loss: 0.2852 - accuracy: 0.8868 - val_loss: 0.2861 - val_accuracy: 0.8834\n",
      "Epoch 6/10\n",
      "469/469 [==============================] - 2s 5ms/step - loss: 0.2552 - accuracy: 0.9028 - val_loss: 0.2973 - val_accuracy: 0.8811\n",
      "Epoch 7/10\n",
      "469/469 [==============================] - 2s 5ms/step - loss: 0.2467 - accuracy: 0.9051 - val_loss: 0.3065 - val_accuracy: 0.8797\n",
      "Epoch 8/10\n",
      "469/469 [==============================] - 2s 5ms/step - loss: 0.2339 - accuracy: 0.9076 - val_loss: 0.3257 - val_accuracy: 0.8770\n",
      "Epoch 9/10\n",
      "469/469 [==============================] - 2s 5ms/step - loss: 0.2147 - accuracy: 0.9130 - val_loss: 0.3267 - val_accuracy: 0.8787\n",
      "Epoch 10/10\n",
      "469/469 [==============================] - 2s 5ms/step - loss: 0.2049 - accuracy: 0.9187 - val_loss: 0.3377 - val_accuracy: 0.8764\n"
     ]
    }
   ],
   "source": [
    "history = model.fit(\n",
    "    x_train,\n",
    "    y_train,\n",
    "    epochs=10,\n",
    "    batch_size=32,\n",
    "    validation_data=(x_val, y_val))"
   ]
  },
  {
   "cell_type": "code",
   "execution_count": 16,
   "metadata": {},
   "outputs": [
    {
     "data": {
      "image/png": "[encoded data removed]",
      "text/plain": [
       "<Figure size 1080x360 with 2 Axes>"
      ]
     },
     "metadata": {
      "needs_background": "light"
     },
     "output_type": "display_data"
    }
   ],
   "source": [
    "plot_loss_acc(history.history)"
   ]
  },
  {
   "cell_type": "code",
   "execution_count": 17,
   "metadata": {},
   "outputs": [
    {
     "name": "stdout",
     "output_type": "stream",
     "text": [
      "val_accuracy:\n",
      "[0.8398000001907349, 0.8560000061988831, 0.8810999989509583, 0.8795999884605408, 0.883400022983551, 0.8810999989509583, 0.8797000050544739, 0.8769999742507935, 0.8787000179290771, 0.8763999938964844]\n",
      "\n",
      "max value: 0.883400022983551\n",
      "\n",
      "max index: 4\n",
      "\n",
      "max value: 0.883400022983551\n"
     ]
    }
   ],
   "source": [
    "print(f\"val_accuracy:\\n{history.history['val_accuracy']}\")\n",
    "\n",
    "print(f\"\\nmax value: {max(history.history['val_accuracy'])}\")\n",
    "\n",
    "# Find epoch with highest validation accuracy\n",
    "max_val = max(history.history['val_accuracy'])\n",
    "max_index = history.history['val_accuracy'].index(max_val)\n",
    "\n",
    "print(f\"\\nmax index: {max_index}\")\n",
    "\n",
    "print(f\"\\nmax value: {history.history['val_accuracy'][max_index]}\")"
   ]
  },
  {
   "cell_type": "code",
   "execution_count": 18,
   "metadata": {},
   "outputs": [
    {
     "name": "stdout",
     "output_type": "stream",
     "text": [
      "Keys: dict_keys(['loss', 'accuracy', 'val_loss', 'val_accuracy'])\n",
      "\n",
      "Highest val accuracy: EPOC = 5\n",
      "{'baseline': {'loss': 0.285, 'accuracy': 0.887, 'val_loss': 0.286, 'val_acc': 0.883}}\n",
      "{'loss': 0.285, 'accuracy': 0.887, 'val_loss': 0.286, 'val_acc': 0.883}\n",
      "0.883\n"
     ]
    }
   ],
   "source": [
    "print(f\"Keys: {history.history.keys()}\\n\")\n",
    "\n",
    "# Find epoch with highest validation accuracy\n",
    "max_val = max(history.history['val_accuracy'])\n",
    "max_index = history.history['val_accuracy'].index(max_val)\n",
    "max_epoc = max_index + 1 # index starts at 0\n",
    "print(f\"Highest val accuracy: EPOC = {max_epoc}\")\n",
    "\n",
    "scores_model = {'baseline': \n",
    "     {'loss': np.round(history.history['loss'][max_index], 3),\n",
    "      'accuracy': np.round(history.history['accuracy'][max_index], 3),\n",
    "      'val_loss': np.round(history.history['val_loss'][max_index], 3),\n",
    "      'val_acc': np.round(history.history['val_accuracy'][max_index], 3)}\n",
    "    }\n",
    "\n",
    "print(scores_model)\n",
    "print(scores_model['baseline'])\n",
    "print(scores_model['baseline']['val_acc'])\n"
   ]
  },
  {
   "cell_type": "markdown",
   "metadata": {},
   "source": [
    "# Prepare data (for embedding)"
   ]
  },
  {
   "cell_type": "markdown",
   "metadata": {},
   "source": [
    "Load pre-trained embedding"
   ]
  },
  {
   "cell_type": "code",
   "execution_count": 19,
   "metadata": {},
   "outputs": [],
   "source": [
    "emb_layer = hub.KerasLayer(\n",
    "    \"https://tfhub.dev/google/nnlm-en-dim50/2\",\n",
    "    input_shape=[],  # input shape is a list\n",
    "    dtype=tf.string,\n",
    "    # set \"trainable=True\" to perform transfer learning (fine-tune the model)\n",
    "    trainable=True)"
   ]
  },
  {
   "cell_type": "code",
   "execution_count": 20,
   "metadata": {},
   "outputs": [
    {
     "name": "stdout",
     "output_type": "stream",
     "text": [
      "Shape: [     1 963812     50]\n",
      "\n",
      "Weights:\n",
      "[<tf.Variable 'Variable:0' shape=(963812, 50) dtype=float32, numpy=\n",
      "array([[-0.07078403,  0.2309921 , -0.04001201, ...,  0.006042  ,\n",
      "         0.01584901, -0.23308909],\n",
      "       [ 0.13103518,  0.17923635,  0.01063039, ..., -0.29381433,\n",
      "         0.05539819,  0.05226879],\n",
      "       [ 0.06475412, -0.12864912, -0.12485643, ..., -0.16776969,\n",
      "         0.07435564,  0.19124678],\n",
      "       ...,\n",
      "       [ 0.4045343 , -0.17706504, -0.13003995, ..., -0.01742322,\n",
      "         0.02578888,  0.29181632],\n",
      "       [ 0.4186347 ,  0.0406054 , -0.14481059, ..., -0.05217805,\n",
      "         0.03594268,  0.21899657],\n",
      "       [ 0.4463733 ,  0.06268543,  0.02524463, ...,  0.17416938,\n",
      "        -0.11148718,  0.2714855 ]], dtype=float32)>]\n"
     ]
    }
   ],
   "source": [
    "print(f\"Shape: {tf.shape(emb_layer.weights)}\\n\")\n",
    "\n",
    "print(f\"Weights:\\n{emb_layer.weights}\")"
   ]
  },
  {
   "cell_type": "markdown",
   "metadata": {},
   "source": [
    "Input: 1 word\n",
    "\n",
    "Output: 50D vector with shape = (1, 50)"
   ]
  },
  {
   "cell_type": "code",
   "execution_count": 21,
   "metadata": {},
   "outputs": [
    {
     "name": "stdout",
     "output_type": "stream",
     "text": [
      "shape: (1, 50)\n",
      "\n",
      "tf.Tensor(\n",
      "[[ 0.04776037 -0.06886768 -0.16459087  0.08581819 -0.08490262  0.02099551\n",
      "  -0.19653788 -0.13598481 -0.04143906 -0.09736596  0.07609851 -0.03156528\n",
      "   0.10957347  0.24403939  0.09446617 -0.09135689  0.06340048 -0.0389905\n",
      "   0.24184163  0.05320741  0.0095424  -0.07943342 -0.14991164 -0.04996819\n",
      "   0.21571031 -0.22749782 -0.11248333  0.15297459 -0.19220279 -0.0400783\n",
      "  -0.21998696  0.07353514 -0.14533381  0.00502099  0.31326562 -0.25409043\n",
      "   0.04892169  0.01067351  0.04883608 -0.22023776 -0.08438189  0.08828487\n",
      "   0.31126228  0.1151011   0.01516471 -0.01142792  0.02667623  0.24145083\n",
      "  -0.11506686  0.16467647]], shape=(1, 50), dtype=float32)\n"
     ]
    }
   ],
   "source": [
    "emb_test_1 = emb_layer([\"Test\"])\n",
    "print(f\"shape: {emb_test_1.shape}\\n\")\n",
    "print(emb_test_1)"
   ]
  },
  {
   "cell_type": "markdown",
   "metadata": {},
   "source": [
    "Two words\n",
    "Input: 2 word\n",
    "\n",
    "Output: 50D vectors; shape = (1, 50)"
   ]
  },
  {
   "cell_type": "code",
   "execution_count": 22,
   "metadata": {},
   "outputs": [
    {
     "name": "stdout",
     "output_type": "stream",
     "text": [
      "shape: (1, 50)\n",
      "\n",
      "tf.Tensor(\n",
      "[[ 0.14266299  0.15968978 -0.09341733  0.17129184 -0.17735712 -0.06850743\n",
      "  -0.18280964  0.10770726 -0.04795001 -0.01782284 -0.00377065  0.00428251\n",
      "   0.1522757   0.09870012  0.24908243 -0.08882328  0.01074235  0.06888396\n",
      "   0.09785467 -0.03969875 -0.15062603 -0.06340863  0.07338854 -0.12052223\n",
      "   0.094575   -0.09007384 -0.35428354  0.2508838  -0.13932143 -0.15338713\n",
      "  -0.28947982  0.09856007 -0.16252455  0.02747028  0.31612498 -0.16526245\n",
      "   0.1515378  -0.01131452 -0.09479989 -0.20544472 -0.05588011 -0.01836273\n",
      "   0.22014242  0.07081797 -0.04668182 -0.12809321 -0.10117901  0.1283879\n",
      "  -0.07625469  0.06370711]], shape=(1, 50), dtype=float32)\n"
     ]
    }
   ],
   "source": [
    "emb_test_1 = emb_layer([\"Test this\"])\n",
    "print(f\"shape: {emb_test_1.shape}\\n\")\n",
    "print(emb_test_1)"
   ]
  },
  {
   "cell_type": "markdown",
   "metadata": {},
   "source": [
    "Input: word (as above but reverse order)\n",
    "\n",
    "Output: 50D vector with shape = (1, 50)\n",
    "\n",
    "The order matters, so this returns a different vector"
   ]
  },
  {
   "cell_type": "code",
   "execution_count": 23,
   "metadata": {},
   "outputs": [
    {
     "name": "stdout",
     "output_type": "stream",
     "text": [
      "shape: (1, 50)\n",
      "\n",
      "tf.Tensor(\n",
      "[[-0.05719313  0.16746423  0.14258622  0.25223008 -0.21868415 -0.17598276\n",
      "  -0.08619111  0.2312977  -0.20808885 -0.08066375  0.05066421 -0.07521921\n",
      "   0.18413132 -0.0994789   0.21638936 -0.24349506  0.05405843 -0.18068534\n",
      "   0.11516805  0.03481622 -0.2888843   0.11657007 -0.08851601  0.00263449\n",
      "   0.03328478 -0.04782099 -0.11963638  0.07242545 -0.12605622 -0.10390378\n",
      "  -0.08429206 -0.08616674  0.07709306  0.010702    0.26130664 -0.03748824\n",
      "   0.13718121 -0.19891232 -0.02172319  0.06137453 -0.07685141  0.03934212\n",
      "   0.16593252  0.22282104 -0.26778695 -0.11014152 -0.11613198  0.04245697\n",
      "   0.20837663  0.28455013]], shape=(1, 50), dtype=float32)\n"
     ]
    }
   ],
   "source": [
    "emb_test_1 = emb_layer([\"This test\"])\n",
    "print(f\"shape: {emb_test_1.shape}\\n\")\n",
    "print(emb_test_1)"
   ]
  },
  {
   "cell_type": "markdown",
   "metadata": {},
   "source": [
    "Input: word (as above but all low case letters)\n",
    "\n",
    "Output: 50D vector with shape = (1, 50)\n",
    "\n",
    "Capital letters also change the output"
   ]
  },
  {
   "cell_type": "code",
   "execution_count": 24,
   "metadata": {},
   "outputs": [
    {
     "name": "stdout",
     "output_type": "stream",
     "text": [
      "shape: (1, 50)\n",
      "\n",
      "tf.Tensor(\n",
      "[[ 5.61277792e-02  1.87619686e-01  3.62951793e-02  2.23079309e-01\n",
      "  -2.14608163e-01 -1.08884692e-01 -5.96119650e-02  2.36398637e-01\n",
      "  -1.74687982e-01 -9.22392756e-02 -3.94847840e-02 -4.40938808e-02\n",
      "   2.17820972e-01 -1.40717641e-01  8.16476345e-02 -1.37843594e-01\n",
      "  -1.45933464e-05  9.87602863e-03  4.82108742e-02  1.17605142e-02\n",
      "  -2.46757388e-01  1.93484589e-01  2.29739193e-02 -2.70540565e-02\n",
      "  -1.91590711e-02 -4.37474437e-02 -3.19004416e-01  1.56149268e-01\n",
      "  -8.89753699e-02 -1.29297107e-01 -1.80213690e-01  2.26528514e-02\n",
      "   3.15944897e-03  4.22925167e-02  2.73824453e-01 -9.97060463e-02\n",
      "   1.15635723e-01 -1.81625500e-01 -8.18127021e-02 -2.89397854e-02\n",
      "  -8.54106247e-02 -2.59958077e-02  2.18336597e-01  2.23693088e-01\n",
      "  -1.72788933e-01 -2.16245785e-01 -1.30134508e-01  5.83978556e-03\n",
      "   1.21428356e-01  4.45895158e-02]], shape=(1, 50), dtype=float32)\n"
     ]
    }
   ],
   "source": [
    "emb_test_1 = emb_layer([\"this test\"])\n",
    "print(f\"shape: {emb_test_1.shape}\\n\")\n",
    "print(emb_test_1)"
   ]
  },
  {
   "cell_type": "markdown",
   "metadata": {},
   "source": [
    "Input: a sentence\n",
    "\n",
    "Output: 50D vector with shape = (1, 50)\n",
    "\n",
    "This pre-trained embedding maps a sentence to its embedding vector, with the following procedure:\n",
    "\n",
    "1. Split the sentences into tokens\n",
    "2. Embed each token (word embedding)\n",
    "3. Combine the word embeddings into a whole embedding (sentence embedding)"
   ]
  },
  {
   "cell_type": "code",
   "execution_count": 25,
   "metadata": {},
   "outputs": [
    {
     "name": "stdout",
     "output_type": "stream",
     "text": [
      "shape: (1, 50)\n",
      "\n",
      "tf.Tensor(\n",
      "[[ 0.03490218  0.16172831  0.23502909  0.11702017 -0.01992871 -0.19280444\n",
      "  -0.03032632  0.42247042 -0.17463143  0.11061392 -0.20684198 -0.10816587\n",
      "  -0.00580655 -0.06549336  0.15517563 -0.30142653 -0.08806028 -0.02007063\n",
      "   0.06983391 -0.05946058 -0.24798736 -0.11611294  0.06882623  0.11254646\n",
      "  -0.1325322  -0.11367108 -0.25896594 -0.15688322  0.08890296 -0.14879154\n",
      "  -0.07682836  0.10784158  0.11499087 -0.00474725  0.09338438 -0.04716892\n",
      "   0.1573174  -0.08895263  0.17764075  0.05421483 -0.0182819   0.03440694\n",
      "   0.1152048   0.19914365 -0.42840165 -0.17844574 -0.03394165 -0.01203495\n",
      "   0.07526059  0.07941826]], shape=(1, 50), dtype=float32)\n"
     ]
    }
   ],
   "source": [
    "emb_test_1 = emb_layer([\"This is a test sentece\"])\n",
    "print(f\"shape: {emb_test_1.shape}\\n\")\n",
    "print(emb_test_1)"
   ]
  },
  {
   "cell_type": "markdown",
   "metadata": {},
   "source": [
    "Input: 3 sentences (as list)\n",
    "\n",
    "Output: three 50D vector with shape = (3, 50)"
   ]
  },
  {
   "cell_type": "code",
   "execution_count": 26,
   "metadata": {},
   "outputs": [
    {
     "name": "stdout",
     "output_type": "stream",
     "text": [
      "shape: (3, 50)\n",
      "\n"
     ]
    }
   ],
   "source": [
    "emb_test_1 = emb_layer([\"live long and prosper\", \"may the Force be with you\", \"klaatu barada nikto\"])\n",
    "print(f\"shape: {emb_test_1.shape}\\n\")"
   ]
  },
  {
   "cell_type": "markdown",
   "metadata": {},
   "source": [
    "Convert train_data to a list of strings (senetences) and then to a tensor, and create training, validation, and test sets"
   ]
  },
  {
   "cell_type": "code",
   "execution_count": 27,
   "metadata": {},
   "outputs": [
    {
     "name": "stdout",
     "output_type": "stream",
     "text": [
      "(25000,)\n",
      "(10000,)\n",
      "(15000,)\n"
     ]
    }
   ],
   "source": [
    "print(train_data.shape)\n",
    "print(train_data[:n_train_val_split].shape)\n",
    "print(train_data[n_train_val_split:].shape)"
   ]
  },
  {
   "cell_type": "code",
   "execution_count": 28,
   "metadata": {},
   "outputs": [],
   "source": [
    "# Select validation and training data\n",
    "val_emb = train_data[:n_train_val_split]\n",
    "train_emb = train_data[n_train_val_split:]\n",
    "y_train_val_emb = np.asarray(train_labels).astype(\"float32\")\n",
    "\n",
    "# Validation set\n",
    "val_data_rev = [\" \".join(reverse_word_index[i] for i in sentence) for sentence in val_emb]\n",
    "x_val_emb = tf.convert_to_tensor(val_data_rev)\n",
    "y_val_emb = y_train_val_emb[:n_train_val_split]\n",
    "\n",
    "# Training set\n",
    "train_data_rev = [\" \".join(reverse_word_index[i] for i in sentence) for sentence in train_emb]\n",
    "x_train_emb = tf.convert_to_tensor(train_data_rev)\n",
    "y_train_emb = y_train_val_emb[n_train_val_split:]\n",
    "\n",
    "# Trainig + validation\n",
    "train_val_data_rev = [\" \".join(reverse_word_index[i] for i in sentence) for sentence in train_data]\n",
    "x_train_val_emb = tf.convert_to_tensor(train_val_data_rev)\n",
    "\n",
    "# Test set\n",
    "test_data_rev = [\" \".join(reverse_word_index[i] for i in sentence) for sentence in test_data]\n",
    "x_test_emb = tf.convert_to_tensor(test_data_rev)\n",
    "y_test_emb = np.asarray(test_labels).astype(\"float32\")"
   ]
  },
  {
   "cell_type": "code",
   "execution_count": 29,
   "metadata": {},
   "outputs": [
    {
     "name": "stdout",
     "output_type": "stream",
     "text": [
      "train_data --------------------------------------------------\n",
      "type: <class 'numpy.ndarray'>\n",
      "shape: (15000,)\n",
      "len: 15000\n",
      "\n",
      "train_data_rev --------------------------------------------------\n",
      "type: <class 'list'>\n",
      "len: 15000\n",
      "\n",
      "x_train_emb --------------------------------------------------\n",
      "type: <class 'tensorflow.python.framework.ops.EagerTensor'>\n",
      "shape: (15000,)\n"
     ]
    }
   ],
   "source": [
    "print(\"train_data\", \"-\"*50)\n",
    "print(f\"type: {type(train_emb)}\")\n",
    "print(f\"shape: {train_emb.shape}\")\n",
    "print(f\"len: {len(train_emb)}\")\n",
    "\n",
    "print(\"\\ntrain_data_rev\", \"-\"*50)\n",
    "print(f\"type: {type(train_data_rev)}\")\n",
    "print(f\"len: {len(train_data_rev)}\")\n",
    "\n",
    "print(\"\\nx_train_emb\", \"-\"*50)\n",
    "print(f\"type: {type(x_train_emb)}\")\n",
    "print(f\"shape: {x_train_emb.shape}\")"
   ]
  },
  {
   "cell_type": "code",
   "execution_count": 30,
   "metadata": {},
   "outputs": [
    {
     "name": "stdout",
     "output_type": "stream",
     "text": [
      "train_data_rev[0]\n",
      "[START] i think this is one of the weakest of the kenneth branagh [OOV] works after such great efforts as much [OOV] about nothing etc i thought this was poor the cast was weaker alicia [OOV] [OOV] [OOV] but my biggest [OOV] was that they messed with the [OOV] work and cut out some of the play to put in the musical dance sequences br br you just don't do shakespeare and then mess with the play sorry but that is just wrong i love some cole porter just like the next person but [OOV] don't mess with the shakespeare skip this and watch [OOV] books if you want to see a brilliant shakespearean adaptation of the [OOV]\n",
      "\n",
      "x_train_emb[0]\n",
      "tf.Tensor(b\"[START] i think this is one of the weakest of the kenneth branagh [OOV] works after such great efforts as much [OOV] about nothing etc i thought this was poor the cast was weaker alicia [OOV] [OOV] [OOV] but my biggest [OOV] was that they messed with the [OOV] work and cut out some of the play to put in the musical dance sequences br br you just don't do shakespeare and then mess with the play sorry but that is just wrong i love some cole porter just like the next person but [OOV] don't mess with the shakespeare skip this and watch [OOV] books if you want to see a brilliant shakespearean adaptation of the [OOV]\", shape=(), dtype=string)\n"
     ]
    }
   ],
   "source": [
    "print(\"train_data_rev[0]\")\n",
    "print(train_data_rev[0])\n",
    "\n",
    "print(\"\\nx_train_emb[0]\")\n",
    "print(x_train_emb[0])"
   ]
  },
  {
   "cell_type": "code",
   "execution_count": 31,
   "metadata": {},
   "outputs": [
    {
     "name": "stdout",
     "output_type": "stream",
     "text": [
      "train_data_rev[0] --------------------------------------------------\n",
      "shape: (1, 50)\n",
      "\n",
      "tf.Tensor(\n",
      "[[ 1.1402115   0.26369712 -0.10565904  0.5127624  -0.09218049 -0.2573422\n",
      "   0.19137299 -0.2887305  -0.88435674  0.5195096   0.08822305  0.2331015\n",
      "  -0.09239576  0.13647714 -0.21743007 -0.18493603  0.08253232  0.23226394\n",
      "   0.06359208 -0.575828   -0.1026831  -0.07140121  0.23901196 -0.04265045\n",
      "  -0.45965418  0.32664436 -1.2081124   0.1819036   0.29884025 -0.4041018\n",
      "  -0.3660003   0.07582293  0.6965147  -0.35436007 -0.6583187   0.39987397\n",
      "   0.4226374  -0.69412565 -0.04035674 -0.96559626  0.17555335  0.2152515\n",
      "   0.13631134 -0.17444114 -0.38762408 -0.20388247 -0.65234435 -0.3386061\n",
      "   0.0139037  -0.00602219]], shape=(1, 50), dtype=float32)\n",
      "\n",
      "x_train_emb[0] --------------------------------------------------\n",
      "shape: (1, 50)\n",
      "\n",
      "tf.Tensor(\n",
      "[[ 1.1402115   0.26369712 -0.10565904  0.5127624  -0.09218049 -0.2573422\n",
      "   0.19137299 -0.2887305  -0.88435674  0.5195096   0.08822305  0.2331015\n",
      "  -0.09239576  0.13647714 -0.21743007 -0.18493603  0.08253232  0.23226394\n",
      "   0.06359208 -0.575828   -0.1026831  -0.07140121  0.23901196 -0.04265045\n",
      "  -0.45965418  0.32664436 -1.2081124   0.1819036   0.29884025 -0.4041018\n",
      "  -0.3660003   0.07582293  0.6965147  -0.35436007 -0.6583187   0.39987397\n",
      "   0.4226374  -0.69412565 -0.04035674 -0.96559626  0.17555335  0.2152515\n",
      "   0.13631134 -0.17444114 -0.38762408 -0.20388247 -0.65234435 -0.3386061\n",
      "   0.0139037  -0.00602219]], shape=(1, 50), dtype=float32)\n"
     ]
    }
   ],
   "source": [
    "print(\"train_data_rev[0]\", \"-\"*50)\n",
    "emb_test_2a = emb_layer([train_data_rev[0]])\n",
    "print(f\"shape: {emb_test_2a.shape}\\n\")\n",
    "print(emb_test_2a)\n",
    "\n",
    "print(\"\\nx_train_emb[0]\", \"-\"*50)\n",
    "emb_test_2b = emb_layer([x_train_emb[0]])\n",
    "print(f\"shape: {emb_test_2b.shape}\\n\")\n",
    "print(emb_test_2b)"
   ]
  },
  {
   "cell_type": "markdown",
   "metadata": {},
   "source": [
    "# Embedding Model (embedding + dense)\n",
    "\n",
    "Layers:\n",
    "\n",
    "1. `emb_layer`: a tensorflow hub layer; it is a pre-trained embedding that maps a sentence to its embedding vector; it (I) splits the sentences into tokens, (II) embeds each token (word embedding), and (III) combines the word embeddings into a whole embedding (sentence embedding). The shape of the output is (num_examples, embedding_dimension), that is (X_train.shape, 50).\n",
    "4. `Dense`: 16 units, relu activation.\n",
    "5. `Dense`: output layer, 1 unit, sigmoid activation."
   ]
  },
  {
   "cell_type": "markdown",
   "metadata": {},
   "source": [
    "Build the model"
   ]
  },
  {
   "cell_type": "code",
   "execution_count": 32,
   "metadata": {},
   "outputs": [],
   "source": [
    "model_emb = keras.Sequential()\n",
    "\n",
    "# Pretrained embedding\n",
    "model_emb.add(emb_layer)\n",
    "\n",
    "# 1st Dense layer\n",
    "model_emb.add(layers.Dense(16, use_bias=False))\n",
    "model_emb.add(layers.BatchNormalization())\n",
    "model_emb.add(layers.Activation(activation=\"relu\"))\n",
    "model_emb.add(layers.Dropout(rate=0.5))\n",
    "\n",
    "model_emb.add(layers.Dense(1, activation=\"sigmoid\"))\n",
    "\n",
    "model_emb.compile(\n",
    "    optimizer=tf.keras.optimizers.Adam(learning_rate=0.001),\n",
    "    loss=tf.keras.losses.BinaryCrossentropy(),\n",
    "    metrics=[\"accuracy\"])"
   ]
  },
  {
   "cell_type": "code",
   "execution_count": 33,
   "metadata": {},
   "outputs": [
    {
     "name": "stdout",
     "output_type": "stream",
     "text": [
      "Model: \"sequential_1\"\n",
      "_________________________________________________________________\n",
      " Layer (type)                Output Shape              Param #   \n",
      "=================================================================\n",
      " keras_layer (KerasLayer)    (None, 50)                48190600  \n",
      "                                                                 \n",
      " dense_3 (Dense)             (None, 16)                800       \n",
      "                                                                 \n",
      " batch_normalization_2 (Batc  (None, 16)               64        \n",
      " hNormalization)                                                 \n",
      "                                                                 \n",
      " activation_2 (Activation)   (None, 16)                0         \n",
      "                                                                 \n",
      " dropout_2 (Dropout)         (None, 16)                0         \n",
      "                                                                 \n",
      " dense_4 (Dense)             (None, 1)                 17        \n",
      "                                                                 \n",
      "=================================================================\n",
      "Total params: 48,191,481\n",
      "Trainable params: 48,191,449\n",
      "Non-trainable params: 32\n",
      "_________________________________________________________________\n",
      "None\n"
     ]
    }
   ],
   "source": [
    "print(model_emb.summary())"
   ]
  },
  {
   "cell_type": "code",
   "execution_count": 34,
   "metadata": {},
   "outputs": [
    {
     "name": "stdout",
     "output_type": "stream",
     "text": [
      "Epoch 1/10\n",
      "469/469 [==============================] - 11s 22ms/step - loss: 0.5296 - accuracy: 0.7361 - val_loss: 0.3280 - val_accuracy: 0.8660\n",
      "Epoch 2/10\n",
      "469/469 [==============================] - 10s 22ms/step - loss: 0.3100 - accuracy: 0.8782 - val_loss: 0.2763 - val_accuracy: 0.8849\n",
      "Epoch 3/10\n",
      "469/469 [==============================] - 10s 22ms/step - loss: 0.2297 - accuracy: 0.9144 - val_loss: 0.2822 - val_accuracy: 0.8823\n",
      "Epoch 4/10\n",
      "469/469 [==============================] - 10s 22ms/step - loss: 0.1857 - accuracy: 0.9333 - val_loss: 0.3125 - val_accuracy: 0.8800\n",
      "Epoch 5/10\n",
      "469/469 [==============================] - 10s 22ms/step - loss: 0.1502 - accuracy: 0.9467 - val_loss: 0.3429 - val_accuracy: 0.8729\n",
      "Epoch 6/10\n",
      "469/469 [==============================] - 10s 22ms/step - loss: 0.1241 - accuracy: 0.9561 - val_loss: 0.4156 - val_accuracy: 0.8639\n",
      "Epoch 7/10\n",
      "469/469 [==============================] - 10s 22ms/step - loss: 0.1105 - accuracy: 0.9604 - val_loss: 0.4381 - val_accuracy: 0.8619\n",
      "Epoch 8/10\n",
      "469/469 [==============================] - 10s 22ms/step - loss: 0.1029 - accuracy: 0.9626 - val_loss: 0.4718 - val_accuracy: 0.8536\n",
      "Epoch 9/10\n",
      "469/469 [==============================] - 10s 22ms/step - loss: 0.0933 - accuracy: 0.9648 - val_loss: 0.5314 - val_accuracy: 0.8642\n",
      "Epoch 10/10\n",
      "469/469 [==============================] - 10s 22ms/step - loss: 0.0838 - accuracy: 0.9707 - val_loss: 0.5035 - val_accuracy: 0.8639\n"
     ]
    }
   ],
   "source": [
    "history_emb = model_emb.fit(\n",
    "    x_train_emb,\n",
    "    y_train_emb,\n",
    "    epochs=10,\n",
    "    batch_size=32,\n",
    "    validation_data=(x_val_emb, y_val_emb))"
   ]
  },
  {
   "cell_type": "code",
   "execution_count": 35,
   "metadata": {},
   "outputs": [
    {
     "data": {
      "image/png": "[encoded data removed]",
      "text/plain": [
       "<Figure size 1080x360 with 2 Axes>"
      ]
     },
     "metadata": {
      "needs_background": "light"
     },
     "output_type": "display_data"
    },
    {
     "name": "stdout",
     "output_type": "stream",
     "text": [
      "Highest val accuracy: EPOC = 2\n"
     ]
    }
   ],
   "source": [
    "# Plot loss and accuracy\n",
    "plot_loss_acc(history_emb.history)\n",
    "\n",
    "# Find epoch with highest validation accuracy\n",
    "max_val_emb = max(history_emb.history['val_accuracy'])\n",
    "max_index_emb = history_emb.history['val_accuracy'].index(max_val_emb)\n",
    "max_epoc_emb = max_index_emb + 1 # index starts at 0\n",
    "print(f\"Highest val accuracy: EPOC = {max_epoc_emb}\")\n",
    "\n",
    "# save values\n",
    "scores_model['emb_model'] = {\n",
    "    'loss': np.round(history_emb.history['loss'][max_index_emb], 3),\n",
    "    'accuracy': np.round(history_emb.history['accuracy'][max_index_emb], 3),\n",
    "    'val_loss': np.round(history_emb.history['val_loss'][max_index_emb], 3),\n",
    "    'val_acc': np.round(history_emb.history['val_accuracy'][max_index_emb], 3)}\n"
   ]
  },
  {
   "cell_type": "code",
   "execution_count": 36,
   "metadata": {},
   "outputs": [
    {
     "name": "stdout",
     "output_type": "stream",
     "text": [
      "baseline model =  {'loss': 0.285, 'accuracy': 0.887, 'val_loss': 0.286, 'val_acc': 0.883}\n",
      "embedding model = {'loss': 0.31, 'accuracy': 0.878, 'val_loss': 0.276, 'val_acc': 0.885}\n"
     ]
    }
   ],
   "source": [
    "print(f\"baseline model =  {scores_model['baseline']}\")\n",
    "print(f\"embedding model = {scores_model['emb_model']}\")"
   ]
  },
  {
   "cell_type": "markdown",
   "metadata": {},
   "source": [
    "# Test accuracy"
   ]
  },
  {
   "cell_type": "markdown",
   "metadata": {},
   "source": [
    "Retrain models on the full data set(training + validation)"
   ]
  },
  {
   "cell_type": "code",
   "execution_count": 37,
   "metadata": {},
   "outputs": [
    {
     "name": "stdout",
     "output_type": "stream",
     "text": [
      "Epoch 1/5\n",
      "782/782 [==============================] - 3s 4ms/step - loss: 0.5162 - accuracy: 0.7425\n",
      "Epoch 2/5\n",
      "782/782 [==============================] - 3s 4ms/step - loss: 0.3754 - accuracy: 0.8402\n",
      "Epoch 3/5\n",
      "782/782 [==============================] - 3s 4ms/step - loss: 0.3197 - accuracy: 0.8634\n",
      "Epoch 4/5\n",
      "782/782 [==============================] - 3s 4ms/step - loss: 0.2948 - accuracy: 0.8758\n",
      "Epoch 5/5\n",
      "782/782 [==============================] - 3s 4ms/step - loss: 0.2630 - accuracy: 0.8882\n"
     ]
    }
   ],
   "source": [
    "model_baseline = keras.Sequential()\n",
    "\n",
    "# First layer\n",
    "model_baseline.add(layers.Dense(16, use_bias=False))\n",
    "model_baseline.add(layers.BatchNormalization())\n",
    "model_baseline.add(layers.Activation(activation=\"relu\"))\n",
    "model_baseline.add(layers.Dropout(rate=0.5))\n",
    "\n",
    "# Second layer\n",
    "model_baseline.add(layers.Dense(8, use_bias=False))\n",
    "model_baseline.add(layers.BatchNormalization())\n",
    "model_baseline.add(layers.Activation(activation=\"relu\"))\n",
    "model_baseline.add(layers.Dropout(rate=0.5))\n",
    "\n",
    "# Output layer\n",
    "model_baseline.add(layers.Dense(1, activation=\"sigmoid\"))\n",
    "\n",
    "model_baseline.compile(\n",
    "    optimizer=tf.keras.optimizers.Adam(learning_rate=0.001),\n",
    "    loss=\"binary_crossentropy\",\n",
    "    metrics=[\"accuracy\"])\n",
    "\n",
    "history = model_baseline.fit(\n",
    "    x_train_val,\n",
    "    y_train_val,\n",
    "    epochs=max_epoc, # epoch with highests val_accuracy\n",
    "    batch_size=32)"
   ]
  },
  {
   "cell_type": "code",
   "execution_count": 38,
   "metadata": {},
   "outputs": [
    {
     "name": "stdout",
     "output_type": "stream",
     "text": [
      "Epoch 1/2\n",
      "782/782 [==============================] - 16s 20ms/step - loss: 0.4724 - accuracy: 0.7761\n",
      "Epoch 2/2\n",
      "782/782 [==============================] - 15s 20ms/step - loss: 0.2873 - accuracy: 0.8891\n"
     ]
    }
   ],
   "source": [
    "emb_layer = hub.KerasLayer(\n",
    "    \"https://tfhub.dev/google/nnlm-en-dim50/2\",\n",
    "    input_shape=[],  # input shape is a list\n",
    "    dtype=tf.string,\n",
    "    # set \"trainable=True\" to perform transfer learning (fine-tune the model)\n",
    "    trainable=True)\n",
    "\n",
    "model_embedding = keras.Sequential()\n",
    "\n",
    "# Pretrained embedding\n",
    "model_embedding.add(emb_layer)\n",
    "\n",
    "# 1st Dense layer\n",
    "model_embedding.add(layers.Dense(16, use_bias=False))\n",
    "model_embedding.add(layers.BatchNormalization())\n",
    "model_embedding.add(layers.Activation(activation=\"relu\"))\n",
    "model_embedding.add(layers.Dropout(rate=0.5))\n",
    "\n",
    "model_embedding.add(layers.Dense(1, activation=\"sigmoid\"))\n",
    "\n",
    "model_embedding.compile(\n",
    "    optimizer=tf.keras.optimizers.Adam(learning_rate=0.001),\n",
    "    loss=tf.keras.losses.BinaryCrossentropy(),\n",
    "    metrics=[\"accuracy\"])\n",
    "\n",
    "history_emb = model_embedding.fit(\n",
    "    x_train_val_emb,\n",
    "    y_train_val_emb,\n",
    "    epochs=max_epoc_emb, # epoch with highests val_accuracy\n",
    "    batch_size=32)"
   ]
  },
  {
   "cell_type": "code",
   "execution_count": 39,
   "metadata": {},
   "outputs": [
    {
     "name": "stdout",
     "output_type": "stream",
     "text": [
      "Baseline model:  Test loss = 0.306 --- Test accuracy = 0.877\n",
      "Embedding model: Test loss = 0.343 --- Test accuracy = 0.861\n"
     ]
    }
   ],
   "source": [
    "test_baseline = model_baseline.evaluate(x_test, y_test, verbose=0)\n",
    "test_emb_model = model_embedding.evaluate(x_test_emb, y_test_emb, verbose=0)\n",
    "\n",
    "print(f\"Baseline model:  Test loss = {test_baseline[0]:.3f} --- Test accuracy = {test_baseline[1]:.3f}\")\n",
    "print(f\"Embedding model: Test loss = {test_emb_model[0]:.3f} --- Test accuracy = {test_emb_model[1]:.3f}\")"
   ]
  }
 ],
 "metadata": {
  "kernelspec": {
   "display_name": "Python 3 (ipykernel)",
   "language": "python",
   "name": "python3"
  },
  "language_info": {
   "codemirror_mode": {
    "name": "ipython",
    "version": 3
   },
   "file_extension": ".py",
   "mimetype": "text/x-python",
   "name": "python",
   "nbconvert_exporter": "python",
   "pygments_lexer": "ipython3",
   "version": "3.9.5"
  }
 },
 "nbformat": 4,
 "nbformat_minor": 4
}
