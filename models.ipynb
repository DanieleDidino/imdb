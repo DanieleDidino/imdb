{
 "cells": [
  {
   "cell_type": "markdown",
   "metadata": {},
   "source": [
    "# IMDB dataset\n",
    "\n",
    "Explore different NN models using the IMDB dataset (from Keras datasets).\n",
    "\n",
    "Dataset:\n",
    "\n",
    "- \"train_data\" and \"test_data\" are lists of reviews (indices encoding a sequence of words)\n",
    "- \"train_labels\" and \"test_labels\" are lists of 0s and 1s (0 = negative review; 1 = positive review)"
   ]
  },
  {
   "cell_type": "markdown",
   "metadata": {},
   "source": [
    "# Load libraries and data"
   ]
  },
  {
   "cell_type": "code",
   "execution_count": 1,
   "metadata": {},
   "outputs": [],
   "source": [
    "import numpy as np\n",
    "import matplotlib.pyplot as plt\n",
    "import tensorflow as tf\n",
    "from tensorflow.keras.datasets import imdb\n",
    "from tensorflow import keras \n",
    "from tensorflow.keras import layers\n",
    "import keras_tuner as kt\n",
    "import os\n",
    "import time\n",
    "\n",
    "# Set seeds\n",
    "np.random.seed(42)\n",
    "tf.random.set_seed(42)\n",
    "\n",
    "# num_words: integer or \"None\" (Default = \"None\" = all words are kept)\n",
    "# Words are ranked by how often they occur (in the training set) and only the \"num_words\" \n",
    "# most frequent words are kept. Any less frequent word will appear as \"oov_char\" value in \n",
    "# the sequence data.\n",
    "(train_data, train_labels), (test_data, test_labels) = imdb.load_data(num_words=10000)\n",
    "\n",
    "# Retrieves a dict mapping words to their index in the IMDB dataset.\n",
    "# (word index dictionary: keys are word strings, values are their index)\n",
    "word_index = imdb.get_word_index()"
   ]
  },
  {
   "cell_type": "markdown",
   "metadata": {},
   "source": [
    "Word index dictionary"
   ]
  },
  {
   "cell_type": "code",
   "execution_count": 2,
   "metadata": {},
   "outputs": [
    {
     "name": "stdout",
     "output_type": "stream",
     "text": [
      "First element: ('fawn', 34701)\n",
      "First key:     fawn\n",
      "First value:   34701\n"
     ]
    }
   ],
   "source": [
    "print(f\"First element: {list(word_index.items())[0]}\")\n",
    "print(f\"First key:     {list(word_index.keys())[0]}\")\n",
    "print(f\"First value:   {word_index['fawn']}\")"
   ]
  },
  {
   "cell_type": "markdown",
   "metadata": {},
   "source": [
    "# Test GPU"
   ]
  },
  {
   "cell_type": "code",
   "execution_count": 3,
   "metadata": {},
   "outputs": [
    {
     "name": "stdout",
     "output_type": "stream",
     "text": [
      "TensorFlow Version: 2.7.0\n",
      "KerasTuner Version: 1.1.0\n",
      "\n",
      "Device name:\n",
      "/device:GPU:0\n",
      "\n",
      "List physical devices:\n",
      "[PhysicalDevice(name='/physical_device:GPU:0', device_type='GPU')]\n",
      "\n",
      "with GPU (CUDA or ROCm) support?\n",
      "True\n",
      "\n",
      "with CUDA (GPU) support?\n",
      "True\n"
     ]
    }
   ],
   "source": [
    "print(f\"TensorFlow Version: {tf.__version__}\")\n",
    "print(f\"KerasTuner Version: {kt.__version__}\")\n",
    "\n",
    "print('\\nDevice name:')\n",
    "print(tf.test.gpu_device_name())\n",
    "\n",
    "print('\\nList physical devices:')\n",
    "print(tf.config.list_physical_devices('GPU'))\n",
    "\n",
    "# Returns whether TensorFlow was built with \n",
    "# GPU (CUDA or ROCm) support\n",
    "print('\\nwith GPU (CUDA or ROCm) support?')\n",
    "print(tf.test.is_built_with_gpu_support())\n",
    "\n",
    "# Returns whether TensorFlow was built with \n",
    "# CUDA (GPU) support\n",
    "print('\\nwith CUDA (GPU) support?')\n",
    "print(tf.test.is_built_with_cuda())\n"
   ]
  },
  {
   "cell_type": "code",
   "execution_count": 4,
   "metadata": {},
   "outputs": [
    {
     "name": "stdout",
     "output_type": "stream",
     "text": [
      "train_data[0]: [1, 14, 22, 16, 43, 530, 973, 1622, 1385, 65, 458, 4468, 66, 3941, 4, 173, 36, 256, 5, 25, 100, 43, 838, 112, 50, 670, 2, 9, 35, 480, 284, 5, 150, 4, 172, 112, 167, 2, 336, 385, 39, 4, 172, 4536, 1111, 17, 546, 38, 13, 447, 4, 192, 50, 16, 6, 147, 2025, 19, 14, 22, 4, 1920, 4613, 469, 4, 22, 71, 87, 12, 16, 43, 530, 38, 76, 15, 13, 1247, 4, 22, 17, 515, 17, 12, 16, 626, 18, 2, 5, 62, 386, 12, 8, 316, 8, 106, 5, 4, 2223, 5244, 16, 480, 66, 3785, 33, 4, 130, 12, 16, 38, 619, 5, 25, 124, 51, 36, 135, 48, 25, 1415, 33, 6, 22, 12, 215, 28, 77, 52, 5, 14, 407, 16, 82, 2, 8, 4, 107, 117, 5952, 15, 256, 4, 2, 7, 3766, 5, 723, 36, 71, 43, 530, 476, 26, 400, 317, 46, 7, 4, 2, 1029, 13, 104, 88, 4, 381, 15, 297, 98, 32, 2071, 56, 26, 141, 6, 194, 7486, 18, 4, 226, 22, 21, 134, 476, 26, 480, 5, 144, 30, 5535, 18, 51, 36, 28, 224, 92, 25, 104, 4, 226, 65, 16, 38, 1334, 88, 12, 16, 283, 5, 16, 4472, 113, 103, 32, 15, 16, 5345, 19, 178, 32]\n",
      "\n",
      "train_labels[0]: 1\n",
      "\n",
      "max word index: 9999\n"
     ]
    }
   ],
   "source": [
    "print(f\"train_data[0]: {train_data[0]}\")\n",
    "print(f\"\\ntrain_labels[0]: {train_labels[0]}\")\n",
    "print(f'\\nmax word index: {max([max(sequence) for sequence in train_data])}')"
   ]
  },
  {
   "cell_type": "code",
   "execution_count": 5,
   "metadata": {},
   "outputs": [
    {
     "name": "stdout",
     "output_type": "stream",
     "text": [
      "[START] this film was just brilliant casting location scenery story direction everyone's really suited the part they played and you could just imagine being there robert [OOV] is an amazing actor and now the same being director [OOV] father came from the same scottish island as myself so i loved the fact there was a real connection with this film the witty remarks throughout the film were great it was just brilliant so much that i bought the film as soon as it was released for [OOV] and would recommend it to everyone to watch and the fly fishing was amazing really cried at the end it was so sad and you know what they say if you cry at a film it must have been good and this definitely was also [OOV] to the two little boy's that played the [OOV] of norman and paul they were just brilliant children are often left out of the [OOV] list i think because the stars that play them all grown up are such a big profile for the whole film but these children are amazing and should be praised for what they have done don't you think the whole story was so lovely because it was true and was someone's life after all that was shared with us all\n"
     ]
    }
   ],
   "source": [
    "# Default parameters to keras.datasets.imdb.load_data\n",
    "start_char = 1\n",
    "oov_char = 2\n",
    "index_from = 3\n",
    "\n",
    "# Decode one of these reviews back to English words\n",
    "reverse_word_index = dict((index + index_from, word) for (word, index) in word_index.items())\n",
    "reverse_word_index[start_char] = \"[START]\"\n",
    "reverse_word_index[oov_char] = \"[OOV]\"\n",
    "\n",
    "# Decode the first sequence in the dataset\n",
    "decoded_review = \" \".join(reverse_word_index[i] for i in train_data[0])\n",
    "print(decoded_review)"
   ]
  },
  {
   "cell_type": "code",
   "execution_count": 6,
   "metadata": {},
   "outputs": [
    {
     "name": "stdout",
     "output_type": "stream",
     "text": [
      "Shape x_train: (15000, 10000)\n",
      "Shape y_train: (15000,)\n",
      "Shape x_val: (10000, 10000)\n",
      "Shape y_val: (10000,)\n",
      "Shape x_test: (25000, 10000)\n",
      "Shape y_test: (25000,)\n"
     ]
    }
   ],
   "source": [
    "# Function to vectorize the data\n",
    "def vectorize_sequences(sequences, dimension=10000):\n",
    "    results = np.zeros((len(sequences), dimension))\n",
    "    for i, sequence in enumerate(sequences):\n",
    "        for j in sequence:\n",
    "            results[i, j] = 1.\n",
    "    return results\n",
    "\n",
    "# Vectorize the data\n",
    "x_train_val = vectorize_sequences(train_data)\n",
    "x_test = vectorize_sequences(test_data)\n",
    "y_train_val = np.asarray(train_labels).astype(\"float32\")\n",
    "y_test = np.asarray(test_labels).astype(\"float32\")\n",
    "\n",
    "x_val = x_train_val[:10000]\n",
    "x_train = x_train_val[10000:]\n",
    "y_val = y_train_val[:10000]\n",
    "y_train = y_train_val[10000:]\n",
    "\n",
    "print(f\"Shape x_train: {x_train.shape}\")\n",
    "print(f\"Shape y_train: {y_train.shape}\")\n",
    "print(f\"Shape x_val: {x_val.shape}\")\n",
    "print(f\"Shape y_val: {y_val.shape}\")\n",
    "print(f\"Shape x_test: {x_test.shape}\")\n",
    "print(f\"Shape y_test: {y_test.shape}\")"
   ]
  },
  {
   "cell_type": "markdown",
   "metadata": {},
   "source": [
    "# Model 1"
   ]
  },
  {
   "cell_type": "code",
   "execution_count": 7,
   "metadata": {},
   "outputs": [],
   "source": [
    "model_1 = keras.Sequential([\n",
    "    layers.Dense(16, activation=\"relu\"),\n",
    "    layers.Dense(16, activation=\"relu\"),\n",
    "    layers.Dense(1, activation=\"sigmoid\")\n",
    "])\n",
    "\n",
    "model_1.compile(\n",
    "    optimizer=tf.keras.optimizers.Adam(),\n",
    "    loss=\"binary_crossentropy\",\n",
    "    metrics=[\"accuracy\"])"
   ]
  },
  {
   "cell_type": "code",
   "execution_count": 8,
   "metadata": {},
   "outputs": [
    {
     "name": "stdout",
     "output_type": "stream",
     "text": [
      "Epoch 1/10\n",
      "30/30 [==============================] - 2s 21ms/step - loss: 0.5598 - accuracy: 0.7533 - val_loss: 0.4109 - val_accuracy: 0.8531\n",
      "Epoch 2/10\n",
      "30/30 [==============================] - 0s 11ms/step - loss: 0.3021 - accuracy: 0.9004 - val_loss: 0.2919 - val_accuracy: 0.8874\n",
      "Epoch 3/10\n",
      "30/30 [==============================] - 0s 10ms/step - loss: 0.1969 - accuracy: 0.9355 - val_loss: 0.2764 - val_accuracy: 0.8908\n",
      "Epoch 4/10\n",
      "30/30 [==============================] - 0s 10ms/step - loss: 0.1434 - accuracy: 0.9557 - val_loss: 0.2895 - val_accuracy: 0.8837\n",
      "Epoch 5/10\n",
      "30/30 [==============================] - 0s 10ms/step - loss: 0.1086 - accuracy: 0.9699 - val_loss: 0.3041 - val_accuracy: 0.8832\n",
      "Epoch 6/10\n",
      "30/30 [==============================] - 0s 10ms/step - loss: 0.0826 - accuracy: 0.9797 - val_loss: 0.3260 - val_accuracy: 0.8808\n",
      "Epoch 7/10\n",
      "30/30 [==============================] - 0s 10ms/step - loss: 0.0643 - accuracy: 0.9861 - val_loss: 0.3537 - val_accuracy: 0.8782\n",
      "Epoch 8/10\n",
      "30/30 [==============================] - 0s 10ms/step - loss: 0.0490 - accuracy: 0.9907 - val_loss: 0.3844 - val_accuracy: 0.8756\n",
      "Epoch 9/10\n",
      "30/30 [==============================] - 0s 10ms/step - loss: 0.0390 - accuracy: 0.9943 - val_loss: 0.4115 - val_accuracy: 0.8738\n",
      "Epoch 10/10\n",
      "30/30 [==============================] - 0s 9ms/step - loss: 0.0286 - accuracy: 0.9968 - val_loss: 0.4442 - val_accuracy: 0.8724\n"
     ]
    }
   ],
   "source": [
    "history_1 = model_1.fit(\n",
    "    x_train,\n",
    "    y_train,\n",
    "    epochs=10,\n",
    "    batch_size=512,\n",
    "    validation_data=(x_val, y_val))"
   ]
  },
  {
   "cell_type": "code",
   "execution_count": 9,
   "metadata": {},
   "outputs": [
    {
     "name": "stdout",
     "output_type": "stream",
     "text": [
      "history key:\n",
      "dict_keys(['loss', 'accuracy', 'val_loss', 'val_accuracy'])\n"
     ]
    }
   ],
   "source": [
    "history_dict_1 = history_1.history\n",
    "print(f'history key:\\n{history_dict_1.keys()}')"
   ]
  },
  {
   "cell_type": "markdown",
   "metadata": {},
   "source": [
    "Function to plot losses and accuracies"
   ]
  },
  {
   "cell_type": "code",
   "execution_count": 10,
   "metadata": {},
   "outputs": [],
   "source": [
    "def plot_loss_acc(history_dict):\n",
    "\n",
    "    loss_values = history_dict[\"loss\"]\n",
    "    val_loss_values = history_dict[\"val_loss\"]\n",
    "\n",
    "    acc = history_dict[\"accuracy\"]\n",
    "    val_acc = history_dict[\"val_accuracy\"]\n",
    "\n",
    "    epochs = range(1, len(loss_values) + 1)\n",
    "    f, axes = plt.subplots(1, 2, figsize=(15, 5))\n",
    "    # Loss\n",
    "    axes[0].plot(epochs, loss_values, \"bo\", label=\"Training loss\")\n",
    "    axes[0].plot(epochs, val_loss_values, \"b\", label=\"Validation loss\")\n",
    "    axes[0].set_title(\"Training and validation loss\")\n",
    "    axes[0].set_xlabel(\"Epochs\")\n",
    "    axes[0].set_ylabel(\"Loss\")\n",
    "    axes[0].legend()\n",
    "    # Accuracy\n",
    "    axes[1].plot(epochs, acc, \"bo\", label=\"Training acc\")\n",
    "    axes[1].plot(epochs, val_acc, \"b\", label=\"Validation acc\")\n",
    "    axes[1].set_title(\"Training and validation accuracy\")\n",
    "    axes[1].set_xlabel(\"Epochs\")\n",
    "    axes[1].set_ylabel(\"Accuracy\")\n",
    "    axes[1].legend()\n",
    "    #\n",
    "    plt.show()"
   ]
  },
  {
   "cell_type": "code",
   "execution_count": 11,
   "metadata": {},
   "outputs": [
    {
     "data": {
      "image/png": "[encoded data removed]",
      "text/plain": [
       "<Figure size 1080x360 with 2 Axes>"
      ]
     },
     "metadata": {
      "needs_background": "light"
     },
     "output_type": "display_data"
    }
   ],
   "source": [
    "plot_loss_acc(history_dict_1)"
   ]
  },
  {
   "cell_type": "markdown",
   "metadata": {},
   "source": [
    "## Model 1a\n",
    "\n",
    "At epoch 3, validation loss has its minimum and validation accuracy peaks. The model starts overfitting after epoch 3, thus we stop the training at epoch 3."
   ]
  },
  {
   "cell_type": "code",
   "execution_count": 12,
   "metadata": {},
   "outputs": [],
   "source": [
    "model_1a = keras.Sequential([\n",
    "    layers.Dense(16, activation=\"relu\"),\n",
    "    layers.Dense(16, activation=\"relu\"),\n",
    "    layers.Dense(1, activation=\"sigmoid\")\n",
    "])\n",
    "\n",
    "model_1a.compile(\n",
    "    optimizer=tf.keras.optimizers.Adam(),\n",
    "    loss=\"binary_crossentropy\",\n",
    "    metrics=[\"accuracy\"])"
   ]
  },
  {
   "cell_type": "code",
   "execution_count": 13,
   "metadata": {},
   "outputs": [
    {
     "name": "stdout",
     "output_type": "stream",
     "text": [
      "Epoch 1/3\n",
      "30/30 [==============================] - 1s 22ms/step - loss: 0.5586 - accuracy: 0.7585 - val_loss: 0.4122 - val_accuracy: 0.8514\n",
      "Epoch 2/3\n",
      "30/30 [==============================] - 0s 11ms/step - loss: 0.3086 - accuracy: 0.8966 - val_loss: 0.3007 - val_accuracy: 0.8847\n",
      "Epoch 3/3\n",
      "30/30 [==============================] - 0s 9ms/step - loss: 0.2056 - accuracy: 0.9321 - val_loss: 0.2780 - val_accuracy: 0.8897\n"
     ]
    }
   ],
   "source": [
    "history_1a = model_1a.fit(\n",
    "    x_train,\n",
    "    y_train,\n",
    "    epochs=3,\n",
    "    batch_size=512,\n",
    "    validation_data=(x_val, y_val))"
   ]
  },
  {
   "cell_type": "code",
   "execution_count": 14,
   "metadata": {},
   "outputs": [
    {
     "data": {
      "image/png": "[encoded data removed]",
      "text/plain": [
       "<Figure size 1080x360 with 2 Axes>"
      ]
     },
     "metadata": {
      "needs_background": "light"
     },
     "output_type": "display_data"
    }
   ],
   "source": [
    "history_dict_1a = history_1a.history\n",
    "\n",
    "plot_loss_acc(history_dict_1a)"
   ]
  },
  {
   "cell_type": "markdown",
   "metadata": {},
   "source": [
    "# Model 2\n",
    "\n",
    "Add:\n",
    "- more units (Model 2: 20 units; Model 1: 16 units)\n",
    "- Bacht normalization (normalize before the activation function)\n",
    "- Dropout"
   ]
  },
  {
   "cell_type": "code",
   "execution_count": 15,
   "metadata": {},
   "outputs": [],
   "source": [
    "model_2 = keras.Sequential([\n",
    "    # Layer 1\n",
    "    layers.Dense(20, use_bias=False),\n",
    "    layers.BatchNormalization(),\n",
    "    layers.Activation(\"relu\"),\n",
    "    layers.Dropout(rate=0.5),\n",
    "    # Layer 2\n",
    "    layers.Dense(20, use_bias=False),\n",
    "    layers.BatchNormalization(),\n",
    "    layers.Activation(\"relu\"),\n",
    "    layers.Dropout(rate=0.5),\n",
    "    # output layer\n",
    "    layers.Dense(1, activation=\"sigmoid\")\n",
    "])\n",
    "\n",
    "model_2.compile(\n",
    "    optimizer=keras.optimizers.Adam(learning_rate=0.0001),\n",
    "    loss=\"binary_crossentropy\",\n",
    "    metrics=[\"accuracy\"])"
   ]
  },
  {
   "cell_type": "code",
   "execution_count": 16,
   "metadata": {},
   "outputs": [
    {
     "name": "stdout",
     "output_type": "stream",
     "text": [
      "Epoch 1/25\n",
      "59/59 [==============================] - 1s 12ms/step - loss: 0.8131 - accuracy: 0.5310 - val_loss: 0.6800 - val_accuracy: 0.6186\n",
      "Epoch 2/25\n",
      "59/59 [==============================] - 0s 8ms/step - loss: 0.7346 - accuracy: 0.5783 - val_loss: 0.6618 - val_accuracy: 0.6986\n",
      "Epoch 3/25\n",
      "59/59 [==============================] - 0s 8ms/step - loss: 0.6650 - accuracy: 0.6238 - val_loss: 0.6394 - val_accuracy: 0.7425\n",
      "Epoch 4/25\n",
      "59/59 [==============================] - 0s 8ms/step - loss: 0.6216 - accuracy: 0.6534 - val_loss: 0.6104 - val_accuracy: 0.7698\n",
      "Epoch 5/25\n",
      "59/59 [==============================] - 0s 8ms/step - loss: 0.5768 - accuracy: 0.6954 - val_loss: 0.5771 - val_accuracy: 0.7904\n",
      "Epoch 6/25\n",
      "59/59 [==============================] - 0s 8ms/step - loss: 0.5478 - accuracy: 0.7125 - val_loss: 0.5367 - val_accuracy: 0.8078\n",
      "Epoch 7/25\n",
      "59/59 [==============================] - 0s 8ms/step - loss: 0.5213 - accuracy: 0.7343 - val_loss: 0.4972 - val_accuracy: 0.8213\n",
      "Epoch 8/25\n",
      "59/59 [==============================] - 0s 8ms/step - loss: 0.4964 - accuracy: 0.7496 - val_loss: 0.4641 - val_accuracy: 0.8334\n",
      "Epoch 9/25\n",
      "59/59 [==============================] - 0s 8ms/step - loss: 0.4740 - accuracy: 0.7726 - val_loss: 0.4453 - val_accuracy: 0.8410\n",
      "Epoch 10/25\n",
      "59/59 [==============================] - 0s 8ms/step - loss: 0.4536 - accuracy: 0.7852 - val_loss: 0.4214 - val_accuracy: 0.8481\n",
      "Epoch 11/25\n",
      "59/59 [==============================] - 0s 8ms/step - loss: 0.4303 - accuracy: 0.8038 - val_loss: 0.4033 - val_accuracy: 0.8533\n",
      "Epoch 12/25\n",
      "59/59 [==============================] - 0s 8ms/step - loss: 0.4159 - accuracy: 0.8224 - val_loss: 0.3880 - val_accuracy: 0.8579\n",
      "Epoch 13/25\n",
      "59/59 [==============================] - 0s 8ms/step - loss: 0.3975 - accuracy: 0.8280 - val_loss: 0.3710 - val_accuracy: 0.8633\n",
      "Epoch 14/25\n",
      "59/59 [==============================] - 0s 8ms/step - loss: 0.3803 - accuracy: 0.8439 - val_loss: 0.3662 - val_accuracy: 0.8638\n",
      "Epoch 15/25\n",
      "59/59 [==============================] - 0s 8ms/step - loss: 0.3666 - accuracy: 0.8485 - val_loss: 0.3568 - val_accuracy: 0.8668\n",
      "Epoch 16/25\n",
      "59/59 [==============================] - 0s 8ms/step - loss: 0.3526 - accuracy: 0.8583 - val_loss: 0.3459 - val_accuracy: 0.8688\n",
      "Epoch 17/25\n",
      "59/59 [==============================] - 0s 8ms/step - loss: 0.3399 - accuracy: 0.8697 - val_loss: 0.3385 - val_accuracy: 0.8709\n",
      "Epoch 18/25\n",
      "59/59 [==============================] - 0s 8ms/step - loss: 0.3281 - accuracy: 0.8755 - val_loss: 0.3345 - val_accuracy: 0.8738\n",
      "Epoch 19/25\n",
      "59/59 [==============================] - 0s 8ms/step - loss: 0.3132 - accuracy: 0.8821 - val_loss: 0.3293 - val_accuracy: 0.8746\n",
      "Epoch 20/25\n",
      "59/59 [==============================] - 0s 8ms/step - loss: 0.3010 - accuracy: 0.8911 - val_loss: 0.3214 - val_accuracy: 0.8745\n",
      "Epoch 21/25\n",
      "59/59 [==============================] - 0s 8ms/step - loss: 0.2925 - accuracy: 0.8959 - val_loss: 0.3161 - val_accuracy: 0.8770\n",
      "Epoch 22/25\n",
      "59/59 [==============================] - 0s 8ms/step - loss: 0.2844 - accuracy: 0.8980 - val_loss: 0.3095 - val_accuracy: 0.8781\n",
      "Epoch 23/25\n",
      "59/59 [==============================] - 0s 8ms/step - loss: 0.2720 - accuracy: 0.9085 - val_loss: 0.3108 - val_accuracy: 0.8775\n",
      "Epoch 24/25\n",
      "59/59 [==============================] - 0s 8ms/step - loss: 0.2624 - accuracy: 0.9118 - val_loss: 0.3046 - val_accuracy: 0.8782\n",
      "Epoch 25/25\n",
      "59/59 [==============================] - 0s 7ms/step - loss: 0.2525 - accuracy: 0.9201 - val_loss: 0.3009 - val_accuracy: 0.8792\n"
     ]
    }
   ],
   "source": [
    "history_2 = model_2.fit(\n",
    "    x_train,\n",
    "    y_train,\n",
    "    epochs=25,\n",
    "    batch_size=256,\n",
    "    validation_data=(x_val, y_val))"
   ]
  },
  {
   "cell_type": "code",
   "execution_count": 17,
   "metadata": {},
   "outputs": [
    {
     "data": {
      "image/png": "[encoded data removed]",
      "text/plain": [
       "<Figure size 1080x360 with 2 Axes>"
      ]
     },
     "metadata": {
      "needs_background": "light"
     },
     "output_type": "display_data"
    }
   ],
   "source": [
    "history_dict_2 = history_2.history\n",
    "plot_loss_acc(history_dict_2)"
   ]
  },
  {
   "cell_type": "markdown",
   "metadata": {},
   "source": [
    "# Model 3\n",
    "\n",
    "Add:\n",
    "- more layers (Model 3: 2 layers; Model 2: 3 layers)\n",
    "- more units\n",
    "- More dropout (Model 3: 0.3; Model 2: 0.5)"
   ]
  },
  {
   "cell_type": "code",
   "execution_count": 18,
   "metadata": {},
   "outputs": [],
   "source": [
    "model_3 = keras.Sequential([\n",
    "    # Layer 1\n",
    "    layers.Dense(64, use_bias=False),\n",
    "    layers.BatchNormalization(),\n",
    "    layers.Activation(\"relu\"),\n",
    "    layers.Dropout(rate=0.3),\n",
    "    # Layer 2\n",
    "    layers.Dense(32, use_bias=False),\n",
    "    layers.BatchNormalization(),\n",
    "    layers.Activation(\"relu\"),\n",
    "    layers.Dropout(rate=0.3),\n",
    "    # Layer 3\n",
    "    layers.Dense(20, use_bias=False),\n",
    "    layers.BatchNormalization(),\n",
    "    layers.Activation(\"relu\"),\n",
    "    layers.Dropout(rate=0.3),\n",
    "    # output layer\n",
    "    layers.Dense(1, activation=\"sigmoid\")\n",
    "])\n",
    "\n",
    "model_3.compile(\n",
    "    optimizer=keras.optimizers.Adam(learning_rate=0.0001),\n",
    "    loss=\"binary_crossentropy\",\n",
    "    metrics=[\"accuracy\"])"
   ]
  },
  {
   "cell_type": "code",
   "execution_count": 19,
   "metadata": {},
   "outputs": [
    {
     "name": "stdout",
     "output_type": "stream",
     "text": [
      "Epoch 1/20\n",
      "59/59 [==============================] - 1s 13ms/step - loss: 0.7511 - accuracy: 0.5381 - val_loss: 0.6778 - val_accuracy: 0.5593\n",
      "Epoch 2/20\n",
      "59/59 [==============================] - 0s 8ms/step - loss: 0.6489 - accuracy: 0.6250 - val_loss: 0.6484 - val_accuracy: 0.6472\n",
      "Epoch 3/20\n",
      "59/59 [==============================] - 0s 8ms/step - loss: 0.5845 - accuracy: 0.6886 - val_loss: 0.6110 - val_accuracy: 0.7197\n",
      "Epoch 4/20\n",
      "59/59 [==============================] - 0s 8ms/step - loss: 0.5325 - accuracy: 0.7393 - val_loss: 0.5623 - val_accuracy: 0.7871\n",
      "Epoch 5/20\n",
      "59/59 [==============================] - 0s 8ms/step - loss: 0.4914 - accuracy: 0.7723 - val_loss: 0.5138 - val_accuracy: 0.8200\n",
      "Epoch 6/20\n",
      "59/59 [==============================] - 1s 9ms/step - loss: 0.4467 - accuracy: 0.8100 - val_loss: 0.4620 - val_accuracy: 0.8443\n",
      "Epoch 7/20\n",
      "59/59 [==============================] - 1s 9ms/step - loss: 0.4134 - accuracy: 0.8357 - val_loss: 0.4206 - val_accuracy: 0.8544\n",
      "Epoch 8/20\n",
      "59/59 [==============================] - 1s 9ms/step - loss: 0.3809 - accuracy: 0.8585 - val_loss: 0.3965 - val_accuracy: 0.8610\n",
      "Epoch 9/20\n",
      "59/59 [==============================] - 1s 9ms/step - loss: 0.3521 - accuracy: 0.8783 - val_loss: 0.3691 - val_accuracy: 0.8675\n",
      "Epoch 10/20\n",
      "59/59 [==============================] - 1s 9ms/step - loss: 0.3248 - accuracy: 0.8936 - val_loss: 0.3513 - val_accuracy: 0.8715\n",
      "Epoch 11/20\n",
      "59/59 [==============================] - 1s 9ms/step - loss: 0.3012 - accuracy: 0.9047 - val_loss: 0.3357 - val_accuracy: 0.8744\n",
      "Epoch 12/20\n",
      "59/59 [==============================] - 1s 9ms/step - loss: 0.2817 - accuracy: 0.9170 - val_loss: 0.3253 - val_accuracy: 0.8784\n",
      "Epoch 13/20\n",
      "59/59 [==============================] - 1s 9ms/step - loss: 0.2568 - accuracy: 0.9280 - val_loss: 0.3155 - val_accuracy: 0.8781\n",
      "Epoch 14/20\n",
      "59/59 [==============================] - 1s 9ms/step - loss: 0.2406 - accuracy: 0.9364 - val_loss: 0.3090 - val_accuracy: 0.8801\n",
      "Epoch 15/20\n",
      "59/59 [==============================] - 1s 9ms/step - loss: 0.2242 - accuracy: 0.9439 - val_loss: 0.3032 - val_accuracy: 0.8815\n",
      "Epoch 16/20\n",
      "59/59 [==============================] - 0s 8ms/step - loss: 0.2097 - accuracy: 0.9471 - val_loss: 0.3002 - val_accuracy: 0.8790\n",
      "Epoch 17/20\n",
      "59/59 [==============================] - 0s 8ms/step - loss: 0.1933 - accuracy: 0.9527 - val_loss: 0.2935 - val_accuracy: 0.8819\n",
      "Epoch 18/20\n",
      "59/59 [==============================] - 1s 9ms/step - loss: 0.1801 - accuracy: 0.9599 - val_loss: 0.2912 - val_accuracy: 0.8839\n",
      "Epoch 19/20\n",
      "59/59 [==============================] - 1s 9ms/step - loss: 0.1652 - accuracy: 0.9667 - val_loss: 0.2883 - val_accuracy: 0.8836\n",
      "Epoch 20/20\n",
      "59/59 [==============================] - 0s 8ms/step - loss: 0.1526 - accuracy: 0.9712 - val_loss: 0.2879 - val_accuracy: 0.8833\n"
     ]
    }
   ],
   "source": [
    "history_3 = model_3.fit(\n",
    "    x_train,\n",
    "    y_train,\n",
    "    epochs=20,\n",
    "    batch_size=256,\n",
    "    validation_data=(x_val, y_val))"
   ]
  },
  {
   "cell_type": "code",
   "execution_count": 20,
   "metadata": {},
   "outputs": [
    {
     "data": {
      "image/png": "[encoded data removed]",
      "text/plain": [
       "<Figure size 1080x360 with 2 Axes>"
      ]
     },
     "metadata": {
      "needs_background": "light"
     },
     "output_type": "display_data"
    }
   ],
   "source": [
    "history_dict_3 = history_3.history\n",
    "\n",
    "plot_loss_acc(history_dict_3)"
   ]
  },
  {
   "cell_type": "markdown",
   "metadata": {},
   "source": [
    "# Validation set"
   ]
  },
  {
   "cell_type": "code",
   "execution_count": 21,
   "metadata": {},
   "outputs": [
    {
     "name": "stdout",
     "output_type": "stream",
     "text": [
      "model_1  loss = 0.444 --- accuracy = 0.872\n",
      "model_1a loss = 0.278 --- accuracy = 0.890\n",
      "model_2  loss = 0.301 --- accuracy = 0.879\n",
      "model_3  loss = 0.288 --- accuracy = 0.883\n"
     ]
    }
   ],
   "source": [
    "models = [model_1, model_1a, model_2, model_3]\n",
    "models_names = ['model_1 ', 'model_1a', 'model_2 ', 'model_3 ']\n",
    "\n",
    "for n, m in zip(models_names, models):\n",
    "    r = m.evaluate(x_val, y_val, verbose=0)\n",
    "    print(f\"{n} loss = {r[0]:.3f} --- accuracy = {r[1]:.3f}\")"
   ]
  },
  {
   "cell_type": "markdown",
   "metadata": {},
   "source": [
    "**Model 1a** hat the highest test accuracy"
   ]
  },
  {
   "cell_type": "markdown",
   "metadata": {},
   "source": [
    "# Hypertuning"
   ]
  },
  {
   "cell_type": "code",
   "execution_count": 22,
   "metadata": {},
   "outputs": [],
   "source": [
    "def model_builder(hp):\n",
    "\n",
    "    # Number of hidden layers: 1 - 5 (step: 1)\n",
    "    hl_min=1\n",
    "    hl_max=5\n",
    "    hl_step=1\n",
    "\n",
    "    # Number of hidden units: 16 - 64 (steps: 16)\n",
    "    hu_min=16\n",
    "    hu_max=64\n",
    "    hu_step=16\n",
    "\n",
    "    # Dropout rate\n",
    "    dr_min=0.1\n",
    "    dr_max=0.5\n",
    "    dr_step=0.1\n",
    "\n",
    "    # Learning rate\n",
    "    lr_min=1e-5\n",
    "    lr_max=1e-2\n",
    "    lr_sampling=\"log\"  # log = equal probabilities to each order of magnitude range\n",
    "    \n",
    "    \n",
    "    # Create an instance for a Sequential model \n",
    "    model = keras.Sequential()\n",
    "\n",
    "    # Input layer\n",
    "    model.add(keras.layers.Flatten())\n",
    "\n",
    "    # Hidden layers\n",
    "    # Number of hidden layers: 1 - 5\n",
    "    # Number of hidden units: 16 - 64 (steps: 16)\n",
    "    hp_layers = hp.Int(\"num_layers\", min_value=hl_min, max_value=hl_max, step=hl_step)\n",
    "    for i in range(hp_layers):\n",
    "        # Add hidden layer\n",
    "        model.add(keras.layers.Dense(\n",
    "            units=hp.Int(\"units_\" + str(i), min_value=hu_min, max_value=hu_max, step=hu_step),\n",
    "            kernel_initializer=\"he_normal\",\n",
    "            use_bias=False))\n",
    "        # Batch normalization\n",
    "        model.add(layers.BatchNormalization()),\n",
    "        # Activation fulction\n",
    "        hp_activation = hp.Choice(\"activation\", [\"relu\", \"elu\"])\n",
    "        model.add(layers.Activation(activation=hp_activation)),\n",
    "        # Dropout\n",
    "        hp_add_dropout = hp.Boolean(\"dropout\")\n",
    "        hp_dropout_rate = hp.Float(\"dropout_\" + str(i), min_value=dr_min, max_value=dr_max, step=dr_step)\n",
    "        if hp_add_dropout:\n",
    "            model.add(layers.Dropout(rate=hp_dropout_rate))\n",
    "    \n",
    "    # Output layer\n",
    "    model.add(keras.layers.Dense(1, activation=\"sigmoid\"))\n",
    "\n",
    "    # Tune the learning rate for the optimizer (choose an optimal value between 0.00001 and 0.01).\n",
    "    # \"log\" will assign equal probabilities to each order of magnitude range.\n",
    "    hp_learning_rate = hp.Float(\"learning_rate\", min_value=lr_min, max_value=lr_max, sampling=lr_sampling)\n",
    "\n",
    "    #compile the model\n",
    "    model.compile(\n",
    "        loss=\"binary_crossentropy\",\n",
    "        optimizer=keras.optimizers.Adam(learning_rate=hp_learning_rate),\n",
    "        metrics=[\"accuracy\"])\n",
    "    \n",
    "    return model"
   ]
  },
  {
   "cell_type": "code",
   "execution_count": 23,
   "metadata": {},
   "outputs": [
    {
     "data": {
      "text/plain": [
       "<keras.engine.sequential.Sequential at 0x22f4d1c5490>"
      ]
     },
     "execution_count": 23,
     "metadata": {},
     "output_type": "execute_result"
    }
   ],
   "source": [
    "model_builder(kt.HyperParameters())"
   ]
  },
  {
   "cell_type": "code",
   "execution_count": 24,
   "metadata": {},
   "outputs": [
    {
     "name": "stdout",
     "output_type": "stream",
     "text": [
      "INFO:tensorflow:Reloading Oracle from existing project dir_tuner\\imdb_tuner\\oracle.json\n",
      "INFO:tensorflow:Reloading Tuner from dir_tuner\\imdb_tuner\\tuner0.json\n",
      "Search space summary\n",
      "Default search space size: 16\n",
      "num_layers (Int)\n",
      "{'default': None, 'conditions': [], 'min_value': 1, 'max_value': 6, 'step': 1, 'sampling': None}\n",
      "units_0 (Int)\n",
      "{'default': None, 'conditions': [], 'min_value': 16, 'max_value': 64, 'step': 16, 'sampling': None}\n",
      "activation (Choice)\n",
      "{'default': 'relu', 'conditions': [], 'values': ['relu', 'elu'], 'ordered': False}\n",
      "dropout (Boolean)\n",
      "{'default': False, 'conditions': []}\n",
      "dropout_0 (Float)\n",
      "{'default': 0.1, 'conditions': [], 'min_value': 0.1, 'max_value': 0.5, 'step': 0.1, 'sampling': None}\n",
      "learning_rate (Float)\n",
      "{'default': 1e-05, 'conditions': [], 'min_value': 1e-05, 'max_value': 0.01, 'step': None, 'sampling': 'log'}\n",
      "units_1 (Int)\n",
      "{'default': None, 'conditions': [], 'min_value': 16, 'max_value': 64, 'step': 16, 'sampling': None}\n",
      "dropout_1 (Float)\n",
      "{'default': 0.1, 'conditions': [], 'min_value': 0.1, 'max_value': 0.5, 'step': 0.1, 'sampling': None}\n",
      "units_2 (Int)\n",
      "{'default': None, 'conditions': [], 'min_value': 16, 'max_value': 64, 'step': 16, 'sampling': None}\n",
      "dropout_2 (Float)\n",
      "{'default': 0.1, 'conditions': [], 'min_value': 0.1, 'max_value': 0.5, 'step': 0.1, 'sampling': None}\n",
      "units_3 (Int)\n",
      "{'default': None, 'conditions': [], 'min_value': 16, 'max_value': 64, 'step': 16, 'sampling': None}\n",
      "dropout_3 (Float)\n",
      "{'default': 0.1, 'conditions': [], 'min_value': 0.1, 'max_value': 0.5, 'step': 0.1, 'sampling': None}\n",
      "units_4 (Int)\n",
      "{'default': None, 'conditions': [], 'min_value': 16, 'max_value': 64, 'step': 16, 'sampling': None}\n",
      "dropout_4 (Float)\n",
      "{'default': 0.1, 'conditions': [], 'min_value': 0.1, 'max_value': 0.5, 'step': 0.1, 'sampling': None}\n",
      "units_5 (Int)\n",
      "{'default': None, 'conditions': [], 'min_value': 16, 'max_value': 64, 'step': 16, 'sampling': None}\n",
      "dropout_5 (Float)\n",
      "{'default': 0.1, 'conditions': [], 'min_value': 0.1, 'max_value': 0.5, 'step': 0.1, 'sampling': None}\n",
      "None\n"
     ]
    }
   ],
   "source": [
    "# Instantiate the Hyperband tuner\n",
    "tuner = kt.Hyperband(\n",
    "    model_builder,\n",
    "    objective='val_accuracy',  # 'val_loss'\n",
    "    max_epochs=20,\n",
    "    factor=3,\n",
    "    hyperband_iterations=5,\n",
    "    seed=42,\n",
    "    directory='dir_tuner',\n",
    "    project_name='imdb_tuner',\n",
    "    # overwrite: Boolean, defaults to False. If False, reloads\n",
    "    # an existing project of the same name if one is found.\n",
    "    # Otherwise, overwrites the project.\n",
    "    # (\"overwrite\" is a keyword arguments of the \"Tuner\" class)\n",
    "    overwrite=False)\n",
    "\n",
    "# Display search space summary\n",
    "print(tuner.search_space_summary())\n"
   ]
  },
  {
   "cell_type": "code",
   "execution_count": 25,
   "metadata": {},
   "outputs": [],
   "source": [
    "# Define root log directory\n",
    "def get_run_logdir():\n",
    "    root_logdir = os.path.join(os.curdir, \"my_logs\")\n",
    "    run_id = time.strftime(\"run_%Y_%m_%d-%H_%M_%S\")\n",
    "    return os.path.join(root_logdir, run_id)\n",
    "\n",
    "\n",
    "# Create callbacks\n",
    "run_logdir = get_run_logdir()\n",
    "early_stopping_cb = keras.callbacks.EarlyStopping(monitor='val_loss', patience=5)\n",
    "model_checkpoint_cb = keras.callbacks.ModelCheckpoint(\"best_model_hp_tunig\", save_best_only=True)\n",
    "tensorboard_cb = keras.callbacks.TensorBoard(run_logdir)\n",
    "callbacks = [early_stopping_cb, model_checkpoint_cb, tensorboard_cb]"
   ]
  },
  {
   "cell_type": "markdown",
   "metadata": {},
   "source": [
    "The search takes about 1 hour"
   ]
  },
  {
   "cell_type": "code",
   "execution_count": 26,
   "metadata": {},
   "outputs": [
    {
     "name": "stdout",
     "output_type": "stream",
     "text": [
      "INFO:tensorflow:Oracle triggered exit\n"
     ]
    }
   ],
   "source": [
    "# Perform hypertuning\n",
    "tuner.search(\n",
    "    x_train,\n",
    "    y_train,\n",
    "    epochs=20,\n",
    "    batch_size=32, # 256 # 512\n",
    "    validation_data=(x_val, y_val),\n",
    "    callbacks=callbacks)"
   ]
  },
  {
   "cell_type": "markdown",
   "metadata": {},
   "source": [
    "## Retrain the best model"
   ]
  },
  {
   "cell_type": "code",
   "execution_count": 27,
   "metadata": {},
   "outputs": [
    {
     "name": "stdout",
     "output_type": "stream",
     "text": [
      "{'num_layers': 3, 'units_0': 64, 'activation': 'elu', 'dropout': True, 'dropout_0': 0.4, 'learning_rate': 9.191261178883892e-05, 'units_1': 48, 'dropout_1': 0.30000000000000004, 'units_2': 32, 'dropout_2': 0.4, 'units_3': 16, 'dropout_3': 0.30000000000000004, 'units_4': 48, 'dropout_4': 0.30000000000000004, 'units_5': 32, 'dropout_5': 0.2, 'tuner/epochs': 20, 'tuner/initial_epoch': 7, 'tuner/bracket': 2, 'tuner/round': 2, 'tuner/trial_id': '2fbaa06b9fc88fd89ae18000004952c3'}\n"
     ]
    }
   ],
   "source": [
    "best_hps = tuner.get_best_hyperparameters()[0]\n",
    "\n",
    "print(best_hps.values)"
   ]
  },
  {
   "cell_type": "code",
   "execution_count": 28,
   "metadata": {},
   "outputs": [
    {
     "name": "stdout",
     "output_type": "stream",
     "text": [
      "Search space summary\n",
      "Default search space size: 16\n",
      "num_layers (Int)\n",
      "{'default': None, 'conditions': [], 'min_value': 1, 'max_value': 6, 'step': 1, 'sampling': None}\n",
      "units_0 (Int)\n",
      "{'default': None, 'conditions': [], 'min_value': 16, 'max_value': 64, 'step': 16, 'sampling': None}\n",
      "activation (Choice)\n",
      "{'default': 'relu', 'conditions': [], 'values': ['relu', 'elu'], 'ordered': False}\n",
      "dropout (Boolean)\n",
      "{'default': False, 'conditions': []}\n",
      "dropout_0 (Float)\n",
      "{'default': 0.1, 'conditions': [], 'min_value': 0.1, 'max_value': 0.5, 'step': 0.1, 'sampling': None}\n",
      "learning_rate (Float)\n",
      "{'default': 1e-05, 'conditions': [], 'min_value': 1e-05, 'max_value': 0.01, 'step': None, 'sampling': 'log'}\n",
      "units_1 (Int)\n",
      "{'default': None, 'conditions': [], 'min_value': 16, 'max_value': 64, 'step': 16, 'sampling': None}\n",
      "dropout_1 (Float)\n",
      "{'default': 0.1, 'conditions': [], 'min_value': 0.1, 'max_value': 0.5, 'step': 0.1, 'sampling': None}\n",
      "units_2 (Int)\n",
      "{'default': None, 'conditions': [], 'min_value': 16, 'max_value': 64, 'step': 16, 'sampling': None}\n",
      "dropout_2 (Float)\n",
      "{'default': 0.1, 'conditions': [], 'min_value': 0.1, 'max_value': 0.5, 'step': 0.1, 'sampling': None}\n",
      "units_3 (Int)\n",
      "{'default': None, 'conditions': [], 'min_value': 16, 'max_value': 64, 'step': 16, 'sampling': None}\n",
      "dropout_3 (Float)\n",
      "{'default': 0.1, 'conditions': [], 'min_value': 0.1, 'max_value': 0.5, 'step': 0.1, 'sampling': None}\n",
      "units_4 (Int)\n",
      "{'default': None, 'conditions': [], 'min_value': 16, 'max_value': 64, 'step': 16, 'sampling': None}\n",
      "dropout_4 (Float)\n",
      "{'default': 0.1, 'conditions': [], 'min_value': 0.1, 'max_value': 0.5, 'step': 0.1, 'sampling': None}\n",
      "units_5 (Int)\n",
      "{'default': None, 'conditions': [], 'min_value': 16, 'max_value': 64, 'step': 16, 'sampling': None}\n",
      "dropout_5 (Float)\n",
      "{'default': 0.1, 'conditions': [], 'min_value': 0.1, 'max_value': 0.5, 'step': 0.1, 'sampling': None}\n",
      "None\n"
     ]
    }
   ],
   "source": [
    "print(tuner.search_space_summary())"
   ]
  },
  {
   "cell_type": "code",
   "execution_count": 29,
   "metadata": {},
   "outputs": [],
   "source": [
    "# Build the model with the optimal hyperparameters and train it\n",
    "model_hp = tuner.hypermodel.build(best_hps)"
   ]
  },
  {
   "cell_type": "code",
   "execution_count": 30,
   "metadata": {},
   "outputs": [
    {
     "name": "stdout",
     "output_type": "stream",
     "text": [
      "current directiry:  d:\\Projects\\ML\\imdb_DNN\n",
      "Root log directory:  .\\my_logs\\run_2023_03_02-16_30_28\n",
      "Epoch 1/30\n",
      "469/469 [==============================] - ETA: 0s - loss: 0.6391 - accuracy: 0.6661INFO:tensorflow:Assets written to: models_hp\\assets\n",
      "469/469 [==============================] - 5s 8ms/step - loss: 0.6391 - accuracy: 0.6661 - val_loss: 0.3996 - val_accuracy: 0.8417\n",
      "Epoch 2/30\n",
      "465/469 [============================>.] - ETA: 0s - loss: 0.4211 - accuracy: 0.8112INFO:tensorflow:Assets written to: models_hp\\assets\n",
      "469/469 [==============================] - 4s 8ms/step - loss: 0.4199 - accuracy: 0.8117 - val_loss: 0.3221 - val_accuracy: 0.8671\n",
      "Epoch 3/30\n",
      "466/469 [============================>.] - ETA: 0s - loss: 0.3283 - accuracy: 0.8633INFO:tensorflow:Assets written to: models_hp\\assets\n",
      "469/469 [==============================] - 4s 8ms/step - loss: 0.3282 - accuracy: 0.8636 - val_loss: 0.2900 - val_accuracy: 0.8830\n",
      "Epoch 4/30\n",
      "463/469 [============================>.] - ETA: 0s - loss: 0.2725 - accuracy: 0.8890INFO:tensorflow:Assets written to: models_hp\\assets\n",
      "469/469 [==============================] - 4s 8ms/step - loss: 0.2725 - accuracy: 0.8887 - val_loss: 0.2884 - val_accuracy: 0.8806\n",
      "Epoch 5/30\n",
      "465/469 [============================>.] - ETA: 0s - loss: 0.2319 - accuracy: 0.9081INFO:tensorflow:Assets written to: models_hp\\assets\n",
      "469/469 [==============================] - 4s 8ms/step - loss: 0.2312 - accuracy: 0.9085 - val_loss: 0.2791 - val_accuracy: 0.8850\n",
      "Epoch 6/30\n",
      "469/469 [==============================] - 3s 5ms/step - loss: 0.1969 - accuracy: 0.9243 - val_loss: 0.2870 - val_accuracy: 0.8831\n",
      "Epoch 7/30\n",
      "469/469 [==============================] - 2s 5ms/step - loss: 0.1758 - accuracy: 0.9325 - val_loss: 0.2960 - val_accuracy: 0.8800\n",
      "Epoch 8/30\n",
      "469/469 [==============================] - 3s 5ms/step - loss: 0.1606 - accuracy: 0.9422 - val_loss: 0.3098 - val_accuracy: 0.8779\n",
      "Epoch 9/30\n",
      "469/469 [==============================] - 3s 5ms/step - loss: 0.1418 - accuracy: 0.9472 - val_loss: 0.3257 - val_accuracy: 0.8768\n",
      "Epoch 10/30\n",
      "469/469 [==============================] - 3s 6ms/step - loss: 0.1236 - accuracy: 0.9557 - val_loss: 0.3514 - val_accuracy: 0.8732\n"
     ]
    }
   ],
   "source": [
    "# Create callbacks\n",
    "run_logdir = get_run_logdir()\n",
    "print('current directiry: ', os.getcwd())\n",
    "print('Root log directory: ', run_logdir)\n",
    "early_stopping_cb = keras.callbacks.EarlyStopping(monitor='val_loss', patience=5)\n",
    "model_checkpoint_cb = keras.callbacks.ModelCheckpoint(\"models_hp\", save_best_only=True)\n",
    "tensorboard_cb = keras.callbacks.TensorBoard(run_logdir)\n",
    "callbacks = [early_stopping_cb, model_checkpoint_cb, tensorboard_cb]\n",
    "\n",
    "# Train the model\n",
    "history_hp = model_hp.fit(\n",
    "    x_train,\n",
    "    y_train,\n",
    "    epochs=30,\n",
    "    validation_data=(x_val, y_val),\n",
    "    callbacks=callbacks)"
   ]
  },
  {
   "cell_type": "code",
   "execution_count": 31,
   "metadata": {},
   "outputs": [
    {
     "data": {
      "image/png": "[encoded data removed]",
      "text/plain": [
       "<Figure size 1080x360 with 2 Axes>"
      ]
     },
     "metadata": {
      "needs_background": "light"
     },
     "output_type": "display_data"
    }
   ],
   "source": [
    "history_dict_hp = history_hp.history\n",
    "\n",
    "plot_loss_acc(history_dict_hp)"
   ]
  },
  {
   "cell_type": "code",
   "execution_count": 32,
   "metadata": {},
   "outputs": [],
   "source": [
    "# -----------------------------------------------------------\n",
    "# To start TensorBoard, write in the terminal:\n",
    "# $ tensorboard --logdir=./my_logs --port=6006\n",
    "# -----------------------------------------------------------"
   ]
  },
  {
   "cell_type": "code",
   "execution_count": 33,
   "metadata": {},
   "outputs": [
    {
     "name": "stdout",
     "output_type": "stream",
     "text": [
      "Model: \"sequential_6\"\n",
      "_________________________________________________________________\n",
      " Layer (type)                Output Shape              Param #   \n",
      "=================================================================\n",
      " flatten_2 (Flatten)         (None, 10000)             0         \n",
      "                                                                 \n",
      " dense_17 (Dense)            (None, 64)                640000    \n",
      "                                                                 \n",
      " batch_normalization_7 (Batc  (None, 64)               256       \n",
      " hNormalization)                                                 \n",
      "                                                                 \n",
      " activation_7 (Activation)   (None, 64)                0         \n",
      "                                                                 \n",
      " dropout_5 (Dropout)         (None, 64)                0         \n",
      "                                                                 \n",
      " dense_18 (Dense)            (None, 48)                3072      \n",
      "                                                                 \n",
      " batch_normalization_8 (Batc  (None, 48)               192       \n",
      " hNormalization)                                                 \n",
      "                                                                 \n",
      " activation_8 (Activation)   (None, 48)                0         \n",
      "                                                                 \n",
      " dropout_6 (Dropout)         (None, 48)                0         \n",
      "                                                                 \n",
      " dense_19 (Dense)            (None, 32)                1536      \n",
      "                                                                 \n",
      " batch_normalization_9 (Batc  (None, 32)               128       \n",
      " hNormalization)                                                 \n",
      "                                                                 \n",
      " activation_9 (Activation)   (None, 32)                0         \n",
      "                                                                 \n",
      " dropout_7 (Dropout)         (None, 32)                0         \n",
      "                                                                 \n",
      " dense_20 (Dense)            (None, 1)                 33        \n",
      "                                                                 \n",
      "=================================================================\n",
      "Total params: 645,217\n",
      "Trainable params: 644,929\n",
      "Non-trainable params: 288\n",
      "_________________________________________________________________\n"
     ]
    }
   ],
   "source": [
    "model_hp.summary()"
   ]
  },
  {
   "cell_type": "markdown",
   "metadata": {},
   "source": [
    "## Retrain the best model\n",
    "\n",
    "Only for 5 epochs"
   ]
  },
  {
   "cell_type": "code",
   "execution_count": 34,
   "metadata": {},
   "outputs": [
    {
     "name": "stdout",
     "output_type": "stream",
     "text": [
      "Epoch 1/5\n",
      "469/469 [==============================] - 3s 6ms/step - loss: 0.6542 - accuracy: 0.6485 - val_loss: 0.4117 - val_accuracy: 0.8308\n",
      "Epoch 2/5\n",
      "469/469 [==============================] - 3s 5ms/step - loss: 0.4465 - accuracy: 0.7910 - val_loss: 0.3212 - val_accuracy: 0.8662\n",
      "Epoch 3/5\n",
      "469/469 [==============================] - 3s 5ms/step - loss: 0.3448 - accuracy: 0.8545 - val_loss: 0.2911 - val_accuracy: 0.8807\n",
      "Epoch 4/5\n",
      "469/469 [==============================] - 2s 5ms/step - loss: 0.2853 - accuracy: 0.8847 - val_loss: 0.2779 - val_accuracy: 0.8857\n",
      "Epoch 5/5\n",
      "469/469 [==============================] - 3s 5ms/step - loss: 0.2367 - accuracy: 0.9085 - val_loss: 0.2766 - val_accuracy: 0.8868\n"
     ]
    },
    {
     "data": {
      "image/png": "[encoded data removed]",
      "text/plain": [
       "<Figure size 1080x360 with 2 Axes>"
      ]
     },
     "metadata": {
      "needs_background": "light"
     },
     "output_type": "display_data"
    }
   ],
   "source": [
    "best_hps_2 = tuner.get_best_hyperparameters()[0]\n",
    "model_hp_2 = tuner.hypermodel.build(best_hps_2)\n",
    "\n",
    "# Train the model\n",
    "history_hp_2 = model_hp_2.fit(\n",
    "    x_train,\n",
    "    y_train,\n",
    "    epochs=5,\n",
    "    validation_data=(x_val, y_val))\n",
    "\n",
    "history_dict_hp_2 = history_hp_2.history\n",
    "\n",
    "plot_loss_acc(history_dict_hp_2)"
   ]
  },
  {
   "cell_type": "markdown",
   "metadata": {},
   "source": [
    "# Validation set (2)"
   ]
  },
  {
   "cell_type": "code",
   "execution_count": 35,
   "metadata": {},
   "outputs": [
    {
     "name": "stdout",
     "output_type": "stream",
     "text": [
      "model_1a   loss = 0.278 --- accuracy = 0.890\n",
      "model_hp   loss = 0.351 --- accuracy = 0.873\n",
      "model_hp_2 loss = 0.277 --- accuracy = 0.887\n"
     ]
    }
   ],
   "source": [
    "models = [model_1a, model_hp, model_hp_2]\n",
    "models_names = ['model_1a  ', 'model_hp  ', 'model_hp_2']\n",
    "\n",
    "for n, m in zip(models_names, models):\n",
    "    r = m.evaluate(x_val, y_val, verbose=0)\n",
    "    print(f\"{n} loss = {r[0]:.3f} --- accuracy = {r[1]:.3f}\")"
   ]
  },
  {
   "cell_type": "markdown",
   "metadata": {},
   "source": [
    "# Test set"
   ]
  },
  {
   "cell_type": "code",
   "execution_count": 36,
   "metadata": {},
   "outputs": [
    {
     "name": "stdout",
     "output_type": "stream",
     "text": [
      "model_1a   -- Test loss = 0.296 --- Test accuracy = 0.880\n",
      "model_hp   -- Test loss = 0.372 --- Test accuracy = 0.863\n",
      "model_hp_2 -- Test loss = 0.293 --- Test accuracy = 0.878\n"
     ]
    }
   ],
   "source": [
    "# models = [model_1, model_1a, model_2]\n",
    "# models_names = ['model_1 ', 'model_1a', 'model_2']\n",
    "for n, m in zip(models_names, models):\n",
    "    r = m.evaluate(x_test, y_test, batch_size=512, verbose=0)\n",
    "    print(f\"{n} -- Test loss = {r[0]:.3f} --- Test accuracy = {r[1]:.3f}\")\n",
    "    #print(\"-\"*60)"
   ]
  },
  {
   "cell_type": "markdown",
   "metadata": {},
   "source": [
    "Model 1a hat the highest test accuracy"
   ]
  }
 ],
 "metadata": {
  "kernelspec": {
   "display_name": "Python 3 (ipykernel)",
   "language": "python",
   "name": "python3"
  },
  "language_info": {
   "codemirror_mode": {
    "name": "ipython",
    "version": 3
   },
   "file_extension": ".py",
   "mimetype": "text/x-python",
   "name": "python",
   "nbconvert_exporter": "python",
   "pygments_lexer": "ipython3",
   "version": "3.9.5"
  },
  "vscode": {
   "interpreter": {
    "hash": "a9960baf88259386db57c734c8604c8e4ab789688672644b3cf73fda24b112c6"
   }
  }
 },
 "nbformat": 4,
 "nbformat_minor": 4
}
