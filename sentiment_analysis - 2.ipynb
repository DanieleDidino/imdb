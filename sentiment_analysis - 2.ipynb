{
 "cells": [
  {
   "attachments": {},
   "cell_type": "markdown",
   "metadata": {},
   "source": [
    "# IMDB & Embedding\n",
    "\n",
    "Sentiment analysis on the IMDB data base with pretrained embeddings, RNN, LSTM cell, etc."
   ]
  },
  {
   "attachments": {},
   "cell_type": "markdown",
   "metadata": {},
   "source": [
    "# Load libraries"
   ]
  },
  {
   "cell_type": "code",
   "execution_count": 1,
   "metadata": {},
   "outputs": [],
   "source": [
    "import numpy as np\n",
    "import matplotlib.pyplot as plt\n",
    "import seaborn as sns\n",
    "import tensorflow as tf\n",
    "import tensorflow_datasets as tfds\n",
    "from tensorflow import keras \n",
    "from tensorflow.keras import layers\n",
    "import tensorflow_hub as hub\n",
    "from collections import Counter\n",
    "\n",
    "# Set seeds\n",
    "np.random.seed(42)\n",
    "tf.random.set_seed(42)"
   ]
  },
  {
   "attachments": {},
   "cell_type": "markdown",
   "metadata": {},
   "source": [
    "# Test GPU"
   ]
  },
  {
   "cell_type": "code",
   "execution_count": 2,
   "metadata": {},
   "outputs": [
    {
     "name": "stdout",
     "output_type": "stream",
     "text": [
      "TensorFlow Version: 2.7.0\n",
      "\n",
      "Device name:\n",
      "/device:GPU:0\n",
      "\n",
      "List physical devices:\n",
      "[PhysicalDevice(name='/physical_device:GPU:0', device_type='GPU')]\n",
      "\n",
      "with GPU (CUDA or ROCm) support?\n",
      "True\n",
      "\n",
      "with CUDA (GPU) support?\n",
      "True\n"
     ]
    }
   ],
   "source": [
    "print(f\"TensorFlow Version: {tf.__version__}\")\n",
    "\n",
    "print('\\nDevice name:')\n",
    "print(tf.test.gpu_device_name())\n",
    "\n",
    "print('\\nList physical devices:')\n",
    "print(tf.config.list_physical_devices('GPU'))\n",
    "\n",
    "# Returns whether TensorFlow was built with \n",
    "# GPU (CUDA or ROCm) support\n",
    "print('\\nwith GPU (CUDA or ROCm) support?')\n",
    "print(tf.test.is_built_with_gpu_support())\n",
    "\n",
    "# Returns whether TensorFlow was built with \n",
    "# CUDA (GPU) support\n",
    "print('\\nwith CUDA (GPU) support?')\n",
    "print(tf.test.is_built_with_cuda())\n"
   ]
  },
  {
   "attachments": {},
   "cell_type": "markdown",
   "metadata": {},
   "source": [
    "# My functions"
   ]
  },
  {
   "cell_type": "code",
   "execution_count": 3,
   "metadata": {},
   "outputs": [],
   "source": [
    "def plot_loss_acc(history_dict):\n",
    "    # Function to plot losses and accuracies\n",
    "\n",
    "    loss_values = history_dict[\"loss\"]\n",
    "    val_loss_values = history_dict[\"val_loss\"]\n",
    "\n",
    "    acc = history_dict[\"accuracy\"]\n",
    "    val_acc = history_dict[\"val_accuracy\"]\n",
    "\n",
    "    epochs = range(1, len(loss_values) + 1)\n",
    "    f, axes = plt.subplots(1, 2, figsize=(15, 5))\n",
    "    # Loss\n",
    "    axes[0].plot(epochs, loss_values, \"bo-\", label=\"Training loss\")\n",
    "    axes[0].plot(epochs, val_loss_values, \"rv-\", label=\"Validation loss\")\n",
    "    axes[0].set_title(\"Model loss\")\n",
    "    axes[0].set_xlabel(\"Epochs\")\n",
    "    axes[0].set_ylabel(\"Loss\")\n",
    "    axes[0].legend()\n",
    "    # Accuracy\n",
    "    axes[1].plot(epochs, acc, \"bo-\", label=\"Training acc\")\n",
    "    axes[1].plot(epochs, val_acc, \"rv-\", label=\"Validation acc\")\n",
    "    axes[1].set_title(\"Model accuracy\")\n",
    "    axes[1].set_xlabel(\"Epochs\")\n",
    "    axes[1].set_ylabel(\"Accuracy\")\n",
    "    axes[1].legend()\n",
    "    #\n",
    "    plt.show()"
   ]
  },
  {
   "attachments": {},
   "cell_type": "markdown",
   "metadata": {},
   "source": [
    "# Load data"
   ]
  },
  {
   "cell_type": "code",
   "execution_count": 4,
   "metadata": {},
   "outputs": [],
   "source": [
    "# \"as_supervised=True\" means that the returned tf.data.Dataset will have a 2-tuple\n",
    "# structure (input, label). If \"False\" (default), the returned dataset will have a\n",
    "# dictionary with all the features.\n",
    "#\n",
    "# \"with_info=True\" means that the tfds.load will return the tuple\n",
    "# (tf.data.Dataset, tfds.core.DatasetInfo), where the latter contains the info\n",
    "# associated with the builder.\n",
    "datasets, info = tfds.load(\"imdb_reviews\", as_supervised=True, with_info=True)"
   ]
  },
  {
   "attachments": {},
   "cell_type": "markdown",
   "metadata": {},
   "source": [
    "# Explore data sctructure"
   ]
  },
  {
   "cell_type": "code",
   "execution_count": 5,
   "metadata": {},
   "outputs": [
    {
     "name": "stdout",
     "output_type": "stream",
     "text": [
      "tfds.core.DatasetInfo(\n",
      "    name='imdb_reviews',\n",
      "    full_name='imdb_reviews/plain_text/1.0.0',\n",
      "    description=\"\"\"\n",
      "    Large Movie Review Dataset.\n",
      "    This is a dataset for binary sentiment classification containing substantially more data than previous benchmark datasets. We provide a set of 25,000 highly polar movie reviews for training, and 25,000 for testing. There is additional unlabeled data for use as well.\n",
      "    \"\"\",\n",
      "    config_description=\"\"\"\n",
      "    Plain text\n",
      "    \"\"\",\n",
      "    homepage='http://ai.stanford.edu/~amaas/data/sentiment/',\n",
      "    data_path='C:\\\\Users\\\\danie\\\\tensorflow_datasets\\\\imdb_reviews\\\\plain_text\\\\1.0.0',\n",
      "    download_size=80.23 MiB,\n",
      "    dataset_size=129.83 MiB,\n",
      "    features=FeaturesDict({\n",
      "        'label': ClassLabel(shape=(), dtype=tf.int64, num_classes=2),\n",
      "        'text': Text(shape=(), dtype=tf.string),\n",
      "    }),\n",
      "    supervised_keys=('text', 'label'),\n",
      "    disable_shuffling=False,\n",
      "    splits={\n",
      "        'test': <SplitInfo num_examples=25000, num_shards=1>,\n",
      "        'train': <SplitInfo num_examples=25000, num_shards=1>,\n",
      "        'unsupervised': <SplitInfo num_examples=50000, num_shards=1>,\n",
      "    },\n",
      "    citation=\"\"\"@InProceedings{maas-EtAl:2011:ACL-HLT2011,\n",
      "      author    = {Maas, Andrew L.  and  Daly, Raymond E.  and  Pham, Peter T.  and  Huang, Dan  and  Ng, Andrew Y.  and  Potts, Christopher},\n",
      "      title     = {Learning Word Vectors for Sentiment Analysis},\n",
      "      booktitle = {Proceedings of the 49th Annual Meeting of the Association for Computational Linguistics: Human Language Technologies},\n",
      "      month     = {June},\n",
      "      year      = {2011},\n",
      "      address   = {Portland, Oregon, USA},\n",
      "      publisher = {Association for Computational Linguistics},\n",
      "      pages     = {142--150},\n",
      "      url       = {http://www.aclweb.org/anthology/P11-1015}\n",
      "    }\"\"\",\n",
      ")\n"
     ]
    }
   ],
   "source": [
    "print(info)"
   ]
  },
  {
   "cell_type": "code",
   "execution_count": 6,
   "metadata": {},
   "outputs": [
    {
     "name": "stdout",
     "output_type": "stream",
     "text": [
      "<SplitInfo num_examples=25000, num_shards=1>\n",
      "num examples = 25000\n",
      "==================================================\n",
      "<SplitInfo num_examples=25000, num_shards=1>\n",
      "num examples = 25000\n"
     ]
    }
   ],
   "source": [
    "print(info.splits['train'])\n",
    "print(f\"num examples = {info.splits['train'].num_examples}\")\n",
    "print(\"=\"*50)\n",
    "print(info.splits['test'])\n",
    "print(f\"num examples = {info.splits['test'].num_examples}\")\n"
   ]
  },
  {
   "cell_type": "code",
   "execution_count": 7,
   "metadata": {},
   "outputs": [
    {
     "name": "stdout",
     "output_type": "stream",
     "text": [
      "{'train': <PrefetchDataset shapes: ((), ()), types: (tf.string, tf.int64)>, 'test': <PrefetchDataset shapes: ((), ()), types: (tf.string, tf.int64)>, 'unsupervised': <PrefetchDataset shapes: ((), ()), types: (tf.string, tf.int64)>}\n"
     ]
    }
   ],
   "source": [
    "print(datasets)"
   ]
  },
  {
   "cell_type": "code",
   "execution_count": 8,
   "metadata": {},
   "outputs": [
    {
     "name": "stdout",
     "output_type": "stream",
     "text": [
      "<PrefetchDataset shapes: ((), ()), types: (tf.string, tf.int64)>\n"
     ]
    }
   ],
   "source": [
    "print(datasets['train'])"
   ]
  },
  {
   "cell_type": "code",
   "execution_count": 9,
   "metadata": {},
   "outputs": [
    {
     "name": "stdout",
     "output_type": "stream",
     "text": [
      "tf.Tensor(\n",
      "[b\"This was an absolutely terrible movie. Don't be lured in by Christopher Walken or Michael Ironside. Both are great actors, but this must simply be their worst role in history. Even their great acting could not redeem this movie's ridiculous storyline. This movie is an early nineties US propaganda piece. The most pathetic scenes were those when the Columbian rebels were making their cases for revolutions. Maria Conchita Alonso appeared phony, and her pseudo-love affair with Walken was nothing but a pathetic emotional plug in a movie that was devoid of any real meaning. I am disappointed that there are movies like this, ruining actor's like Christopher Walken's good name. I could barely sit through it.\"\n",
      " b'I have been known to fall asleep during films, but this is usually due to a combination of things including, really tired, being warm and comfortable on the sette and having just eaten a lot. However on this occasion I fell asleep because the film was rubbish. The plot development was constant. Constantly slow and boring. Things seemed to happen, but with no explanation of what was causing them or why. I admit, I may have missed part of the film, but i watched the majority of it and everything just seemed to happen of its own accord without any real concern for anything else. I cant recommend this film at all.'], shape=(2,), dtype=string)\n",
      "tf.Tensor([0 0], shape=(2,), dtype=int64)\n"
     ]
    }
   ],
   "source": [
    "for x, y in datasets[\"train\"].batch(2).take(1):\n",
    "    print(x)\n",
    "    print(y)"
   ]
  },
  {
   "cell_type": "code",
   "execution_count": 10,
   "metadata": {},
   "outputs": [
    {
     "name": "stdout",
     "output_type": "stream",
     "text": [
      "tf.Tensor(b\"This was an absolutely terrible movie. Don't be lured in by Christopher Walken or Michael Ironside. Both are great actors, but this must simply be their worst role in history. Even their great acting could not redeem this movie's ridiculous storyline. This movie is an early nineties US propaganda piece. The most pathetic scenes were those when the Columbian rebels were making their cases for revolutions. Maria Conchita Alonso appeared phony, and her pseudo-love affair with Walken was nothing but a pathetic emotional plug in a movie that was devoid of any real meaning. I am disappointed that there are movies like this, ruining actor's like Christopher Walken's good name. I could barely sit through it.\", shape=(), dtype=string)\n",
      "tf.Tensor(0, shape=(), dtype=int64)\n",
      "==================================================\n",
      "tf.Tensor(b'I have been known to fall asleep during films, but this is usually due to a combination of things including, really tired, being warm and comfortable on the sette and having just eaten a lot. However on this occasion I fell asleep because the film was rubbish. The plot development was constant. Constantly slow and boring. Things seemed to happen, but with no explanation of what was causing them or why. I admit, I may have missed part of the film, but i watched the majority of it and everything just seemed to happen of its own accord without any real concern for anything else. I cant recommend this film at all.', shape=(), dtype=string)\n",
      "tf.Tensor(0, shape=(), dtype=int64)\n",
      "==================================================\n"
     ]
    }
   ],
   "source": [
    "for x, y in datasets[\"train\"].batch(2).take(1):\n",
    "    for review, label in zip(x, y):\n",
    "        print(review)\n",
    "        print(label)\n",
    "        print(\"=\"*50)"
   ]
  },
  {
   "cell_type": "code",
   "execution_count": 11,
   "metadata": {},
   "outputs": [
    {
     "name": "stdout",
     "output_type": "stream",
     "text": [
      "b\"This was an absolutely terrible movie. Don't be lured in by Christopher Walken or Michael Ironside. Both are great actors, but this must simply be their worst role in history. Even their great acting could not redeem this movie's ridiculous storyline. This movie is an early nineties US propaganda piece. The most pathetic scenes were those when the Columbian rebels were making their cases for revolutions. Maria Conchita Alonso appeared phony, and her pseudo-love affair with Walken was nothing but a pathetic emotional plug in a movie that was devoid of any real meaning. I am disappointed that there are movies like this, ruining actor's like Christopher Walken's good name. I could barely sit through it.\"\n",
      "Label: 0\n",
      "==================================================\n",
      "b'I have been known to fall asleep during films, but this is usually due to a combination of things including, really tired, being warm and comfortable on the sette and having just eaten a lot. However on this occasion I fell asleep because the film was rubbish. The plot development was constant. Constantly slow and boring. Things seemed to happen, but with no explanation of what was causing them or why. I admit, I may have missed part of the film, but i watched the majority of it and everything just seemed to happen of its own accord without any real concern for anything else. I cant recommend this film at all.'\n",
      "Label: 0\n",
      "==================================================\n"
     ]
    }
   ],
   "source": [
    "for x, y in datasets[\"train\"].batch(2).take(1):\n",
    "    for review, label in zip(x, y):\n",
    "        print(review.numpy())\n",
    "        print(f\"Label: {label.numpy()}\")\n",
    "        print(\"=\"*50)"
   ]
  },
  {
   "cell_type": "code",
   "execution_count": 12,
   "metadata": {},
   "outputs": [
    {
     "name": "stdout",
     "output_type": "stream",
     "text": [
      "This was an absolutely terrible movie. Don't be lured in by Christopher Walken or Michael Ironside. Both are great actors, but this must simply be their worst role in history. Even their great acting could not redeem this movie's ridiculous storyline. This movie is an early nineties US propaganda piece. The most pathetic scenes were those when the Columbian rebels were making their cases for revolutions. Maria Conchita Alonso appeared phony, and her pseudo-love affair with Walken was nothing but a pathetic emotional plug in a movie that was devoid of any real meaning. I am disappointed that there are movies like this, ruining actor's like Christopher Walken's good name. I could barely sit through it.\n",
      "Label: 0\n",
      "==================================================\n",
      "I have been known to fall asleep during films, but this is usually due to a combination of things including, really tired, being warm and comfortable on the sette and having just eaten a lot. However on this occasion I fell asleep because the film was rubbish. The plot development was constant. Constantly slow and boring. Things seemed to happen, but with no explanation of what was causing them or why. I admit, I may have missed part of the film, but i watched the majority of it and everything just seemed to happen of its own accord without any real concern for anything else. I cant recommend this film at all.\n",
      "Label: 0\n",
      "==================================================\n"
     ]
    }
   ],
   "source": [
    "for x, y in datasets[\"train\"].batch(2).take(1):\n",
    "    for review, label in zip(x, y):\n",
    "        print(review.numpy().decode(\"utf-8\"))\n",
    "        print(f\"Label: {label.numpy()}\")\n",
    "        print(\"=\"*50)"
   ]
  },
  {
   "cell_type": "code",
   "execution_count": 13,
   "metadata": {},
   "outputs": [
    {
     "name": "stdout",
     "output_type": "stream",
     "text": [
      "b\"This was an absolutely terrible movie. Don't be lured in by Christopher Walken or Michael Ironside. Both are great actors, but this must simply be their worst role in history. Even their great acting could not redeem this movie's ridiculous storyline. This movie is an early nineties US propaganda piece. The most pathetic scenes were those when the Columbian rebels were making their cases for revolutions. Maria Conchita Alonso appeared phony, and her pseudo-love affair with Walken was nothing but a pathetic emotional plug in a movie that was devoid of any real meaning. I am disappointed that there are movies like this, ruining actor's like Christopher Walken's good name. I could barely sit through it.\"\n",
      "b\"This was an absolutely terrible movie. Don't be lured in by Christopher Walken or Michael Ironside. \"\n",
      "==================================================\n",
      "b'I have been known to fall asleep during films, but this is usually due to a combination of things including, really tired, being warm and comfortable on the sette and having just eaten a lot. However on this occasion I fell asleep because the film was rubbish. The plot development was constant. Constantly slow and boring. Things seemed to happen, but with no explanation of what was causing them or why. I admit, I may have missed part of the film, but i watched the majority of it and everything just seemed to happen of its own accord without any real concern for anything else. I cant recommend this film at all.'\n",
      "b'I have been known to fall asleep during films, but this is usually due to a combination of things in'\n",
      "==================================================\n"
     ]
    }
   ],
   "source": [
    "for reviews, _ in datasets['train'].batch(2).take(1):\n",
    "    for review in reviews:\n",
    "        print(review.numpy())\n",
    "        review = tf.strings.substr(review, 0, 100)\n",
    "        print(review.numpy())    \n",
    "        print('='*50)"
   ]
  },
  {
   "cell_type": "code",
   "execution_count": 14,
   "metadata": {},
   "outputs": [
    {
     "name": "stdout",
     "output_type": "stream",
     "text": [
      "b\"This was an absolutely terrible movie. Don't be lured in by Christopher Walken or Michael Ironside. Both are great actors, but this must simply be their worst role in history. Even their great acting could not redeem this movie's ridiculous storyline. This movie is an early nineties US propaganda piece. The most pathetic scenes were those when the Columbian rebels were making their cases for revolutions. Maria Conchita Alonso appeared phony, and her pseudo-love affair with Walken was nothing but a pathetic emotional plug in a movie that was devoid of any real meaning. I am disappointed that there are movies like this, ruining actor's like Christopher Walken's good name. I could barely sit through it.\"\n",
      "b\"This was an absolutely terrible movie  Don't be lured in by Christopher Walken or Michael Ironside  Both are great actors  but this must simply be their worst role in history  Even their great acting could not redeem this movie's ridiculous storyline  This movie is an early nineties US propaganda piece  The most pathetic scenes were those when the Columbian rebels were making their cases for revolutions  Maria Conchita Alonso appeared phony  and her pseudo love affair with Walken was nothing but a pathetic emotional plug in a movie that was devoid of any real meaning  I am disappointed that there are movies like this  ruining actor's like Christopher Walken's good name  I could barely sit through it \"\n",
      "==================================================\n",
      "b'I have been known to fall asleep during films, but this is usually due to a combination of things including, really tired, being warm and comfortable on the sette and having just eaten a lot. However on this occasion I fell asleep because the film was rubbish. The plot development was constant. Constantly slow and boring. Things seemed to happen, but with no explanation of what was causing them or why. I admit, I may have missed part of the film, but i watched the majority of it and everything just seemed to happen of its own accord without any real concern for anything else. I cant recommend this film at all.'\n",
      "b'I have been known to fall asleep during films  but this is usually due to a combination of things including  really tired  being warm and comfortable on the sette and having just eaten a lot  However on this occasion I fell asleep because the film was rubbish  The plot development was constant  Constantly slow and boring  Things seemed to happen  but with no explanation of what was causing them or why  I admit  I may have missed part of the film  but i watched the majority of it and everything just seemed to happen of its own accord without any real concern for anything else  I cant recommend this film at all '\n",
      "==================================================\n"
     ]
    }
   ],
   "source": [
    "for reviews, _ in datasets['train'].batch(2).take(1):\n",
    "    for review in reviews:\n",
    "        print(review.numpy())\n",
    "        review = tf.strings.regex_replace(review, b\"[^a-zA-Z']\", b\" \")\n",
    "        print(review.numpy())    \n",
    "        print('='*50)"
   ]
  },
  {
   "cell_type": "code",
   "execution_count": 15,
   "metadata": {},
   "outputs": [
    {
     "name": "stdout",
     "output_type": "stream",
     "text": [
      "b\"This was an absolutely terrible movie. Don't be lured in by Christopher Walken or Michael Ironside. Both are great actors, but this must simply be their worst role in history. Even their great acting could not redeem this movie's ridiculous storyline. This movie is an early nineties US propaganda piece. The most pathetic scenes were those when the Columbian rebels were making their cases for revolutions. Maria Conchita Alonso appeared phony, and her pseudo-love affair with Walken was nothing but a pathetic emotional plug in a movie that was devoid of any real meaning. I am disappointed that there are movies like this, ruining actor's like Christopher Walken's good name. I could barely sit through it.\"\n",
      "[b'This' b'was' b'an' b'absolutely' b'terrible' b'movie.' b\"Don't\" b'be'\n",
      " b'lured' b'in' b'by' b'Christopher' b'Walken' b'or' b'Michael'\n",
      " b'Ironside.' b'Both' b'are' b'great' b'actors,' b'but' b'this' b'must'\n",
      " b'simply' b'be' b'their' b'worst' b'role' b'in' b'history.' b'Even'\n",
      " b'their' b'great' b'acting' b'could' b'not' b'redeem' b'this' b\"movie's\"\n",
      " b'ridiculous' b'storyline.' b'This' b'movie' b'is' b'an' b'early'\n",
      " b'nineties' b'US' b'propaganda' b'piece.' b'The' b'most' b'pathetic'\n",
      " b'scenes' b'were' b'those' b'when' b'the' b'Columbian' b'rebels' b'were'\n",
      " b'making' b'their' b'cases' b'for' b'revolutions.' b'Maria' b'Conchita'\n",
      " b'Alonso' b'appeared' b'phony,' b'and' b'her' b'pseudo-love' b'affair'\n",
      " b'with' b'Walken' b'was' b'nothing' b'but' b'a' b'pathetic' b'emotional'\n",
      " b'plug' b'in' b'a' b'movie' b'that' b'was' b'devoid' b'of' b'any' b'real'\n",
      " b'meaning.' b'I' b'am' b'disappointed' b'that' b'there' b'are' b'movies'\n",
      " b'like' b'this,' b'ruining' b\"actor's\" b'like' b'Christopher' b\"Walken's\"\n",
      " b'good' b'name.' b'I' b'could' b'barely' b'sit' b'through' b'it.']\n",
      "==================================================\n",
      "b'I have been known to fall asleep during films, but this is usually due to a combination of things including, really tired, being warm and comfortable on the sette and having just eaten a lot. However on this occasion I fell asleep because the film was rubbish. The plot development was constant. Constantly slow and boring. Things seemed to happen, but with no explanation of what was causing them or why. I admit, I may have missed part of the film, but i watched the majority of it and everything just seemed to happen of its own accord without any real concern for anything else. I cant recommend this film at all.'\n",
      "[b'I' b'have' b'been' b'known' b'to' b'fall' b'asleep' b'during' b'films,'\n",
      " b'but' b'this' b'is' b'usually' b'due' b'to' b'a' b'combination' b'of'\n",
      " b'things' b'including,' b'really' b'tired,' b'being' b'warm' b'and'\n",
      " b'comfortable' b'on' b'the' b'sette' b'and' b'having' b'just' b'eaten'\n",
      " b'a' b'lot.' b'However' b'on' b'this' b'occasion' b'I' b'fell' b'asleep'\n",
      " b'because' b'the' b'film' b'was' b'rubbish.' b'The' b'plot'\n",
      " b'development' b'was' b'constant.' b'Constantly' b'slow' b'and'\n",
      " b'boring.' b'Things' b'seemed' b'to' b'happen,' b'but' b'with' b'no'\n",
      " b'explanation' b'of' b'what' b'was' b'causing' b'them' b'or' b'why.' b'I'\n",
      " b'admit,' b'I' b'may' b'have' b'missed' b'part' b'of' b'the' b'film,'\n",
      " b'but' b'i' b'watched' b'the' b'majority' b'of' b'it' b'and'\n",
      " b'everything' b'just' b'seemed' b'to' b'happen' b'of' b'its' b'own'\n",
      " b'accord' b'without' b'any' b'real' b'concern' b'for' b'anything'\n",
      " b'else.' b'I' b'cant' b'recommend' b'this' b'film' b'at' b'all.']\n",
      "==================================================\n"
     ]
    }
   ],
   "source": [
    "for reviews, _ in datasets['train'].batch(2).take(1):\n",
    "    for review in reviews:\n",
    "        print(review.numpy())\n",
    "        review = tf.strings.split(review)\n",
    "        print(review.numpy())    \n",
    "        print('='*50)"
   ]
  },
  {
   "cell_type": "code",
   "execution_count": 16,
   "metadata": {},
   "outputs": [
    {
     "name": "stdout",
     "output_type": "stream",
     "text": [
      "[b'This was an absolutely terribl' b'I have been known to fall asle']\n",
      "======================================================================\n",
      "<tf.RaggedTensor [[b'This', b'was', b'an', b'absolutely', b'terribl'], [b'I', b'have', b'been', b'known', b'to', b'fall', b'asle']]>\n",
      "**********************************************************************\n",
      "tf.Tensor([b'This' b'was' b'an' b'absolutely' b'terribl'], shape=(5,), dtype=string)\n",
      "tf.Tensor([b'I' b'have' b'been' b'known' b'to' b'fall' b'asle'], shape=(7,), dtype=string)\n",
      "++++++++++++++++++++++++++++++++++++++++++++++++++++++++++++++++++++++\n",
      "tf.Tensor(\n",
      "[[b'This' b'was' b'an' b'absolutely' b'terribl' b'<pad>' b'<pad>']\n",
      " [b'I' b'have' b'been' b'known' b'to' b'fall' b'asle']], shape=(2, 7), dtype=string)\n"
     ]
    }
   ],
   "source": [
    "for reviews, _ in datasets['train'].batch(2).take(1):\n",
    "    # subset 30 characters\n",
    "    reviews = tf.strings.substr(reviews, 0, 30)\n",
    "    print(reviews.numpy())\n",
    "    print('='*70)\n",
    "    reviews = tf.strings.regex_replace(reviews, b\"[^a-zA-Z']\", b\" \")\n",
    "    # Since we selected only 30 characters, the sentences have different\n",
    "    # number of words (based on the length of the words)\n",
    "    reviews = tf.strings.split(reviews)\n",
    "    print(reviews)\n",
    "    print('*'*70)\n",
    "    print(reviews[0])\n",
    "    print(reviews[1])\n",
    "    print('+'*70)\n",
    "    # With default_value=\"<pad>\", the tensors have the same length and the\n",
    "    # value \"<pad>\" is added to the ternsor shorter than the longest one\n",
    "    reviews = reviews.to_tensor(default_value=\"<pad>\")\n",
    "    print(reviews)\n",
    "    "
   ]
  },
  {
   "attachments": {},
   "cell_type": "markdown",
   "metadata": {},
   "source": [
    "# Preprocessing\n",
    "\n",
    "Tensorflow represents strings as byte array.\n",
    "So, we use the b before the string (i.e., `b\" \"`) because we need the bytes type and not a str type."
   ]
  },
  {
   "cell_type": "code",
   "execution_count": 17,
   "metadata": {},
   "outputs": [],
   "source": [
    "def preprocessing(X_batch, y_batch):\n",
    "    # subset the sentence (only characters from 0 to 300)\n",
    "    X_batch = tf.strings.substr(X_batch, 0, 300)\n",
    "    # replace \"<br />\" tags with space\n",
    "    X_batch = tf.strings.regex_replace(X_batch, b\"<br\\\\s*/?>\", b\" \")\n",
    "    # replace non-letter and apostrophe with space\n",
    "    X_batch = tf.strings.regex_replace(X_batch, b\"[^a-zA-Z']\", b\" \")\n",
    "    # split the sentences by space (NOTE: \"split\" returns a ragged tensor)\n",
    "    X_batch = tf.strings.split(X_batch)\n",
    "    # convert the ragged tensors into dense tensors.\n",
    "    # (NOTE: default_value=\"<pad>\" makes sure that all tensors have the same length;\n",
    "    # the value \"<pad>\" is added to ternsors shorter than the longest one)\n",
    "    X_batch = X_batch.to_tensor(default_value=b\"<pad>\")\n",
    "    return X_batch, y_batch"
   ]
  },
  {
   "cell_type": "code",
   "execution_count": 18,
   "metadata": {},
   "outputs": [
    {
     "name": "stdout",
     "output_type": "stream",
     "text": [
      "tf.Tensor(\n",
      "[[b'This' b'was' b'an' b'absolutely' b'terrible' b'movie' b\"Don't\" b'be'\n",
      "  b'lured' b'in' b'by' b'Christopher' b'Walken' b'or' b'Michael'\n",
      "  b'Ironside' b'Both' b'are' b'great' b'actors' b'but' b'this' b'must'\n",
      "  b'simply' b'be' b'their' b'worst' b'role' b'in' b'history' b'Even'\n",
      "  b'their' b'great' b'acting' b'could' b'not' b'redeem' b'this'\n",
      "  b\"movie's\" b'ridiculous' b'storyline' b'This' b'movie' b'is' b'an'\n",
      "  b'early' b'nineties' b'US' b'propaganda' b'pi' b'<pad>' b'<pad>'\n",
      "  b'<pad>']\n",
      " [b'I' b'have' b'been' b'known' b'to' b'fall' b'asleep' b'during'\n",
      "  b'films' b'but' b'this' b'is' b'usually' b'due' b'to' b'a'\n",
      "  b'combination' b'of' b'things' b'including' b'really' b'tired' b'being'\n",
      "  b'warm' b'and' b'comfortable' b'on' b'the' b'sette' b'and' b'having'\n",
      "  b'just' b'eaten' b'a' b'lot' b'However' b'on' b'this' b'occasion' b'I'\n",
      "  b'fell' b'asleep' b'because' b'the' b'film' b'was' b'rubbish' b'The'\n",
      "  b'plot' b'development' b'was' b'constant' b'Cons']], shape=(2, 53), dtype=string)\n"
     ]
    }
   ],
   "source": [
    "for X_tmp, y_tmp in datasets['train'].batch(2).take(1):\n",
    "    X_tmp, y_tmp = preprocessing(X_tmp, y_tmp)\n",
    "\n",
    "print(X_tmp)"
   ]
  },
  {
   "attachments": {},
   "cell_type": "markdown",
   "metadata": {},
   "source": [
    "# Construct vocabolary\n",
    "\n",
    "The procedure to construct a `vocabolary`:\n",
    "\n",
    "1. go through the whole training set once\n",
    "2. apply `preprocessing()`\n",
    "3. use a `Counter` object to count the number of occurences of each word"
   ]
  },
  {
   "cell_type": "code",
   "execution_count": 19,
   "metadata": {},
   "outputs": [],
   "source": [
    "# \"Counter\" is a dict subclass for counting hashable objects.\n",
    "# An object is hashable if:\n",
    "# 1) it has a hash value which NEVER changes during its lifetime\n",
    "# 2) it can be compared to other objects\n",
    "vocabulary_tmp = Counter()"
   ]
  },
  {
   "cell_type": "code",
   "execution_count": 20,
   "metadata": {},
   "outputs": [
    {
     "name": "stdout",
     "output_type": "stream",
     "text": [
      "Counter()\n"
     ]
    }
   ],
   "source": [
    "print(vocabulary_tmp)"
   ]
  },
  {
   "cell_type": "code",
   "execution_count": 21,
   "metadata": {},
   "outputs": [
    {
     "name": "stdout",
     "output_type": "stream",
     "text": [
      "tf.Tensor(\n",
      "[b'This' b'was' b'an' b'absolutely' b'terrible' b'movie' b\"Don't\" b'be'\n",
      " b'lured' b'in' b'by' b'Christopher' b'Walken' b'or' b'Michael'\n",
      " b'Ironside' b'Both' b'are' b'great' b'actors' b'but' b'this' b'must'\n",
      " b'simply' b'be' b'their' b'worst' b'role' b'in' b'history' b'Even'\n",
      " b'their' b'great' b'acting' b'could' b'not' b'redeem' b'this' b\"movie's\"\n",
      " b'ridiculous' b'storyline' b'This' b'movie' b'is' b'an' b'early'\n",
      " b'nineties' b'US' b'propaganda' b'pi' b'<pad>' b'<pad>' b'<pad>'], shape=(53,), dtype=string)\n",
      "======================================================================\n",
      "tf.Tensor(\n",
      "[b'I' b'have' b'been' b'known' b'to' b'fall' b'asleep' b'during' b'films'\n",
      " b'but' b'this' b'is' b'usually' b'due' b'to' b'a' b'combination' b'of'\n",
      " b'things' b'including' b'really' b'tired' b'being' b'warm' b'and'\n",
      " b'comfortable' b'on' b'the' b'sette' b'and' b'having' b'just' b'eaten'\n",
      " b'a' b'lot' b'However' b'on' b'this' b'occasion' b'I' b'fell' b'asleep'\n",
      " b'because' b'the' b'film' b'was' b'rubbish' b'The' b'plot' b'development'\n",
      " b'was' b'constant' b'Cons'], shape=(53,), dtype=string)\n",
      "======================================================================\n"
     ]
    }
   ],
   "source": [
    "for X, y in datasets[\"train\"].batch(2).take(1).map(preprocessing):\n",
    "    for review in X:\n",
    "        print(review)\n",
    "        print('='*70)\n",
    "        vocabulary_tmp.update(list(review.numpy()))"
   ]
  },
  {
   "cell_type": "code",
   "execution_count": 22,
   "metadata": {},
   "outputs": [
    {
     "name": "stdout",
     "output_type": "stream",
     "text": [
      "length: 83\n",
      "\n",
      "vocabulary_tmp:\n",
      "Counter({b'this': 4, b'was': 3, b'<pad>': 3, b'This': 2, b'an': 2, b'movie': 2, b'be': 2, b'in': 2, b'great': 2, b'but': 2, b'their': 2, b'is': 2, b'I': 2, b'to': 2, b'asleep': 2, b'a': 2, b'and': 2, b'on': 2, b'the': 2, b'absolutely': 1, b'terrible': 1, b\"Don't\": 1, b'lured': 1, b'by': 1, b'Christopher': 1, b'Walken': 1, b'or': 1, b'Michael': 1, b'Ironside': 1, b'Both': 1, b'are': 1, b'actors': 1, b'must': 1, b'simply': 1, b'worst': 1, b'role': 1, b'history': 1, b'Even': 1, b'acting': 1, b'could': 1, b'not': 1, b'redeem': 1, b\"movie's\": 1, b'ridiculous': 1, b'storyline': 1, b'early': 1, b'nineties': 1, b'US': 1, b'propaganda': 1, b'pi': 1, b'have': 1, b'been': 1, b'known': 1, b'fall': 1, b'during': 1, b'films': 1, b'usually': 1, b'due': 1, b'combination': 1, b'of': 1, b'things': 1, b'including': 1, b'really': 1, b'tired': 1, b'being': 1, b'warm': 1, b'comfortable': 1, b'sette': 1, b'having': 1, b'just': 1, b'eaten': 1, b'lot': 1, b'However': 1, b'occasion': 1, b'fell': 1, b'because': 1, b'film': 1, b'rubbish': 1, b'The': 1, b'plot': 1, b'development': 1, b'constant': 1, b'Cons': 1})\n",
      "\n",
      "most common:\n",
      "[(b'this', 4), (b'was', 3), (b'<pad>', 3), (b'This', 2), (b'an', 2)]\n"
     ]
    }
   ],
   "source": [
    "print(f\"length: {len(vocabulary_tmp)}\")\n",
    "print(f\"\\nvocabulary_tmp:\\n{vocabulary_tmp}\")\n",
    "print(f\"\\nmost common:\\n{vocabulary_tmp.most_common()[:5]}\")"
   ]
  },
  {
   "cell_type": "code",
   "execution_count": 23,
   "metadata": {},
   "outputs": [
    {
     "data": {
      "image/png": "[encoded data removed]",
      "text/plain": [
       "<Figure size 1080x936 with 1 Axes>"
      ]
     },
     "metadata": {
      "needs_background": "light"
     },
     "output_type": "display_data"
    }
   ],
   "source": [
    "plt.figure(figsize=(15, 13))\n",
    "plt.plot( vocabulary_tmp.values(), vocabulary_tmp.keys())\n",
    "plt.title('First 2 sentences')\n",
    "plt.ylabel('Words')\n",
    "plt.xlabel('Number of occurences')\n",
    "plt.show()"
   ]
  },
  {
   "cell_type": "code",
   "execution_count": 24,
   "metadata": {},
   "outputs": [],
   "source": [
    "# \"Counter\" is a dict subclass for counting hashable objects.\n",
    "# An object is hashable if:\n",
    "# 1) it has a hash value which NEVER changes during its lifetime\n",
    "# 2) it can be compared to other objects\n",
    "vocabulary = Counter()"
   ]
  },
  {
   "cell_type": "code",
   "execution_count": 25,
   "metadata": {},
   "outputs": [],
   "source": [
    "for X, y in datasets[\"train\"].batch(32).map(preprocessing):\n",
    "    for review in X:\n",
    "        vocabulary.update(list(review.numpy()))\n"
   ]
  },
  {
   "cell_type": "code",
   "execution_count": 26,
   "metadata": {},
   "outputs": [
    {
     "data": {
      "text/plain": [
       "[(b'<pad>', 214309),\n",
       " (b'the', 61137),\n",
       " (b'a', 38564),\n",
       " (b'of', 33983),\n",
       " (b'and', 33431),\n",
       " (b'to', 27707),\n",
       " (b'I', 27019),\n",
       " (b'is', 25719),\n",
       " (b'in', 18966),\n",
       " (b'this', 18490)]"
      ]
     },
     "execution_count": 26,
     "metadata": {},
     "output_type": "execute_result"
    }
   ],
   "source": [
    "# 10 most common words in the data set\n",
    "vocabulary.most_common()[:10]"
   ]
  },
  {
   "cell_type": "code",
   "execution_count": 27,
   "metadata": {},
   "outputs": [
    {
     "data": {
      "text/plain": [
       "53893"
      ]
     },
     "execution_count": 27,
     "metadata": {},
     "output_type": "execute_result"
    }
   ],
   "source": [
    "len(vocabulary)"
   ]
  },
  {
   "cell_type": "code",
   "execution_count": 28,
   "metadata": {},
   "outputs": [],
   "source": [
    "# We will only use the 10000 most common words in the vocabolary\n",
    "vocab_size = 10000\n",
    "vocabulary_subset = [word for word, count in vocabulary.most_common()[:vocab_size]]"
   ]
  },
  {
   "cell_type": "code",
   "execution_count": 29,
   "metadata": {},
   "outputs": [
    {
     "name": "stdout",
     "output_type": "stream",
     "text": [
      "10000\n",
      "<class 'list'>\n"
     ]
    }
   ],
   "source": [
    "print(len(vocabulary_subset))\n",
    "print(type(vocabulary_subset))"
   ]
  },
  {
   "cell_type": "code",
   "execution_count": 30,
   "metadata": {},
   "outputs": [
    {
     "name": "stdout",
     "output_type": "stream",
     "text": [
      "[b'<pad>', b'the', b'a', b'of', b'and', b'to', b'I', b'is', b'in', b'this']\n"
     ]
    }
   ],
   "source": [
    "print(vocabulary_subset[:10])"
   ]
  },
  {
   "attachments": {},
   "cell_type": "markdown",
   "metadata": {},
   "source": [
    "# Lookup table\n",
    "\n",
    "We use a *lookup table* to replace each word with its index in `vocabulary_subset`\n",
    "(this gives the word's **ID**)"
   ]
  },
  {
   "cell_type": "code",
   "execution_count": 31,
   "metadata": {},
   "outputs": [
    {
     "name": "stdout",
     "output_type": "stream",
     "text": [
      "0  --  b'<pad>'\n",
      "1  --  b'the'\n",
      "2  --  b'a'\n",
      "3  --  b'of'\n",
      "4  --  b'and'\n",
      "5  --  b'to'\n",
      "6  --  b'I'\n",
      "7  --  b'is'\n",
      "8  --  b'in'\n",
      "9  --  b'this'\n"
     ]
    }
   ],
   "source": [
    "for index, word in enumerate(vocabulary_subset[:10]):\n",
    "    print(index, \" -- \", word)"
   ]
  },
  {
   "cell_type": "code",
   "execution_count": 32,
   "metadata": {},
   "outputs": [
    {
     "name": "stdout",
     "output_type": "stream",
     "text": [
      "type = <class 'tensorflow.python.framework.ops.EagerTensor'>\n",
      "\n",
      "First 10 =\n",
      "[b'<pad>' b'the' b'a' b'of' b'and' b'to' b'I' b'is' b'in' b'this']\n"
     ]
    }
   ],
   "source": [
    "# this is the list of all possible words\n",
    "words_vocab_subset = tf.constant(vocabulary_subset)\n",
    "print(f\"type = {type(words_vocab_subset)}\")\n",
    "print(f\"\\nFirst 10 =\\n{words_vocab_subset[:10]}\")"
   ]
  },
  {
   "cell_type": "code",
   "execution_count": 33,
   "metadata": {},
   "outputs": [
    {
     "name": "stdout",
     "output_type": "stream",
     "text": [
      "type = <class 'tensorflow.python.framework.ops.EagerTensor'>\n",
      "\n",
      "First 10 =\n",
      "[0 1 2 3 4 5 6 7 8 9]\n"
     ]
    }
   ],
   "source": [
    "# This is a tensor with the indices of the words\n",
    "word_ids = tf.range(len(vocabulary_subset), dtype=tf.int64)\n",
    "print(f\"type = {type(word_ids)}\")\n",
    "print(f\"\\nFirst 10 =\\n{word_ids[:10]}\")"
   ]
  },
  {
   "cell_type": "code",
   "execution_count": 34,
   "metadata": {},
   "outputs": [
    {
     "name": "stdout",
     "output_type": "stream",
     "text": [
      "type = <class 'tensorflow.python.ops.lookup_ops.KeyValueTensorInitializer'>\n"
     ]
    }
   ],
   "source": [
    "# This is an initializer for the lookup table\n",
    "table_init = tf.lookup.KeyValueTensorInitializer(words_vocab_subset, word_ids)\n",
    "print(f\"type = {type(table_init)}\")"
   ]
  },
  {
   "attachments": {},
   "cell_type": "markdown",
   "metadata": {},
   "source": [
    "In the following cell we set the number of out-of-vocabulary buckets\n",
    "and create a lookup table.\n",
    "\n",
    "The number of out-of-vocabulary buckets is 1000 (`num_oov_buckets = 1000`),\n",
    "which means that when the script look up for a word that does NOT exist \n",
    "in the vocabulary, then the lookup table will compute a HASH of this new\n",
    "word and use it to assign the unknown word to one of the oov buckets.\n",
    "The oov indices start after the known words (here: `vocab_size = 10000`,\n",
    "that is from 0 to 9999). So, here the oov indices start at 10000 and end at 10999.\n",
    "If there are not enough oov buckets (i.e., there are more unknown words than oov\n",
    "buckets) there are \"collisions\", that is different words will end up in the same\n",
    "oov bucket, and thus the NN will not be able to distinguish them."
   ]
  },
  {
   "cell_type": "code",
   "execution_count": 35,
   "metadata": {},
   "outputs": [
    {
     "name": "stdout",
     "output_type": "stream",
     "text": [
      "type = <class 'tensorflow.python.ops.lookup_ops.StaticVocabularyTable'>\n",
      "\n",
      "Lookup some words =\n",
      "[  0   1  28 248]\n",
      "\n",
      "Lookup a sentence as list =\n",
      "[  22    7    2 5684]\n",
      "\n",
      "Lookup a sentence splitted =\n",
      "[[  22    7    2 5684]]\n"
     ]
    }
   ],
   "source": [
    "# This creates the lookup table.\n",
    "num_oov_buckets = 1000\n",
    "lookup_table = tf.lookup.StaticVocabularyTable(table_init, num_oov_buckets)\n",
    "print(f\"type = {type(lookup_table)}\")\n",
    "print(f\"\\nLookup some words =\\n{lookup_table.lookup(tf.constant([b'<pad>', b'the', b'an', b'book']))}\")\n",
    "print(f\"\\nLookup a sentence as list =\\n{lookup_table.lookup(tf.constant([b'This', 'is', 'a', 'sentence']))}\")\n",
    "print(f\"\\nLookup a sentence splitted =\\n{lookup_table.lookup(tf.constant([b'This is a sentence'.split()]))}\")\n"
   ]
  },
  {
   "cell_type": "code",
   "execution_count": 36,
   "metadata": {},
   "outputs": [
    {
     "name": "stdout",
     "output_type": "stream",
     "text": [
      "tf.Tensor([[10106     7     2  1072   634]], shape=(1, 5), dtype=int64)\n"
     ]
    }
   ],
   "source": [
    "# An unknown word is mapped to values above 10000\n",
    "print(lookup_table.lookup(tf.constant([b'wurst is a German word'.split()])))"
   ]
  },
  {
   "cell_type": "code",
   "execution_count": 37,
   "metadata": {},
   "outputs": [
    {
     "data": {
      "text/plain": [
       "<tf.Tensor: shape=(1, 4), dtype=int64, numpy=array([[   22,    12,    11, 10053]], dtype=int64)>"
      ]
     },
     "execution_count": 37,
     "metadata": {},
     "output_type": "execute_result"
    }
   ],
   "source": [
    "lookup_table.lookup(tf.constant([b\"This movie was faaaaaantastic\".split()]))"
   ]
  },
  {
   "attachments": {},
   "cell_type": "markdown",
   "metadata": {},
   "source": [
    "# Prepare train and val data"
   ]
  },
  {
   "cell_type": "code",
   "execution_count": 38,
   "metadata": {},
   "outputs": [],
   "source": [
    "# Function to encode the words using the lookup table create above\n",
    "def encode_words(X_batch, y_batch):\n",
    "    return lookup_table.lookup(X_batch), y_batch"
   ]
  },
  {
   "cell_type": "code",
   "execution_count": 39,
   "metadata": {},
   "outputs": [
    {
     "name": "stdout",
     "output_type": "stream",
     "text": [
      "num examples = 25000\n",
      "len(datasets['train']) = 25000\n"
     ]
    }
   ],
   "source": [
    "print(f\"num examples = {info.splits['train'].num_examples}\")\n",
    "print(f\"len(datasets['train']) = {len(datasets['train'])}\")"
   ]
  },
  {
   "cell_type": "code",
   "execution_count": 40,
   "metadata": {},
   "outputs": [
    {
     "name": "stdout",
     "output_type": "stream",
     "text": [
      "sentences:\n",
      "b\"This was an absolutely terrible movie. Don't be lured in by Christopher Walken or Michael Ironside. Both are great actors, but this must simply be their worst role in history. Even their great acting could not redeem this movie's ridiculous storyline. This movie is an early nineties US propaganda piece. The most pathetic scenes were those when the Columbian rebels were making their cases for revolutions. Maria Conchita Alonso appeared phony, and her pseudo-love affair with Walken was nothing but a pathetic emotional plug in a movie that was devoid of any real meaning. I am disappointed that there are movies like this, ruining actor's like Christopher Walken's good name. I could barely sit through it.\"\n",
      "labels: 0\n",
      "======================================================================\n",
      "sentences:\n",
      "b'I have been known to fall asleep during films, but this is usually due to a combination of things including, really tired, being warm and comfortable on the sette and having just eaten a lot. However on this occasion I fell asleep because the film was rubbish. The plot development was constant. Constantly slow and boring. Things seemed to happen, but with no explanation of what was causing them or why. I admit, I may have missed part of the film, but i watched the majority of it and everything just seemed to happen of its own accord without any real concern for anything else. I cant recommend this film at all.'\n",
      "labels: 0\n",
      "======================================================================\n",
      "sentences:\n",
      "b'Mann photographs the Alberta Rocky Mountains in a superb fashion, and Jimmy Stewart and Walter Brennan give enjoyable performances as they always seem to do. <br /><br />But come on Hollywood - a Mountie telling the people of Dawson City, Yukon to elect themselves a marshal (yes a marshal!) and to enforce the law themselves, then gunfighters battling it out on the streets for control of the town? <br /><br />Nothing even remotely resembling that happened on the Canadian side of the border during the Klondike gold rush. Mr. Mann and company appear to have mistaken Dawson City for Deadwood, the Canadian North for the American Wild West.<br /><br />Canadian viewers be prepared for a Reefer Madness type of enjoyable howl with this ludicrous plot, or, to shake your head in disgust.'\n",
      "labels: 0\n",
      "======================================================================\n",
      "\n",
      "SHUFFLE ++++++++++++++++++++++++++++++++++++++++++++++++++++++++++++++++++++++ \n",
      "\n",
      "sentences:\n",
      "b\"I saw this movie a couple years back. I could'nt sleep and there was nothing on. So I peeped it. What really gets me is it makes no sense and thats why its disturbing. Richard gets tied up in chicken wire and Jarvis starts making out with Richard's girl while she's unconscious. Then Jarvis's buddy Troubador is playing some stupid song on his guitar. By the next morning it shows Richard's girl talking to Jarvis and Trouby and then she walks back to Richard and looks at him while he's still tied up. Then they play some happy music and the movie is finished. I mean what happened? Did they brake up? And what was she saying to those 2 guys(Trouby and Jarvis)? Its to puzzling and to poor to. I can't stand movies that are disturbing and don't make sense. This was the worst film i've ever seen since the 90's version of Lord of the Flies.\"\n",
      "labels: 0\n",
      "======================================================================\n",
      "sentences:\n",
      "b\"This was an adorable movie. A real feel-good movie when you need one. The story is light (this is no Gone With the Wind) but sometimes, one needs this kind of plot. Funny and warm characters, fantastic acting and beautiful costumes/wardrobe.<br /><br />Parminder K. Nagra (also from the TV show ER) is WONDERFUL in this role. She is definitely a new shining star for Hollywood. All should keep an eye on her, she's going to be BIG in the future.<br /><br />Also impressing was the soundtrack for this movie. A nice mix of modern and Indian tunes. I was dancing throughout most of the movie.<br /><br />Highly recommended if a fun movie is what you need.\"\n",
      "labels: 1\n",
      "======================================================================\n",
      "sentences:\n",
      "b\"i am 13 and i hated this film its the worst film on earth i totally wasted my time watching it and was disappointed with it cause on the cover and on the back the film it looks pretty good, but i was wrong its bad. but when i saw delta she was totally different and a bad actress and i really didn't know how old the 2 girls was trying to be i was so confused. the film was in some parts confusing and i didn't enjoy it at all but i watched all the film just to see if it was going to get better but it didn't, it was boring,dull and did i say BORING.and i don't think many other people liked it as well as me.boring boring boring\"\n",
      "labels: 0\n",
      "======================================================================\n"
     ]
    }
   ],
   "source": [
    "# Check how shuffle works\n",
    "for i in datasets[\"train\"].take(3):\n",
    "    print(f\"sentences:\\n{i[0]}\")\n",
    "    print(f\"labels: {i[1]}\")\n",
    "    print(\"=\"*70)\n",
    "\n",
    "len_train = len(datasets['train'])\n",
    "a1 = datasets[\"train\"].shuffle(buffer_size=len_train, seed=42)\n",
    "\n",
    "print(\"\\nSHUFFLE\", \"+\"*70, \"\\n\")\n",
    "\n",
    "for i in a1.take(3):\n",
    "    print(f\"sentences:\\n{i[0]}\")\n",
    "    print(f\"labels: {i[1]}\")\n",
    "    print(\"=\"*70)"
   ]
  },
  {
   "attachments": {},
   "cell_type": "markdown",
   "metadata": {},
   "source": [
    "Split `datasets[\"train\"]` into train and validation"
   ]
  },
  {
   "cell_type": "code",
   "execution_count": 41,
   "metadata": {},
   "outputs": [
    {
     "name": "stdout",
     "output_type": "stream",
     "text": [
      "Size full set:  25000\n",
      "Size train set: 20000\n",
      "Size val set:    5000\n",
      "\n",
      "Size train_set: 20000\n",
      "Size val_set:    5000\n"
     ]
    }
   ],
   "source": [
    "size_train_set = int(len(datasets[\"train\"]) * 0.8)\n",
    "\n",
    "print(f\"Size full set:  {len(datasets['train'])}\")\n",
    "print(f\"Size train set: {size_train_set}\")\n",
    "print(f\"Size val set:    {len(datasets['train']) - size_train_set}\")\n",
    "\n",
    "train_set = datasets[\"train\"].take(int(20000))\n",
    "val_set = datasets[\"train\"].skip(int(20000))\n",
    "\n",
    "print(f\"\\nSize train_set: {len(train_set)}\")\n",
    "print(f\"Size val_set:    {len(val_set)}\")"
   ]
  },
  {
   "cell_type": "code",
   "execution_count": 42,
   "metadata": {},
   "outputs": [],
   "source": [
    "# Create train set\n",
    "# len_train = len(train_set)\n",
    "#train_set = train_set.shuffle(buffer_size=len_train, seed=42)\n",
    "train_set = train_set.batch(32).map(preprocessing)\n",
    "train_set = train_set.map(encode_words).prefetch(1)"
   ]
  },
  {
   "cell_type": "code",
   "execution_count": 43,
   "metadata": {},
   "outputs": [],
   "source": [
    "# Create validation set\n",
    "# len_val = len(val_set)\n",
    "# val_set = val_set.shuffle(buffer_size=len_val, seed=42)\n",
    "val_set = val_set.batch(32).map(preprocessing)\n",
    "val_set = val_set.map(encode_words).prefetch(1)"
   ]
  },
  {
   "cell_type": "code",
   "execution_count": 44,
   "metadata": {},
   "outputs": [],
   "source": [
    "# Create the train_val set\n",
    "#len_train = len(datasets['train'])\n",
    "#train_val_set = datasets[\"train\"].shuffle(buffer_size=len_train, seed=42)\n",
    "#train_val_set = train_val_set.batch(32).map(preprocessing)\n",
    "## train_val_set = datasets[\"train\"].batch(32).map(preprocessing)\n",
    "#train_val_set = train_val_set.map(encode_words).prefetch(1)"
   ]
  },
  {
   "cell_type": "code",
   "execution_count": 45,
   "metadata": {},
   "outputs": [
    {
     "name": "stdout",
     "output_type": "stream",
     "text": [
      "sentences:\n",
      "[[  22   11   28 ...    0    0    0]\n",
      " [   6   21   70 ...    0    0    0]\n",
      " [4099 6881    1 ...    0    0    0]\n",
      " ...\n",
      " [  22   12  118 ...  331 1047    0]\n",
      " [1757 4101  451 ...    0    0    0]\n",
      " [3365 4392    6 ...    0    0    0]]\n",
      "\n",
      "labels:\n",
      "[0 0 0 1 1 1 0 0 0 0 0 1 1 0 1 0 1 1 1 0 1 1 1 1 1 0 0 0 1 0 0 0]\n",
      "\n",
      "batch len:\n",
      "32\n",
      "====================================================================== \n",
      "\n",
      "sentences:\n",
      "[[   14 10911   206 ...     0     0     0]\n",
      " [    6    11 10507 ...    28     0     0]\n",
      " [  122  1011     6 ...     0     0     0]\n",
      " ...\n",
      " [   74   592     4 ...     0     0     0]\n",
      " [ 8386    36     9 ...     0     0     0]\n",
      " [    6   151   469 ...     0     0     0]]\n",
      "\n",
      "labels:\n",
      "[0 0 0 1 1 0 0 1 0 0 0 0 0 0 0 1 0 1 1 1 1 1 0 1 0 1 1 1 1 1 0 1]\n",
      "\n",
      "batch len:\n",
      "32\n",
      "====================================================================== \n",
      "\n",
      "sentences:\n",
      "[[ 3191 10054  9096 ...     0     0     0]\n",
      " [ 1086   440 10370 ...     0     0     0]\n",
      " [  168 10352   981 ...     0     0     0]\n",
      " ...\n",
      " [    9     7    23 ...     0     0     0]\n",
      " [ 2174    27  1028 ...     0     0     0]\n",
      " [    6   666   140 ...     0     0     0]]\n",
      "\n",
      "labels:\n",
      "[1 1 0 0 1 0 0 0 1 0 1 1 1 1 0 1 0 0 1 1 0 0 1 1 0 1 0 0 1 1 0 1]\n",
      "\n",
      "batch len:\n",
      "32\n",
      "====================================================================== \n",
      "\n"
     ]
    }
   ],
   "source": [
    "for i in train_set.take(3):\n",
    "    print(f\"sentences:\\n{i[0]}\")\n",
    "    print(f\"\\nlabels:\\n{i[1]}\")\n",
    "    print(f\"\\nbatch len:\\n{len(i[0])}\")\n",
    "    print(\"=\"*70, \"\\n\")\n",
    "    "
   ]
  },
  {
   "cell_type": "code",
   "execution_count": 46,
   "metadata": {},
   "outputs": [
    {
     "name": "stdout",
     "output_type": "stream",
     "text": [
      "sentences:\n",
      "[   22    11    28   337   302    12   628    25 10501     8    31  1296\n",
      "  3455    45   451 10966  1822    26    68   147    20     9   202   389\n",
      "    25    89   143   286     8   443   431    89    68    87    99    24\n",
      "  6479     9  1568   623   584    22    12     7    28   348  5108  1026\n",
      "  2119 10325     0     0     0     0     0     0     0     0     0     0]\n",
      "\n",
      "sentence len: 60\n"
     ]
    },
    {
     "data": {
      "image/png": "[encoded data removed]",
      "text/plain": [
       "<Figure size 720x216 with 1 Axes>"
      ]
     },
     "metadata": {
      "needs_background": "light"
     },
     "output_type": "display_data"
    }
   ],
   "source": [
    "plt.figure(figsize=(10, 3))\n",
    "this_sentence=0 # take the first sentence in the batch\n",
    "for review, label in train_set.take(1):\n",
    "    ax = sns.lineplot(review[this_sentence])\n",
    "    ax.set(xlabel='Words sequence (in a sentence)', ylabel='Indices')\n",
    "    print(f\"sentences:\\n{review[this_sentence]}\")\n",
    "    print(f\"\\nsentence len: {len(review[this_sentence])}\")\n",
    "plt.show()"
   ]
  },
  {
   "cell_type": "code",
   "execution_count": 47,
   "metadata": {},
   "outputs": [
    {
     "name": "stdout",
     "output_type": "stream",
     "text": [
      "sentences:\n",
      "[[ 1218   160     5 ...     0     0     0]\n",
      " [  274    11  1748 ...     0     0     0]\n",
      " [    6   264 10627 ...     0     0     0]\n",
      " ...\n",
      " [  481  1227   102 ...     0     0     0]\n",
      " [ 1396  1308     7 ...   140    10   504]\n",
      " [ 5661  4712    14 ...     0     0     0]]\n",
      "\n",
      "labels:\n",
      "[0 1 1 1 0 0 0 1 1 0 0 1 0 0 0 1 1 0 0 0 0 0 0 1 0 1 1 1 0 0 1 0]\n",
      "\n",
      "batch len:\n",
      "32\n",
      "====================================================================== \n",
      "\n",
      "sentences:\n",
      "[[  293 10093     1 ...     0     0     0]\n",
      " [10180  2729   527 ...     0     0     0]\n",
      " [ 1211 10420   522 ...     0     0     0]\n",
      " ...\n",
      " [ 1086  6140     4 ...     0     0     0]\n",
      " [  856  4670 10952 ...     0     0     0]\n",
      " [  550     1   414 ...     0     0     0]]\n",
      "\n",
      "labels:\n",
      "[0 0 1 1 1 1 1 0 0 1 1 0 0 1 1 1 1 1 1 1 1 1 1 1 1 1 1 1 0 0 0 1]\n",
      "\n",
      "batch len:\n",
      "32\n",
      "====================================================================== \n",
      "\n",
      "sentences:\n",
      "[[    6    21    60 ...     0     0     0]\n",
      " [ 1047   140    44 ...     0     0     0]\n",
      " [   97     2  7760 ...     0     0     0]\n",
      " ...\n",
      " [  240   232   227 ...   131 10235     0]\n",
      " [   14  3285     3 ...     0     0     0]\n",
      " [    6   172    16 ...     0     0     0]]\n",
      "\n",
      "labels:\n",
      "[1 0 1 1 0 0 0 1 0 1 1 1 0 1 1 1 1 0 1 0 1 0 1 1 1 1 0 1 0 0 1 1]\n",
      "\n",
      "batch len:\n",
      "32\n",
      "====================================================================== \n",
      "\n"
     ]
    }
   ],
   "source": [
    "for i in val_set.take(3):\n",
    "    print(f\"sentences:\\n{i[0]}\")\n",
    "    print(f\"\\nlabels:\\n{i[1]}\")\n",
    "    print(f\"\\nbatch len:\\n{len(i[0])}\")\n",
    "    print(\"=\"*70, \"\\n\")"
   ]
  },
  {
   "attachments": {},
   "cell_type": "markdown",
   "metadata": {},
   "source": [
    "# Model 1: embedding + GRU"
   ]
  },
  {
   "attachments": {},
   "cell_type": "markdown",
   "metadata": {},
   "source": [
    "**Masking**: since we already know that the padding token (`<pad>`)should be ignored, we\n",
    "can inform the model that this token must be ignored. We can add `mask_zero=True` to the\n",
    "embedding layer to tell the model to ignore this token (i.e., the padding token).\n",
    "\n",
    "The index of the padding token MUST be 0 and the following code chech this"
   ]
  },
  {
   "cell_type": "code",
   "execution_count": 48,
   "metadata": {},
   "outputs": [
    {
     "name": "stdout",
     "output_type": "stream",
     "text": [
      "\n",
      "Index for <pad> token = [0]\n"
     ]
    }
   ],
   "source": [
    "print(f\"\\nIndex for <pad> token = {lookup_table.lookup(tf.constant([b'<pad>']))}\")"
   ]
  },
  {
   "cell_type": "code",
   "execution_count": 49,
   "metadata": {},
   "outputs": [],
   "source": [
    "# Number of dimentions in the embedding\n",
    "embed_dim = 128\n",
    "num_word_IDs = vocab_size + num_oov_buckets\n",
    "\n",
    "model_1 = keras.models.Sequential([\n",
    "    layers.Embedding(input_dim=num_word_IDs,\n",
    "                     output_dim=embed_dim,\n",
    "                     mask_zero=True,\n",
    "                     input_shape=[None]),\n",
    "    layers.GRU(64, return_sequences=True), # 128\n",
    "    layers.GRU(128),\n",
    "    layers.Dense(1, activation=\"sigmoid\")\n",
    "])\n",
    "\n",
    "model_1.compile(\n",
    "    loss=keras.losses.BinaryCrossentropy(),\n",
    "    optimizer=keras.optimizers.Adam(learning_rate=0.001),\n",
    "    metrics=[\"accuracy\"]\n",
    ")"
   ]
  },
  {
   "cell_type": "code",
   "execution_count": 50,
   "metadata": {},
   "outputs": [
    {
     "name": "stdout",
     "output_type": "stream",
     "text": [
      "Model: \"sequential\"\n",
      "_________________________________________________________________\n",
      " Layer (type)                Output Shape              Param #   \n",
      "=================================================================\n",
      " embedding (Embedding)       (None, None, 128)         1408000   \n",
      "                                                                 \n",
      " gru (GRU)                   (None, None, 64)          37248     \n",
      "                                                                 \n",
      " gru_1 (GRU)                 (None, 128)               74496     \n",
      "                                                                 \n",
      " dense (Dense)               (None, 1)                 129       \n",
      "                                                                 \n",
      "=================================================================\n",
      "Total params: 1,519,873\n",
      "Trainable params: 1,519,873\n",
      "Non-trainable params: 0\n",
      "_________________________________________________________________\n",
      "None\n"
     ]
    }
   ],
   "source": [
    "print(model_1.summary())"
   ]
  },
  {
   "cell_type": "code",
   "execution_count": 51,
   "metadata": {},
   "outputs": [
    {
     "name": "stdout",
     "output_type": "stream",
     "text": [
      "Epoch 1/5\n",
      "625/625 [==============================] - 17s 18ms/step - loss: 0.5481 - accuracy: 0.7097 - val_loss: 0.4757 - val_accuracy: 0.7796\n",
      "Epoch 2/5\n",
      "625/625 [==============================] - 9s 15ms/step - loss: 0.3457 - accuracy: 0.8561 - val_loss: 0.4751 - val_accuracy: 0.7792\n",
      "Epoch 3/5\n",
      "625/625 [==============================] - 9s 15ms/step - loss: 0.1988 - accuracy: 0.9273 - val_loss: 0.6814 - val_accuracy: 0.7698\n",
      "Epoch 4/5\n",
      "625/625 [==============================] - 9s 15ms/step - loss: 0.1499 - accuracy: 0.9457 - val_loss: 0.7962 - val_accuracy: 0.7658\n",
      "Epoch 5/5\n",
      "625/625 [==============================] - 10s 15ms/step - loss: 0.1030 - accuracy: 0.9621 - val_loss: 0.9534 - val_accuracy: 0.7376\n"
     ]
    }
   ],
   "source": [
    "history_1 = model_1.fit(\n",
    "    train_set,\n",
    "    epochs=5,\n",
    "    # batch_size=32, # alread done above\n",
    "    validation_data=val_set)"
   ]
  },
  {
   "cell_type": "code",
   "execution_count": 52,
   "metadata": {},
   "outputs": [
    {
     "name": "stdout",
     "output_type": "stream",
     "text": [
      "Keys: dict_keys(['loss', 'accuracy', 'val_loss', 'val_accuracy'])\n",
      "\n",
      "Highest val accuracy: EPOC = 1\n",
      "{'GRU': {'epoc': 1, 'loss': 0.548, 'accuracy': 0.71, 'val_loss': 0.476, 'val_acc': 0.78}}\n",
      "{'epoc': 1, 'loss': 0.548, 'accuracy': 0.71, 'val_loss': 0.476, 'val_acc': 0.78}\n",
      "0.78\n"
     ]
    },
    {
     "data": {
      "image/png": "[encoded data removed]",
      "text/plain": [
       "<Figure size 1080x360 with 2 Axes>"
      ]
     },
     "metadata": {
      "needs_background": "light"
     },
     "output_type": "display_data"
    }
   ],
   "source": [
    "print(f\"Keys: {history_1.history.keys()}\\n\")\n",
    "\n",
    "# Find epoch with highest validation accuracy\n",
    "max_val = max(history_1.history['val_accuracy'])\n",
    "max_index = history_1.history['val_accuracy'].index(max_val)\n",
    "max_epoc_1 = max_index + 1 # index starts at 0\n",
    "print(f\"Highest val accuracy: EPOC = {max_epoc_1}\")\n",
    "\n",
    "scores_model = {'GRU': \n",
    "     {'epoc': max_epoc_1,\n",
    "      'loss': np.round(history_1.history['loss'][max_index], 3),\n",
    "      'accuracy': np.round(history_1.history['accuracy'][max_index], 3),\n",
    "      'val_loss': np.round(history_1.history['val_loss'][max_index], 3),\n",
    "      'val_acc': np.round(history_1.history['val_accuracy'][max_index], 3)}\n",
    "    }\n",
    "\n",
    "print(scores_model)\n",
    "print(scores_model['GRU'])\n",
    "print(scores_model['GRU']['val_acc'])\n",
    "\n",
    "plot_loss_acc(history_1.history)"
   ]
  },
  {
   "attachments": {},
   "cell_type": "markdown",
   "metadata": {},
   "source": [
    "# Model 2: pretrained embedding"
   ]
  },
  {
   "cell_type": "code",
   "execution_count": 53,
   "metadata": {},
   "outputs": [
    {
     "name": "stdout",
     "output_type": "stream",
     "text": [
      "Size full set:  25000\n",
      "Size train set: 20000\n",
      "Size val set:    5000\n",
      "\n",
      "Size train_set_2: 20000\n",
      "Size train_set_2 batched: 625\n",
      "\n",
      "Size val_set_2: 5000\n",
      "Size val_set_2 batched: 157\n"
     ]
    }
   ],
   "source": [
    "size_train_set = int(len(datasets[\"train\"]) * 0.8)\n",
    "\n",
    "print(f\"Size full set:  {len(datasets['train'])}\")\n",
    "print(f\"Size train set: {size_train_set}\")\n",
    "print(f\"Size val set:    {len(datasets['train']) - size_train_set}\")\n",
    "\n",
    "train_set_2 = datasets[\"train\"].take(int(20000))\n",
    "print(f\"\\nSize train_set_2: {len(train_set_2)}\")\n",
    "train_set_2 = train_set_2.batch(32).prefetch(1)\n",
    "print(f\"Size train_set_2 batched: {len(train_set_2)}\")\n",
    "\n",
    "val_set_2 = datasets[\"train\"].skip(int(20000))\n",
    "print(f\"\\nSize val_set_2: {len(val_set_2)}\")\n",
    "val_set_2 = val_set_2.batch(32).prefetch(1)\n",
    "print(f\"Size val_set_2 batched: {len(val_set_2)}\")"
   ]
  },
  {
   "attachments": {},
   "cell_type": "markdown",
   "metadata": {},
   "source": [
    "`emb_layer`: a tensorflow hub layer; it is a pre-trained embedding that maps a sentence to its embedding vector; it (I) splits the sentences into tokens, (II) embeds each token (word embedding), and (III) combines the word embeddings into a whole embedding (sentence embedding). The shape of the output is (num_examples, embedding_dimension), that is (X_train.shape, 50)."
   ]
  },
  {
   "cell_type": "code",
   "execution_count": 54,
   "metadata": {},
   "outputs": [],
   "source": [
    "emb_layer = hub.KerasLayer(\n",
    "    \"https://tfhub.dev/google/nnlm-en-dim50/2\",\n",
    "    input_shape=[],  # input shape is a list\n",
    "    dtype=tf.string,\n",
    "    output_shape=[50],\n",
    "    # set \"trainable=True\" to perform transfer learning (fine-tune the model)\n",
    "    trainable=True)\n",
    "\n",
    "model_2 = keras.models.Sequential([\n",
    "    emb_layer,\n",
    "\n",
    "    layers.Dense(16, use_bias=False),\n",
    "    layers.BatchNormalization(),\n",
    "    layers.Activation(activation=\"relu\"),\n",
    "    layers.Dropout(0.5),\n",
    "    \n",
    "    layers.Dense(1, activation=\"sigmoid\")\n",
    "])\n",
    "\n",
    "model_2.compile(\n",
    "    loss=keras.losses.BinaryCrossentropy(),\n",
    "    optimizer=keras.optimizers.Adam(learning_rate=0.01),\n",
    "    metrics=[\"accuracy\"]\n",
    ")"
   ]
  },
  {
   "cell_type": "code",
   "execution_count": 55,
   "metadata": {},
   "outputs": [
    {
     "name": "stdout",
     "output_type": "stream",
     "text": [
      "Model: \"sequential_1\"\n",
      "_________________________________________________________________\n",
      " Layer (type)                Output Shape              Param #   \n",
      "=================================================================\n",
      " keras_layer (KerasLayer)    (None, 50)                48190600  \n",
      "                                                                 \n",
      " dense_1 (Dense)             (None, 16)                800       \n",
      "                                                                 \n",
      " batch_normalization (BatchN  (None, 16)               64        \n",
      " ormalization)                                                   \n",
      "                                                                 \n",
      " activation (Activation)     (None, 16)                0         \n",
      "                                                                 \n",
      " dropout (Dropout)           (None, 16)                0         \n",
      "                                                                 \n",
      " dense_2 (Dense)             (None, 1)                 17        \n",
      "                                                                 \n",
      "=================================================================\n",
      "Total params: 48,191,481\n",
      "Trainable params: 48,191,449\n",
      "Non-trainable params: 32\n",
      "_________________________________________________________________\n",
      "None\n"
     ]
    }
   ],
   "source": [
    "print(model_2.summary())"
   ]
  },
  {
   "cell_type": "code",
   "execution_count": 56,
   "metadata": {},
   "outputs": [
    {
     "name": "stdout",
     "output_type": "stream",
     "text": [
      "Epoch 1/5\n",
      "625/625 [==============================] - 13s 20ms/step - loss: 0.3975 - accuracy: 0.8278 - val_loss: 0.3078 - val_accuracy: 0.8694\n",
      "Epoch 2/5\n",
      "625/625 [==============================] - 13s 20ms/step - loss: 0.1650 - accuracy: 0.9417 - val_loss: 0.4032 - val_accuracy: 0.8544\n",
      "Epoch 3/5\n",
      "625/625 [==============================] - 13s 20ms/step - loss: 0.0945 - accuracy: 0.9692 - val_loss: 0.6083 - val_accuracy: 0.8440\n",
      "Epoch 4/5\n",
      "625/625 [==============================] - 13s 20ms/step - loss: 0.0686 - accuracy: 0.9754 - val_loss: 0.7559 - val_accuracy: 0.8342\n",
      "Epoch 5/5\n",
      "625/625 [==============================] - 13s 21ms/step - loss: 0.0535 - accuracy: 0.9820 - val_loss: 0.9013 - val_accuracy: 0.8290\n"
     ]
    }
   ],
   "source": [
    "history_2 = model_2.fit(\n",
    "    train_set_2,\n",
    "    epochs=5,\n",
    "    # batch_size=32, # alread done above\n",
    "    validation_data=val_set_2)"
   ]
  },
  {
   "cell_type": "code",
   "execution_count": 57,
   "metadata": {},
   "outputs": [
    {
     "name": "stdout",
     "output_type": "stream",
     "text": [
      "Highest val accuracy: EPOC = 1\n",
      "Embedding + GRU =              {'epoc': 1, 'loss': 0.548, 'accuracy': 0.71, 'val_loss': 0.476, 'val_acc': 0.78}\n",
      "Pretrained Embedding + Dense = {'epoc': 1, 'loss': 0.397, 'accuracy': 0.828, 'val_loss': 0.308, 'val_acc': 0.869}\n"
     ]
    },
    {
     "data": {
      "image/png": "[encoded data removed]",
      "text/plain": [
       "<Figure size 1080x360 with 2 Axes>"
      ]
     },
     "metadata": {
      "needs_background": "light"
     },
     "output_type": "display_data"
    }
   ],
   "source": [
    "# Find epoch with highest validation accuracy\n",
    "max_val_2 = max(history_2.history['val_accuracy'])\n",
    "max_index_2 = history_2.history['val_accuracy'].index(max_val_2)\n",
    "max_epoc_2 = max_index_2 + 1 # index starts at 0\n",
    "print(f\"Highest val accuracy: EPOC = {max_epoc_2}\")\n",
    "\n",
    "scores_model['pre_emb'] = {\n",
    "    'epoc': max_epoc_2,\n",
    "    'loss': np.round(history_2.history['loss'][max_index_2], 3),\n",
    "    'accuracy': np.round(history_2.history['accuracy'][max_index_2], 3),\n",
    "    'val_loss': np.round(history_2.history['val_loss'][max_index_2], 3),\n",
    "    'val_acc': np.round(history_2.history['val_accuracy'][max_index_2], 3)}\n",
    "\n",
    "print(f\"Embedding + GRU =              {scores_model['GRU']}\")\n",
    "print(f\"Pretrained Embedding + Dense = {scores_model['pre_emb']}\")\n",
    "\n",
    "# Plot loss and accuracy\n",
    "plot_loss_acc(history_2.history)"
   ]
  },
  {
   "attachments": {},
   "cell_type": "markdown",
   "metadata": {},
   "source": [
    "# Model 3: pretrained emb + GRU"
   ]
  },
  {
   "cell_type": "code",
   "execution_count": 58,
   "metadata": {},
   "outputs": [],
   "source": [
    "emb_layer_2 = hub.KerasLayer(\n",
    "    \"https://tfhub.dev/google/nnlm-en-dim50/2\",\n",
    "    input_shape=[],  # input shape is a list\n",
    "    dtype=tf.string,\n",
    "    # set \"trainable=True\" to perform transfer learning (fine-tune the model)\n",
    "    trainable=False)"
   ]
  },
  {
   "cell_type": "code",
   "execution_count": 59,
   "metadata": {},
   "outputs": [
    {
     "name": "stdout",
     "output_type": "stream",
     "text": [
      "Shape: [     1 963812     50]\n",
      "\n",
      "Weights of last word:\n",
      "[ 0.4463733   0.06268543  0.02524463 -0.03003857 -0.07518507  0.10584744\n",
      "  0.05190546  0.07918476 -0.00114658 -0.02522112 -0.05618273  0.20218264\n",
      " -0.18284753  0.02534474 -0.13071997 -0.1094304  -0.20741123  0.01510983\n",
      "  0.05321887 -0.17604783 -0.01244334 -0.23229207 -0.15607479  0.00682715\n",
      " -0.00777245 -0.1966516   0.03222495  0.08452887 -0.15912555  0.16508932\n",
      " -0.00970589  0.14970572 -0.07301918 -0.29117134  0.12118941 -0.17614129\n",
      " -0.243724   -0.18572477 -0.11401933  0.00484178  0.13486008  0.00838438\n",
      " -0.252614    0.19786541  0.07006849  0.16772746 -0.05321772  0.17416938\n",
      " -0.11148718  0.2714855 ]\n"
     ]
    }
   ],
   "source": [
    "print(f\"Shape: {tf.shape(emb_layer_2.weights)}\\n\")\n",
    "print(f\"Weights of last word:\\n{emb_layer_2.weights[0][963811]}\")"
   ]
  },
  {
   "cell_type": "code",
   "execution_count": 60,
   "metadata": {},
   "outputs": [
    {
     "name": "stdout",
     "output_type": "stream",
     "text": [
      "Number of dimensions: 50\n",
      "\n"
     ]
    }
   ],
   "source": [
    "n_dim_emb = tf.shape(emb_layer_2.weights)[2]\n",
    "print(f\"Number of dimensions: {n_dim_emb}\\n\")"
   ]
  },
  {
   "attachments": {},
   "cell_type": "markdown",
   "metadata": {},
   "source": [
    "`vocabulary_subset` was created above"
   ]
  },
  {
   "cell_type": "code",
   "execution_count": 61,
   "metadata": {},
   "outputs": [
    {
     "name": "stdout",
     "output_type": "stream",
     "text": [
      "length vocabulary: 10000\n",
      "\n"
     ]
    }
   ],
   "source": [
    "print(f\"length vocabulary: {len(vocabulary_subset)}\\n\")\n",
    "\n",
    "# To create \"vocabulary_subset\", we only used the 10000 most common words in the vocabolary\n",
    "vocab_size = 10000"
   ]
  },
  {
   "cell_type": "code",
   "execution_count": 62,
   "metadata": {},
   "outputs": [
    {
     "name": "stdout",
     "output_type": "stream",
     "text": [
      "0  --  b'<pad>'\n",
      "1  --  b'the'\n",
      "2  --  b'a'\n",
      "3  --  b'of'\n",
      "4  --  b'and'\n",
      "5  --  b'to'\n",
      "6  --  b'I'\n",
      "7  --  b'is'\n",
      "8  --  b'in'\n",
      "9  --  b'this'\n"
     ]
    }
   ],
   "source": [
    "for index, word in enumerate(vocabulary_subset[:10]):\n",
    "    print(index, \" -- \", word)"
   ]
  },
  {
   "cell_type": "code",
   "execution_count": 63,
   "metadata": {},
   "outputs": [
    {
     "name": "stdout",
     "output_type": "stream",
     "text": [
      "<pad>: 0\n",
      "the:   1\n",
      "a:     2\n",
      "this:  9\n"
     ]
    }
   ],
   "source": [
    "word_index = dict(zip(vocabulary_subset, range(len(vocabulary_subset))))\n",
    "\n",
    "print(f\"<pad>: {word_index[b'<pad>']}\")\n",
    "print(f\"the:   {word_index[b'the']}\")\n",
    "print(f\"a:     {word_index[b'a']}\")\n",
    "print(f\"this:  {word_index[b'this']}\")"
   ]
  },
  {
   "cell_type": "code",
   "execution_count": 64,
   "metadata": {},
   "outputs": [
    {
     "name": "stdout",
     "output_type": "stream",
     "text": [
      "0  --  b'<pad>'\n",
      "1  --  b'the'\n",
      "2  --  b'a'\n",
      "3  --  b'of'\n",
      "4  --  b'and'\n",
      "5  --  b'to'\n",
      "6  --  b'I'\n",
      "7  --  b'is'\n",
      "8  --  b'in'\n",
      "9  --  b'this'\n"
     ]
    }
   ],
   "source": [
    "for word, index in list(word_index.items())[:10]:\n",
    "    print(index, \" -- \", word)"
   ]
  },
  {
   "cell_type": "code",
   "execution_count": 65,
   "metadata": {},
   "outputs": [
    {
     "name": "stdout",
     "output_type": "stream",
     "text": [
      "shape: (1, 50)\n",
      "\n",
      "tf.Tensor(\n",
      "[[ 0.08619884  0.07773586  0.09090527 -0.06528513  0.16312574  0.1746562\n",
      "  -0.29042453  0.34058842 -0.12867717  0.0457645  -0.0541801   0.09583791\n",
      "  -0.01300897  0.15812047  0.2240742  -0.00496979 -0.06101715  0.04759911\n",
      "   0.05193571  0.13281709 -0.15151405  0.17609079  0.19989206 -0.19709335\n",
      "  -0.09719014 -0.2901225   0.11700022  0.09265206 -0.17906703 -0.28486755\n",
      "   0.27748516 -0.09231462 -0.27417657  0.09934359  0.14005299 -0.21052957\n",
      "  -0.19520351  0.04808098 -0.04024586 -0.1469216  -0.10068627 -0.07748628\n",
      "  -0.19279622  0.18174908 -0.16768384 -0.15494153  0.04687274 -0.13806896\n",
      "  -0.06056129 -0.05874412]], shape=(1, 50), dtype=float32)\n"
     ]
    }
   ],
   "source": [
    "emb_1 = emb_layer_2([\"<pad>\"])\n",
    "print(f\"shape: {emb_1.shape}\\n\")\n",
    "print(emb_1)"
   ]
  },
  {
   "cell_type": "code",
   "execution_count": 66,
   "metadata": {},
   "outputs": [
    {
     "name": "stdout",
     "output_type": "stream",
     "text": [
      "b'the'\n",
      "\n",
      " tf.Tensor(\n",
      "[[ 0.11487865  0.20006695  0.4028506   0.17986138 -0.04900441 -0.09742887\n",
      "  -0.01987137 -0.05182496 -0.02529449  0.13631712  0.00378919  0.21849978\n",
      "   0.08996052 -0.03973864  0.07005829 -0.20997743 -0.09054149 -0.02437213\n",
      "  -0.16298744  0.12289404 -0.12056192 -0.1547736  -0.04315764  0.06620021\n",
      "   0.19259551  0.12415367 -0.1781637   0.03429599 -0.0228256  -0.06757604\n",
      "  -0.16910565 -0.13549758  0.09297232 -0.32912344 -0.10704424 -0.12266885\n",
      "   0.05898482 -0.12374956 -0.03804301 -0.34826064 -0.11246426 -0.12397887\n",
      "  -0.10584528 -0.04936738  0.03223122 -0.01095728 -0.02915668 -0.01456857\n",
      "  -0.20854506 -0.08049526]], shape=(1, 50), dtype=float32)\n",
      "\n",
      " tf.Tensor(\n",
      "[[ 0.11487865  0.20006695  0.4028506   0.17986138 -0.04900441 -0.09742887\n",
      "  -0.01987137 -0.05182496 -0.02529449  0.13631712  0.00378919  0.21849978\n",
      "   0.08996052 -0.03973864  0.07005829 -0.20997743 -0.09054149 -0.02437213\n",
      "  -0.16298744  0.12289404 -0.12056192 -0.1547736  -0.04315764  0.06620021\n",
      "   0.19259551  0.12415367 -0.1781637   0.03429599 -0.0228256  -0.06757604\n",
      "  -0.16910565 -0.13549758  0.09297232 -0.32912344 -0.10704424 -0.12266885\n",
      "   0.05898482 -0.12374956 -0.03804301 -0.34826064 -0.11246426 -0.12397887\n",
      "  -0.10584528 -0.04936738  0.03223122 -0.01095728 -0.02915668 -0.01456857\n",
      "  -0.20854506 -0.08049526]], shape=(1, 50), dtype=float32)\n"
     ]
    }
   ],
   "source": [
    "word_example = list(word_index.items())[1][0]\n",
    "\n",
    "print(word_example)\n",
    "\n",
    "print('\\n', emb_layer_2([word_example]))\n",
    "\n",
    "print('\\n', emb_layer_2([\"the\"]))"
   ]
  },
  {
   "cell_type": "code",
   "execution_count": 67,
   "metadata": {},
   "outputs": [],
   "source": [
    "# The embedding matrix is a matrix of shape:\n",
    "# (length of the vocabolary, number of embedding dimensions)\n",
    "# Each row contains the N-dimensional vector (N = number of embedding \n",
    "# dimensions) for the word of index corresponding to the row index.\n",
    "embedding_matrix = np.zeros((vocab_size, n_dim_emb))\n",
    "\n",
    "for word, index in word_index.items():\n",
    "    if index < vocab_size:\n",
    "        embedding_vector = emb_layer_2([word])\n",
    "    if embedding_vector is not None:\n",
    "        embedding_matrix[index] = embedding_vector"
   ]
  },
  {
   "cell_type": "code",
   "execution_count": 68,
   "metadata": {},
   "outputs": [
    {
     "name": "stdout",
     "output_type": "stream",
     "text": [
      "Shape = (10000, 50)\n",
      "\n",
      "word: b'the'\n",
      "index: 1\n",
      "\n",
      "Vector for 'the' in pretrained layer:\n",
      "[[ 0.11487865  0.20006695  0.4028506   0.17986138 -0.04900441 -0.09742887\n",
      "  -0.01987137 -0.05182496 -0.02529449  0.13631712  0.00378919  0.21849978\n",
      "   0.08996052 -0.03973864  0.07005829 -0.20997743 -0.09054149 -0.02437213\n",
      "  -0.16298744  0.12289404 -0.12056192 -0.1547736  -0.04315764  0.06620021\n",
      "   0.19259551  0.12415367 -0.1781637   0.03429599 -0.0228256  -0.06757604\n",
      "  -0.16910565 -0.13549758  0.09297232 -0.32912344 -0.10704424 -0.12266885\n",
      "   0.05898482 -0.12374956 -0.03804301 -0.34826064 -0.11246426 -0.12397887\n",
      "  -0.10584528 -0.04936738  0.03223122 -0.01095728 -0.02915668 -0.01456857\n",
      "  -0.20854506 -0.08049526]]\n",
      "\n",
      "Row 1 in embedding matrix:\n",
      "[ 0.11487865  0.20006695  0.4028506   0.17986138 -0.04900441 -0.09742887\n",
      " -0.01987137 -0.05182496 -0.02529449  0.13631712  0.00378919  0.21849978\n",
      "  0.08996052 -0.03973864  0.07005829 -0.20997743 -0.09054149 -0.02437213\n",
      " -0.16298744  0.12289404 -0.12056192 -0.15477359 -0.04315764  0.06620021\n",
      "  0.19259551  0.12415367 -0.17816371  0.03429599 -0.0228256  -0.06757604\n",
      " -0.16910565 -0.13549758  0.09297232 -0.32912344 -0.10704424 -0.12266885\n",
      "  0.05898482 -0.12374956 -0.03804301 -0.34826064 -0.11246426 -0.12397887\n",
      " -0.10584528 -0.04936738  0.03223122 -0.01095728 -0.02915668 -0.01456857\n",
      " -0.20854506 -0.08049526]\n"
     ]
    }
   ],
   "source": [
    "print(f\"Shape = {embedding_matrix.shape}\")\n",
    "\n",
    "this_word = b'the'\n",
    "\n",
    "print(f\"\\nword: {this_word}\\nindex: {word_index[this_word]}\")\n",
    "\n",
    "# The 2 following vectors MUST be identical!\n",
    "\n",
    "print(f\"\\nVector for 'the' in pretrained layer:\\n{emb_layer_2(['the'])}\")\n",
    "\n",
    "print(f\"\\nRow 1 in embedding matrix:\\n{embedding_matrix[1]}\")"
   ]
  },
  {
   "cell_type": "code",
   "execution_count": 69,
   "metadata": {},
   "outputs": [],
   "source": [
    "# Number of dimentions in the embedding\n",
    "num_word_IDs = vocab_size + num_oov_buckets\n",
    "\n",
    "model_3 = keras.models.Sequential([\n",
    "    layers.Embedding(input_dim=vocab_size,\n",
    "                     output_dim=n_dim_emb,\n",
    "                     # input_shape=[None]\n",
    "                     embeddings_initializer=keras.initializers.Constant(embedding_matrix),\n",
    "                     trainable=True, # trainable=False,\n",
    "                     mask_zero=True),\n",
    "    layers.GRU(128, return_sequences=True),\n",
    "    layers.GRU(128),\n",
    "    layers.Dense(1, activation=\"sigmoid\")\n",
    "])\n",
    "\n",
    "model_3.compile(\n",
    "    loss=keras.losses.BinaryCrossentropy(),\n",
    "    optimizer=keras.optimizers.Adam(learning_rate=0.001),\n",
    "    metrics=[\"accuracy\"]\n",
    ")"
   ]
  },
  {
   "cell_type": "code",
   "execution_count": 70,
   "metadata": {},
   "outputs": [
    {
     "name": "stdout",
     "output_type": "stream",
     "text": [
      "Model: \"sequential_2\"\n",
      "_________________________________________________________________\n",
      " Layer (type)                Output Shape              Param #   \n",
      "=================================================================\n",
      " embedding_1 (Embedding)     (None, None, 50)          500000    \n",
      "                                                                 \n",
      " gru_2 (GRU)                 (None, None, 128)         69120     \n",
      "                                                                 \n",
      " gru_3 (GRU)                 (None, 128)               99072     \n",
      "                                                                 \n",
      " dense_3 (Dense)             (None, 1)                 129       \n",
      "                                                                 \n",
      "=================================================================\n",
      "Total params: 668,321\n",
      "Trainable params: 668,321\n",
      "Non-trainable params: 0\n",
      "_________________________________________________________________\n",
      "None\n"
     ]
    }
   ],
   "source": [
    "print(model_3.summary())"
   ]
  },
  {
   "cell_type": "code",
   "execution_count": 71,
   "metadata": {},
   "outputs": [
    {
     "name": "stdout",
     "output_type": "stream",
     "text": [
      "Epoch 1/5\n",
      "625/625 [==============================] - 16s 18ms/step - loss: 0.5496 - accuracy: 0.7115 - val_loss: 0.4603 - val_accuracy: 0.7872\n",
      "Epoch 2/5\n",
      "625/625 [==============================] - 10s 16ms/step - loss: 0.3782 - accuracy: 0.8376 - val_loss: 0.4484 - val_accuracy: 0.7928\n",
      "Epoch 3/5\n",
      "625/625 [==============================] - 10s 16ms/step - loss: 0.2812 - accuracy: 0.8880 - val_loss: 0.4829 - val_accuracy: 0.7846\n",
      "Epoch 4/5\n",
      "625/625 [==============================] - 10s 16ms/step - loss: 0.2010 - accuracy: 0.9280 - val_loss: 0.5806 - val_accuracy: 0.7590\n",
      "Epoch 5/5\n",
      "625/625 [==============================] - 10s 16ms/step - loss: 0.1555 - accuracy: 0.9432 - val_loss: 0.6803 - val_accuracy: 0.7644\n"
     ]
    }
   ],
   "source": [
    "history_3 = model_3.fit(\n",
    "    train_set,\n",
    "    epochs=5,\n",
    "    # batch_size=32, # alread done above\n",
    "    validation_data=val_set)"
   ]
  },
  {
   "cell_type": "code",
   "execution_count": 72,
   "metadata": {},
   "outputs": [
    {
     "name": "stdout",
     "output_type": "stream",
     "text": [
      "Highest val accuracy: EPOC = 2\n",
      "Embedding + GRU =              {'epoc': 1, 'loss': 0.548, 'accuracy': 0.71, 'val_loss': 0.476, 'val_acc': 0.78}\n",
      "Pretrained Embedding + Dense = {'epoc': 1, 'loss': 0.397, 'accuracy': 0.828, 'val_loss': 0.308, 'val_acc': 0.869}\n",
      "Pretrained Embedding + GRU =   {'epoc': 2, 'loss': 0.378, 'accuracy': 0.838, 'val_loss': 0.448, 'val_acc': 0.793}\n"
     ]
    },
    {
     "data": {
      "image/png": "[encoded data removed]",
      "text/plain": [
       "<Figure size 1080x360 with 2 Axes>"
      ]
     },
     "metadata": {
      "needs_background": "light"
     },
     "output_type": "display_data"
    }
   ],
   "source": [
    "# Find epoch with highest validation accuracy\n",
    "max_val_3 = max(history_3.history['val_accuracy'])\n",
    "max_index_3 = history_3.history['val_accuracy'].index(max_val_3)\n",
    "max_epoc_3 = max_index_3 + 1 # index starts at 0\n",
    "print(f\"Highest val accuracy: EPOC = {max_epoc_3}\")\n",
    "\n",
    "scores_model['pre_emb_GRU'] = {\n",
    "    'epoc': max_epoc_3,\n",
    "    'loss': np.round(history_3.history['loss'][max_index_3], 3),\n",
    "    'accuracy': np.round(history_3.history['accuracy'][max_index_3], 3),\n",
    "    'val_loss': np.round(history_3.history['val_loss'][max_index_3], 3),\n",
    "    'val_acc': np.round(history_3.history['val_accuracy'][max_index_3], 3)}\n",
    "\n",
    "print(f\"Embedding + GRU =              {scores_model['GRU']}\")\n",
    "print(f\"Pretrained Embedding + Dense = {scores_model['pre_emb']}\")\n",
    "print(f\"Pretrained Embedding + GRU =   {scores_model['pre_emb_GRU']}\")\n",
    "\n",
    "# Plot loss and accuracy\n",
    "plot_loss_acc(history_3.history)"
   ]
  },
  {
   "attachments": {},
   "cell_type": "markdown",
   "metadata": {},
   "source": [
    "# Retrain best model"
   ]
  },
  {
   "cell_type": "code",
   "execution_count": 73,
   "metadata": {},
   "outputs": [],
   "source": [
    "# Prepare data for retraining model 2\n",
    "test_set_2_r = datasets['train'].batch(32).prefetch(1)"
   ]
  },
  {
   "cell_type": "code",
   "execution_count": 74,
   "metadata": {},
   "outputs": [],
   "source": [
    "# Retrain model 2\n",
    "\n",
    "emb_layer = hub.KerasLayer(\n",
    "    \"https://tfhub.dev/google/nnlm-en-dim50/2\",\n",
    "    input_shape=[],  # input shape is a list\n",
    "    dtype=tf.string,\n",
    "    output_shape=[50],\n",
    "    # set \"trainable=True\" to perform transfer learning (fine-tune the model)\n",
    "    trainable=True)\n",
    "\n",
    "model_2_r = keras.models.Sequential([\n",
    "    emb_layer,\n",
    "\n",
    "    layers.Dense(16, use_bias=False),\n",
    "    layers.BatchNormalization(),\n",
    "    layers.Activation(activation=\"relu\"),\n",
    "    layers.Dropout(0.5),\n",
    "    \n",
    "    layers.Dense(1, activation=\"sigmoid\")\n",
    "])\n",
    "\n",
    "model_2_r.compile(\n",
    "    loss=keras.losses.BinaryCrossentropy(),\n",
    "    optimizer=keras.optimizers.Adam(learning_rate=0.01),\n",
    "    metrics=[\"accuracy\"]\n",
    ")"
   ]
  },
  {
   "cell_type": "code",
   "execution_count": 75,
   "metadata": {},
   "outputs": [
    {
     "name": "stdout",
     "output_type": "stream",
     "text": [
      "Model: \"sequential_3\"\n",
      "_________________________________________________________________\n",
      " Layer (type)                Output Shape              Param #   \n",
      "=================================================================\n",
      " keras_layer_2 (KerasLayer)  (None, 50)                48190600  \n",
      "                                                                 \n",
      " dense_4 (Dense)             (None, 16)                800       \n",
      "                                                                 \n",
      " batch_normalization_1 (Batc  (None, 16)               64        \n",
      " hNormalization)                                                 \n",
      "                                                                 \n",
      " activation_1 (Activation)   (None, 16)                0         \n",
      "                                                                 \n",
      " dropout_1 (Dropout)         (None, 16)                0         \n",
      "                                                                 \n",
      " dense_5 (Dense)             (None, 1)                 17        \n",
      "                                                                 \n",
      "=================================================================\n",
      "Total params: 48,191,481\n",
      "Trainable params: 48,191,449\n",
      "Non-trainable params: 32\n",
      "_________________________________________________________________\n",
      "None\n"
     ]
    }
   ],
   "source": [
    "print(model_2_r.summary())"
   ]
  },
  {
   "cell_type": "code",
   "execution_count": 76,
   "metadata": {},
   "outputs": [
    {
     "name": "stdout",
     "output_type": "stream",
     "text": [
      "782/782 [==============================] - 16s 20ms/step - loss: 0.3841 - accuracy: 0.8358\n"
     ]
    }
   ],
   "source": [
    "history_2_r = model_2_r.fit(\n",
    "    test_set_2_r,\n",
    "    epochs=1,\n",
    "    # batch_size=32, # alread done above\n",
    "    )"
   ]
  },
  {
   "cell_type": "code",
   "execution_count": 77,
   "metadata": {},
   "outputs": [
    {
     "name": "stdout",
     "output_type": "stream",
     "text": [
      "Loss = 0.384\n",
      "Accuracy': 0.836\n"
     ]
    }
   ],
   "source": [
    "print(f\"\"\"Loss = {np.round(history_2_r.history['loss'][-1], 3)}\n",
    "Accuracy': {np.round(history_2_r.history['accuracy'][-1], 3)}\"\"\")\n"
   ]
  },
  {
   "attachments": {},
   "cell_type": "markdown",
   "metadata": {},
   "source": [
    "# Test accuracy"
   ]
  },
  {
   "cell_type": "code",
   "execution_count": 78,
   "metadata": {},
   "outputs": [
    {
     "name": "stdout",
     "output_type": "stream",
     "text": [
      "There are films that make careers. For George Romero, it was NIGHT OF THE LIVING DEAD; for Kevin Smith, CLERKS; for Robert Rodriguez, EL MARIACHI. Add to that list Onur Tukel's absolutely amazing DING-A-LING-LESS. Flawless film-making, and as assured and as professional as any of the aforementioned movies. I haven't laughed this hard since I saw THE FULL MONTY. (And, even then, I don't think I laughed quite this hard... So to speak.) Tukel's talent is considerable: DING-A-LING-LESS is so chock full of double entendres that one would have to sit down with a copy of this script and do a line-by-line examination of it to fully appreciate the, uh, breadth and width of it. Every shot is beautifully composed (a clear sign of a sure-handed director), and the performances all around are solid (there's none of the over-the-top scenery chewing one might've expected from a film like this). DING-A-LING-LESS is a film whose time has come.\n",
      "Label: 1\n",
      "==================================================\n",
      "A blackly comic tale of a down-trodden priest, Nazarin showcases the economy that Luis Bunuel was able to achieve in being able to tell a deeply humanist fable with a minimum of fuss. As an output from his Mexican era of film making, it was an invaluable talent to possess, with little money and extremely tight schedules. Nazarin, however, surpasses many of Bunuel's previous Mexican films in terms of the acting (Francisco Rabal is excellent), narrative and theme.<br /><br />The theme, interestingly, is something that was explored again in Viridiana, made three years later in Spain. It concerns the individual's struggle for humanity and altruism amongst a society that rejects any notion of virtue. Father Nazarin, however, is portrayed more sympathetically than Sister Viridiana. Whereas the latter seems to choose charity because she wishes to atone for her (perceived) sins, Nazarin's whole existence and reason for being seems to be to help others, whether they (or we) like it or not. The film's last scenes, in which he casts doubt on his behaviour and, in a split second, has to choose between the life he has been leading or the conventional life that is expected of a priest, are so emotional because they concern his moral integrity and we are never quite sure whether it remains intact or not.<br /><br />This is a remarkable film and I would urge anyone interested in classic cinema to seek it out. It is one of Bunuel's most moving films, and encapsulates many of his obsessions: frustrated desire, mad love, religious hypocrisy etc. In my view 'Nazarin' is second only to 'The Exterminating Angel', in terms of his Mexican movies, and is certainly near the top of the list of Bunuel's total filmic output.\n",
      "Label: 1\n",
      "==================================================\n"
     ]
    }
   ],
   "source": [
    "for x, y in datasets[\"test\"].batch(2).take(1):\n",
    "    for review, label in zip(x, y):\n",
    "        print(review.numpy().decode(\"utf-8\"))\n",
    "        print(f\"Label: {label.numpy()}\")\n",
    "        print(\"=\"*50)"
   ]
  },
  {
   "cell_type": "code",
   "execution_count": 79,
   "metadata": {},
   "outputs": [
    {
     "name": "stdout",
     "output_type": "stream",
     "text": [
      "num test examples = 25000\n",
      "len(datasets['test']) = 25000\n"
     ]
    }
   ],
   "source": [
    "print(f\"num test examples = {info.splits['test'].num_examples}\")\n",
    "print(f\"len(datasets['test']) = {len(datasets['test'])}\")"
   ]
  },
  {
   "cell_type": "code",
   "execution_count": 80,
   "metadata": {},
   "outputs": [
    {
     "name": "stdout",
     "output_type": "stream",
     "text": [
      "<PrefetchDataset shapes: ((None,), (None,)), types: (tf.string, tf.int64)>\n",
      "<PrefetchDataset shapes: ((None,), (None,)), types: (tf.string, tf.int64)>\n"
     ]
    }
   ],
   "source": [
    "# Prepare the test set for model 2\n",
    "test_set_2 = datasets['test'].batch(32).prefetch(1)\n",
    "\n",
    "print(test_set_2)\n",
    "print(train_set_2)"
   ]
  },
  {
   "cell_type": "code",
   "execution_count": 81,
   "metadata": {},
   "outputs": [],
   "source": [
    "# Evaluate model 2 retrained\n",
    "m2r_test = model_2_r.evaluate(\n",
    "    test_set_2,\n",
    "    # batch_size=32, # alread done above\n",
    "    verbose=0)"
   ]
  },
  {
   "cell_type": "code",
   "execution_count": 82,
   "metadata": {},
   "outputs": [
    {
     "name": "stdout",
     "output_type": "stream",
     "text": [
      "Loss = 0.327\n",
      "Accuracy': 0.861\n"
     ]
    }
   ],
   "source": [
    "print(f\"\"\"Loss = {np.round(m2r_test[0], 3)}\n",
    "Accuracy': {np.round(m2r_test[1], 3)}\"\"\")"
   ]
  },
  {
   "attachments": {},
   "cell_type": "markdown",
   "metadata": {},
   "source": [
    "**TEST ACCURACY** of model_2 (Pretrained Embedding + Dense): ~0.861"
   ]
  }
 ],
 "metadata": {
  "kernelspec": {
   "display_name": "Python 3",
   "language": "python",
   "name": "python3"
  },
  "language_info": {
   "codemirror_mode": {
    "name": "ipython",
    "version": 3
   },
   "file_extension": ".py",
   "mimetype": "text/x-python",
   "name": "python",
   "nbconvert_exporter": "python",
   "pygments_lexer": "ipython3",
   "version": "3.9.5"
  },
  "orig_nbformat": 4
 },
 "nbformat": 4,
 "nbformat_minor": 2
}
